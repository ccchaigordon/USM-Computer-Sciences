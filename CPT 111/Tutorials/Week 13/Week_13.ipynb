{
  "nbformat": 4,
  "nbformat_minor": 0,
  "metadata": {
    "colab": {
      "provenance": []
    },
    "kernelspec": {
      "name": "python3",
      "display_name": "Python 3"
    },
    "language_info": {
      "name": "python"
    }
  },
  "cells": [
    {
      "cell_type": "markdown",
      "source": [
        "<p>Question 1:\n",
        "<pre>\n",
        "cout << &count;\n",
        "</pre>\n",
        "</p>\n",
        "<p>\n",
        "Question 2:\n",
        "<pre>\n",
        "float *fltPtr = nullptr;\n",
        "</pre>\n",
        "</p>\n",
        "<p>\n",
        "Question 3:\n",
        "<pre>\n",
        "7\n",
        "</pre>\n",
        "If iptr is sent to cout, the memory address will be sent instead since iptr is the pointer to the variable.\n",
        "</p><br>\n",
        "<p>\n",
        "Question 4: The indirection operator is used to dereference the pointer ptr pointing to x, thus allowing the access to the value of x.\n",
        "</p><br>\n",
        "<p>Question 5:\n",
        "<pre>\n",
        "50 60 70\n",
        "500 300 140\n",
        "</pre>\n",
        "</p><br>\n",
        "<p>\n",
        "Question 6:\n",
        "<pre>\n",
        "for (int x = 0; x < 100; x++)\n",
        "  cout << *(arr + x) << endl;\n",
        "</pre>\n",
        "</p>\n",
        "<p>\n",
        "Question 7:\n",
        "<pre>\n",
        "0x6ffe3c\n",
        "</pre>\n",
        "</p><br>\n",
        "<p>\n",
        "Question 8:<br>\n",
        "a) Valid<br>\n",
        "b) Valid<br>\n",
        "c) Invalid, address cannot be operated with division<br>\n",
        "d) Invalid, address cannot be operated with multiplication<br>\n",
        "e) Valid\n",
        "</p><br>\n",
        "<p>\n",
        "Question 9:<br>\n",
        "a) Valid<br>\n",
        "b) Valid<br>\n",
        "c) Invalid, different datatype<br>\n",
        "d) Valid<br>\n",
        "e) Invalid, variable is declared after the pointer\n",
        "</p><br>\n",
        "<p>\n",
        "Question 10:<br>\n",
        "<pre>\n",
        "8\n",
        "</pre>\n",
        "</p><br>\n",
        "<p>\n",
        "Question 11:\n",
        "</p>"
      ],
      "metadata": {
        "id": "vX2jEInjcBqn"
      }
    },
    {
      "cell_type": "code",
      "source": [
        "%%writefile q11.cpp\n",
        "#include <iostream>\n",
        "\n",
        "using namespace std;\n",
        "\n",
        "// The doSomething function\n",
        "int doSomething(int *x, int *y)\n",
        "{\n",
        "    int temp = *x;\n",
        "    *x = *y * 10;\n",
        "    *y = temp * 10;\n",
        "    return *x + *y;\n",
        "}\n",
        "\n",
        "int main()\n",
        "{\n",
        "    int x = 1, y = 2, result = 0;\n",
        "    result = doSomething(&x, &y);\n",
        "    cout << result;\n",
        "\n",
        "    return 0;\n",
        "}"
      ],
      "metadata": {
        "colab": {
          "base_uri": "https://localhost:8080/"
        },
        "id": "OER8I4MackiJ",
        "outputId": "022a0c67-64e0-43d8-a288-ca223c054c48"
      },
      "execution_count": null,
      "outputs": [
        {
          "output_type": "stream",
          "name": "stdout",
          "text": [
            "Writing q11.cpp\n"
          ]
        }
      ]
    },
    {
      "cell_type": "code",
      "source": [
        "%%shell\n",
        "g++ q11.cpp -o q11\n",
        "./q11"
      ],
      "metadata": {
        "colab": {
          "base_uri": "https://localhost:8080/"
        },
        "id": "5OkjcdgKcn7j",
        "outputId": "f3f15b64-41ed-41d0-d863-462c6579dba7"
      },
      "execution_count": null,
      "outputs": [
        {
          "output_type": "stream",
          "name": "stdout",
          "text": [
            "30"
          ]
        },
        {
          "output_type": "execute_result",
          "data": {
            "text/plain": []
          },
          "metadata": {},
          "execution_count": 2
        }
      ]
    },
    {
      "cell_type": "markdown",
      "source": [
        "<p>Question 12</p>"
      ],
      "metadata": {
        "id": "jKdyA1Ajc37M"
      }
    },
    {
      "cell_type": "code",
      "source": [
        "%%writefile q12.cpp\n",
        "#include <iostream>\n",
        "\n",
        "using namespace std;\n",
        "\n",
        "int *point()\n",
        "{\n",
        "    int size;\n",
        "    cout << \"Enter the size of array: \";\n",
        "    cin >> size;\n",
        "    int *arr = new int[size];\n",
        "    return arr;\n",
        "}\n",
        "\n",
        "int main()\n",
        "{\n",
        "    int x = 1, y = 2, *result = nullptr, i;\n",
        "    result = point();\n",
        "    cin >> i;\n",
        "    cout << result[i];\n",
        "    delete[] result;\n",
        "\n",
        "    return 0;\n",
        "}"
      ],
      "metadata": {
        "colab": {
          "base_uri": "https://localhost:8080/"
        },
        "id": "sM3AwEozgSjr",
        "outputId": "3af4c2de-3977-44c0-e4ca-ba7686dfa202"
      },
      "execution_count": null,
      "outputs": [
        {
          "output_type": "stream",
          "name": "stdout",
          "text": [
            "Overwriting q12.cpp\n"
          ]
        }
      ]
    },
    {
      "cell_type": "code",
      "source": [
        "%%shell\n",
        "g++ q12.cpp -o q12\n",
        "./q12"
      ],
      "metadata": {
        "colab": {
          "base_uri": "https://localhost:8080/"
        },
        "id": "vdDWvyR4gUX6",
        "outputId": "a08addcc-5460-4e15-95e8-f1fb1a682c92"
      },
      "execution_count": null,
      "outputs": [
        {
          "output_type": "stream",
          "name": "stdout",
          "text": [
            "Enter the size of array: 10\n",
            "9\n",
            "0"
          ]
        },
        {
          "output_type": "execute_result",
          "data": {
            "text/plain": []
          },
          "metadata": {},
          "execution_count": 7
        }
      ]
    },
    {
      "cell_type": "markdown",
      "source": [
        "<p>Question 13</p>"
      ],
      "metadata": {
        "id": "gDo-3L37oCzx"
      }
    },
    {
      "cell_type": "code",
      "source": [
        "%%writefile q13.cpp\n",
        "#include <iostream>\n",
        "\n",
        "using namespace std;\n",
        "\n",
        "int *score(int &);\n",
        "void sort(int *, int);\n",
        "float average(int *, int);\n",
        "\n",
        "int main()\n",
        "{\n",
        "    float avgScore = 0;\n",
        "    int scoreSize = 0;\n",
        "    int *scores = score(scoreSize);\n",
        "    sort(scores, scoreSize);\n",
        "    for (int i = 0; i < scoreSize; i++)\n",
        "    {\n",
        "        cout << *(scores + i) << \" \";\n",
        "    }\n",
        "    avgScore = average(scores, scoreSize);\n",
        "    delete[] scores;\n",
        "    cout << \"\\nThe average score is: \" << avgScore << endl;\n",
        "\n",
        "    return 0;\n",
        "}\n",
        "\n",
        "int *score(int &size)\n",
        "{\n",
        "    cout << \"Enter the number of test scores: \";\n",
        "    cin >> size;\n",
        "    int *testScore = new int[size];\n",
        "    for (int i = 0; i < size; i++)\n",
        "    {\n",
        "        cout << \"Enter test score \" << i + 1 << \": \";\n",
        "        cin >> *(testScore + i);\n",
        "        if (*(testScore + i) < 0)\n",
        "        {\n",
        "          cout << \"Please enter only positive values!\\n\";\n",
        "          i--;\n",
        "        }\n",
        "    }\n",
        "    return testScore;\n",
        "}\n",
        "\n",
        "void sort(int *unsorted, int size)\n",
        "{\n",
        "    int temp;\n",
        "    for (int i = 0; i < size; i++)\n",
        "    {\n",
        "        for (int j = 0; j < size - i - 1; j++)\n",
        "        {\n",
        "            if (*(unsorted + j) > *(unsorted + j + 1))\n",
        "            {\n",
        "                temp = *(unsorted + j);\n",
        "                *(unsorted + j) = *(unsorted + j + 1);\n",
        "                *(unsorted + j + 1) = temp;\n",
        "            }\n",
        "        }\n",
        "    }\n",
        "}\n",
        "\n",
        "float average(int *sorted, int size)\n",
        "{\n",
        "    float sum = 0.0;\n",
        "    for (int i = 0; i < size; i++)\n",
        "    {\n",
        "        sum += *(sorted + i);\n",
        "    }\n",
        "    return sum / size;\n",
        "}"
      ],
      "metadata": {
        "colab": {
          "base_uri": "https://localhost:8080/"
        },
        "id": "Byq-SY73oEtz",
        "outputId": "b714f61c-f5d5-4be7-9b85-c1516f2df960"
      },
      "execution_count": null,
      "outputs": [
        {
          "output_type": "stream",
          "name": "stdout",
          "text": [
            "Writing q13.cpp\n"
          ]
        }
      ]
    },
    {
      "cell_type": "code",
      "source": [
        "%%shell\n",
        "g++ q13.cpp -o q13\n",
        "./q13"
      ],
      "metadata": {
        "colab": {
          "base_uri": "https://localhost:8080/"
        },
        "id": "n_twEWUxoGVQ",
        "outputId": "91f662eb-dfd5-4018-ab93-5a82898dd386"
      },
      "execution_count": null,
      "outputs": [
        {
          "output_type": "stream",
          "name": "stdout",
          "text": [
            "Enter the number of test scores: 3\n",
            "Enter test score 1: 100\n",
            "Enter test score 2: 94\n",
            "Enter test score 3: 88\n",
            "88 94 100 \n",
            "The average score is: 94\n"
          ]
        },
        {
          "output_type": "execute_result",
          "data": {
            "text/plain": []
          },
          "metadata": {},
          "execution_count": 7
        }
      ]
    },
    {
      "cell_type": "markdown",
      "source": [
        "<p>Question 14:</p>"
      ],
      "metadata": {
        "id": "H6PgwiCSzqrK"
      }
    },
    {
      "cell_type": "code",
      "source": [
        "%%writefile q14.cpp\n",
        "#include <iostream>\n",
        "\n",
        "using namespace std;\n",
        "\n",
        "int *score(int &);\n",
        "void sort(int *, int);\n",
        "float average(int *, int);\n",
        "\n",
        "int main()\n",
        "{\n",
        "    float avgScore = 0;\n",
        "    int scoreSize = 0;\n",
        "    int *scores = score(scoreSize);\n",
        "    sort(scores, scoreSize);\n",
        "    for (int i = 0; i < scoreSize; i++)\n",
        "    {\n",
        "        cout << *(scores + i) << \" \";\n",
        "    }\n",
        "    avgScore = average(scores, scoreSize);\n",
        "    delete[] scores;\n",
        "    cout << \"\\nThe average score is: \" << avgScore << endl;\n",
        "\n",
        "    return 0;\n",
        "}\n",
        "\n",
        "int *score(int &size)\n",
        "{\n",
        "    cout << \"Enter the number of test scores: \";\n",
        "    cin >> size;\n",
        "    int *testScore = new int[size];\n",
        "    for (int i = 0; i < size; i++)\n",
        "    {\n",
        "        cout << \"Enter test score \" << i + 1 << \": \";\n",
        "        cin >> *(testScore + i);\n",
        "        if (*(testScore + i) < 0)\n",
        "        {\n",
        "          cout << \"Please enter only positive values!\\n\";\n",
        "          i--;\n",
        "        }\n",
        "    }\n",
        "    return testScore;\n",
        "}\n",
        "\n",
        "void sort(int *unsorted, int size)\n",
        "{\n",
        "    int temp;\n",
        "    for (int i = 0; i < size; i++)\n",
        "    {\n",
        "        for (int j = 0; j < size - i - 1; j++)\n",
        "        {\n",
        "            if (*(unsorted + j) > *(unsorted + j + 1))\n",
        "            {\n",
        "                temp = *(unsorted + j);\n",
        "                *(unsorted + j) = *(unsorted + j + 1);\n",
        "                *(unsorted + j + 1) = temp;\n",
        "            }\n",
        "        }\n",
        "    }\n",
        "}\n",
        "\n",
        "float average(int *sorted, int size)\n",
        "{\n",
        "    float sum = 0.0;\n",
        "    for (int i = 1; i < size; i++)\n",
        "    {\n",
        "        sum += *(sorted + i);\n",
        "    }\n",
        "    return sum / (size - 1);\n",
        "}"
      ],
      "metadata": {
        "colab": {
          "base_uri": "https://localhost:8080/"
        },
        "id": "1jwejCINzsZh",
        "outputId": "913877cb-408b-427c-ecea-116a0ecb410b"
      },
      "execution_count": null,
      "outputs": [
        {
          "output_type": "stream",
          "name": "stdout",
          "text": [
            "Overwriting q14.cpp\n"
          ]
        }
      ]
    },
    {
      "cell_type": "code",
      "source": [
        "%%shell\n",
        "g++ q14.cpp -o q14\n",
        "./q14"
      ],
      "metadata": {
        "colab": {
          "base_uri": "https://localhost:8080/"
        },
        "id": "T-Ho8GHfzuzI",
        "outputId": "afa745b3-073d-43a9-d5a5-8d1184dce09d"
      },
      "execution_count": null,
      "outputs": [
        {
          "output_type": "stream",
          "name": "stdout",
          "text": [
            "Enter the number of test scores: 3\n",
            "Enter test score 1: 100\n",
            "Enter test score 2: 94\n",
            "Enter test score 3: 70\n",
            "70 94 100 \n",
            "The average score is: 97\n"
          ]
        },
        {
          "output_type": "execute_result",
          "data": {
            "text/plain": []
          },
          "metadata": {},
          "execution_count": 9
        }
      ]
    }
  ]
}