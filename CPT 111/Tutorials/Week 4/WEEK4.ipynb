{
  "nbformat": 4,
  "nbformat_minor": 0,
  "metadata": {
    "colab": {
      "provenance": []
    },
    "kernelspec": {
      "name": "python3",
      "display_name": "Python 3"
    },
    "language_info": {
      "name": "python"
    }
  },
  "cells": [
    {
      "cell_type": "markdown",
      "source": [
        "**Question 1: Absolute of a Number**"
      ],
      "metadata": {
        "id": "3Tf5q9RBUxDU"
      }
    },
    {
      "cell_type": "code",
      "source": [
        "%%writefile week4q1.cpp\n",
        "#include <iostream>\n",
        "\n",
        "using namespace std;\n",
        "\n",
        "int main()\n",
        "{\n",
        "  float num, abs;\n",
        "  cout << \"Enter a number and its absolute value will be shown: \";\n",
        "  cin >> num;\n",
        "  if (num >= 0)\n",
        "  {\n",
        "    abs = num;\n",
        "  }\n",
        "  else\n",
        "  {\n",
        "    abs = -num;\n",
        "  }\n",
        "  //abs = (num >= 0) ? num : -num;\n",
        "  cout << \"The absolute value of \" << num << \" is \" << abs << \".\";\n",
        "\n",
        "  return 0;\n",
        "}"
      ],
      "metadata": {
        "colab": {
          "base_uri": "https://localhost:8080/"
        },
        "id": "iM-0FWXcU0UK",
        "outputId": "5b9535bf-50a0-4918-c395-f64a2d3d96ae"
      },
      "execution_count": null,
      "outputs": [
        {
          "output_type": "stream",
          "name": "stdout",
          "text": [
            "Writing week4q1.cpp\n"
          ]
        }
      ]
    },
    {
      "cell_type": "code",
      "source": [
        "!g++ week4q1.cpp -o week4q1\n",
        "!./week4q1"
      ],
      "metadata": {
        "colab": {
          "base_uri": "https://localhost:8080/"
        },
        "id": "2Gjtb0RKWhQF",
        "outputId": "6e223ae3-d02a-45d5-aaf6-6e90e14b6170"
      },
      "execution_count": null,
      "outputs": [
        {
          "output_type": "stream",
          "name": "stdout",
          "text": [
            "Enter a number and its absolute value will be shown: -77\n",
            "The absolute value of -77 is 77."
          ]
        }
      ]
    },
    {
      "cell_type": "markdown",
      "source": [
        "**Question 2: Minimum/Maximum**"
      ],
      "metadata": {
        "id": "38d8gsbKXCSo"
      }
    },
    {
      "cell_type": "code",
      "source": [
        "%%writefile week4q2.cpp\n",
        "#include <iostream>\n",
        "\n",
        "using namespace std;\n",
        "\n",
        "int main()\n",
        "{\n",
        "  double num1, num2;\n",
        "  cout << \"Enter two numbers for comparison: \";\n",
        "  cin >> num1 >> num2;\n",
        "  //conditional statement\n",
        "  if (num1 > num2)\n",
        "  {\n",
        "    cout << num1 << \" is greater than \" << num2 << \".\";\n",
        "  }\n",
        "  else\n",
        "  {\n",
        "    cout << num2 << \" is greater than \" << num1 << \".\";\n",
        "  }\n",
        "  //(num1 > num2) ? cout << num1 << \" is greater than \" << num2 << \".\" : cout << num2 << \" is greater than \" << num1 << \".\";\n",
        "\n",
        "  return 0;\n",
        "}"
      ],
      "metadata": {
        "colab": {
          "base_uri": "https://localhost:8080/"
        },
        "id": "CTN99iGUXGno",
        "outputId": "a68eb517-1f40-4ff5-b16a-78395e8cdf3f"
      },
      "execution_count": null,
      "outputs": [
        {
          "output_type": "stream",
          "name": "stdout",
          "text": [
            "Overwriting week4q2.cpp\n"
          ]
        }
      ]
    },
    {
      "cell_type": "code",
      "source": [
        "!g++ week4q2.cpp -o week4q2\n",
        "!./week4q2"
      ],
      "metadata": {
        "colab": {
          "base_uri": "https://localhost:8080/"
        },
        "id": "zdyyu0GlYMOs",
        "outputId": "9d832936-0d0c-4ce7-af3f-5909b10eccd3"
      },
      "execution_count": null,
      "outputs": [
        {
          "output_type": "stream",
          "name": "stdout",
          "text": [
            "Enter two numbers for comparison: 9\n",
            "88\n",
            "88 is greater than 9."
          ]
        }
      ]
    },
    {
      "cell_type": "markdown",
      "source": [
        "**Question 3: Age Check**"
      ],
      "metadata": {
        "id": "YtF7fM_FYajs"
      }
    },
    {
      "cell_type": "code",
      "source": [
        "%%writefile week4q3.cpp\n",
        "#include <iostream>\n",
        "\n",
        "using namespace std;\n",
        "\n",
        "int main()\n",
        "{\n",
        "  int birth, year, age;\n",
        "  cout << \"Input current year: \";\n",
        "  cin >> year;\n",
        "  cout << \"Input your brith year: \";\n",
        "  cin >> birth;\n",
        "  age = year - birth;\n",
        "  if (age >= 18 && age <= 28)\n",
        "  {\n",
        "    cout << \"You are \" << age << \" years old and you are eligible!\";\n",
        "  }\n",
        "  else\n",
        "  {\n",
        "    cout << \"You are \" << age << \" years old and you are not eligible!\";\n",
        "  }\n",
        "  //(age >= 18 && age <= 28) ? cout << \"You are \" << age << \" years old and you are eligible!\" : cout << \"You are \" << age << \" years old and you are not eligible!\";\n",
        "\n",
        "  return 0;\n",
        "}"
      ],
      "metadata": {
        "colab": {
          "base_uri": "https://localhost:8080/"
        },
        "id": "aqTYMTJRYmWw",
        "outputId": "9be3c794-62ef-4c31-cbea-1d5c54046117"
      },
      "execution_count": null,
      "outputs": [
        {
          "output_type": "stream",
          "name": "stdout",
          "text": [
            "Overwriting week4q3.cpp\n"
          ]
        }
      ]
    },
    {
      "cell_type": "code",
      "source": [
        "!g++ week4q3.cpp -o week4q3\n",
        "!./week4q3"
      ],
      "metadata": {
        "colab": {
          "base_uri": "https://localhost:8080/"
        },
        "id": "HZMNgdgAZaMm",
        "outputId": "5a1fbf24-0fc8-4c91-b192-a3d61f678d39"
      },
      "execution_count": null,
      "outputs": [
        {
          "output_type": "stream",
          "name": "stdout",
          "text": [
            "Input current year: 2023\n",
            "Input your brith year: 2003\n",
            "You are 20 years old and you are eligible!"
          ]
        }
      ]
    },
    {
      "cell_type": "markdown",
      "source": [
        "**Question 4: Area of Rectangles**"
      ],
      "metadata": {
        "id": "Oahs54U7aVTk"
      }
    },
    {
      "cell_type": "code",
      "source": [
        "%%writefile week4q4.cpp\n",
        "#include <iostream>\n",
        "\n",
        "using namespace std;\n",
        "\n",
        "int main()\n",
        "{\n",
        "  float area1, area2, length, width;\n",
        "  cout << \"Input the length and width for the first rectangle (cm): \";\n",
        "  cin >> length >> width;\n",
        "  area1 = length * width;\n",
        "  cout << \"Input the length and width for the second rectangle (cm): \";\n",
        "  cin >> length >> width;\n",
        "  area2 = length * width;\n",
        "  if (area1 > area2)\n",
        "  {\n",
        "    cout << \"Rectangle 1 has area of \" << area1 << \"cm^2 and is bigger than rectangle 2 with area \" << area2 << \"cm^2.\";\n",
        "  }\n",
        "  else if (area2 > area1)\n",
        "  {\n",
        "    cout << \"Rectangle 2 has area of \" << area2 << \"cm^2 and is bigger than rectangle 1 with area \" << area1 << \"cm^2.\";\n",
        "  }\n",
        "  else\n",
        "  {\n",
        "    cout << \"Rectangle 1 has area of \" << area1 << \"cm^2 and has the same area as rectangle 2 with area \" << area2 << \"cm^2.\";\n",
        "  }\n",
        "\n",
        "  return 0;\n",
        "}"
      ],
      "metadata": {
        "colab": {
          "base_uri": "https://localhost:8080/"
        },
        "id": "LhX7umBkaZN1",
        "outputId": "859d0b0f-bbc0-49fd-9fb3-79d4c34014a9"
      },
      "execution_count": null,
      "outputs": [
        {
          "output_type": "stream",
          "name": "stdout",
          "text": [
            "Overwriting week4q4.cpp\n"
          ]
        }
      ]
    },
    {
      "cell_type": "code",
      "source": [
        "!g++ week4q4.cpp -o week4q4\n",
        "!./week4q4"
      ],
      "metadata": {
        "colab": {
          "base_uri": "https://localhost:8080/"
        },
        "id": "BPGvHojRdXmt",
        "outputId": "5e4c6c79-a5f1-4b1a-fa02-77c11e0e57e2"
      },
      "execution_count": null,
      "outputs": [
        {
          "output_type": "stream",
          "name": "stdout",
          "text": [
            "Input the length and width for the first rectangle (cm): 99.9\n",
            "88.8\n",
            "Input the length and width for the second rectangle (cm): 88.8\n",
            "77.7\n",
            "Rectangle 1 has area of 8871.12cm^2 and is bigger than rectangle 2 with area 6899.76cm^2."
          ]
        }
      ]
    },
    {
      "cell_type": "markdown",
      "source": [
        "**Question 5: Body Mass Index**"
      ],
      "metadata": {
        "id": "5mp-j161giqX"
      }
    },
    {
      "cell_type": "code",
      "source": [
        "%%writefile week4q5.cpp\n",
        "#include <iostream>\n",
        "\n",
        "using namespace std;\n",
        "\n",
        "int main()\n",
        "{\n",
        "  float weight, height, bmi;\n",
        "  cout << \"Enter your weight in pound: \";\n",
        "  cin >> weight;\n",
        "  cout << \"Enter your height in inches: \";\n",
        "  cin >> height;\n",
        "  bmi = weight * 703 / (height * height);\n",
        "  if (bmi < 18.5)\n",
        "  {\n",
        "    cout << \"Your BMI is \" << bmi << \" and you are underweight.\";\n",
        "  }\n",
        "  else if (bmi > 25)\n",
        "  {\n",
        "    cout << \"Your BMI is \" << bmi << \" and you are overweight.\";\n",
        "  }\n",
        "  else{\n",
        "    cout << \"Your BMI is \" << bmi << \" and your weight is optimal.\";\n",
        "  }\n",
        "\n",
        "  return 0;\n",
        "}"
      ],
      "metadata": {
        "colab": {
          "base_uri": "https://localhost:8080/"
        },
        "id": "SEtMGN7RgnMn",
        "outputId": "d76169fb-66f2-4708-edd0-4f69e3d33205"
      },
      "execution_count": null,
      "outputs": [
        {
          "output_type": "stream",
          "name": "stdout",
          "text": [
            "Writing week4q5.cpp\n"
          ]
        }
      ]
    },
    {
      "cell_type": "code",
      "source": [
        "!g++ week4q5.cpp -o week4q5\n",
        "!./week4q5"
      ],
      "metadata": {
        "colab": {
          "base_uri": "https://localhost:8080/"
        },
        "id": "LlRJLNDtpS07",
        "outputId": "8dd896a4-5535-41f5-d378-062fbb4f53ff"
      },
      "execution_count": null,
      "outputs": [
        {
          "output_type": "stream",
          "name": "stdout",
          "text": [
            "Enter your weight in pound: 147.71\n",
            "Enter your height in inches: 68.1102\n",
            "Your BMI is 22.3842 and your weight is optimal."
          ]
        }
      ]
    },
    {
      "cell_type": "markdown",
      "source": [
        "**Question 6: Color Mixer**"
      ],
      "metadata": {
        "id": "nFrUaLn0p10Q"
      }
    },
    {
      "cell_type": "code",
      "source": [
        "%%writefile week4q6.cpp\n",
        "#include <iostream>\n",
        "#include <string>\n",
        "using namespace std;\n",
        "\n",
        "int main()\n",
        "{\n",
        "  const string red = \"red\", yellow = \"yellow\", blue = \"blue\";\n",
        "  string color1, color2;\n",
        "  cout << \"Enter two colors to be mixed (red, yellow, blue): \";\n",
        "  cin >> color1 >> color2;\n",
        "  if ((color1 != red && color1 != yellow && color1 != blue) || (color2 != red && color2 != yellow && color2 != blue) || (color1 == color2))\n",
        "  {\n",
        "    if ((color1 != red && color1 != yellow && color1 != blue) || (color2 != red && color2 != yellow && color2 != blue))\n",
        "    {\n",
        "      cout << \"Invalid input! Please only enter either red, yellow or blue.\\n\";\n",
        "    }\n",
        "    else\n",
        "    {\n",
        "      cout << \"Please enter two different colors.\\n\";\n",
        "    }\n",
        "  }\n",
        "  else\n",
        "  {\n",
        "    if ((color1 == red && color2 == yellow) || (color2 == red && color1 == yellow))\n",
        "    {\n",
        "      cout << \"The mixture of \" << color1 << \" and \" << color2 << \" is orange.\";\n",
        "    }\n",
        "    else if ((color1 == red && color2 == blue) || (color2 == red && color1 == blue))\n",
        "    {\n",
        "      cout << \"The mixture of \" << color1 << \" and \" << color2 << \" is purple.\";\n",
        "    }\n",
        "    else\n",
        "    {\n",
        "      cout << \"The mixture of \" << color1 << \" and \" << color2 << \" is green.\";\n",
        "    }\n",
        "  }\n",
        "\n",
        "  return 0;\n",
        "}"
      ],
      "metadata": {
        "id": "JHPcma_Ip67X",
        "colab": {
          "base_uri": "https://localhost:8080/"
        },
        "outputId": "1258d241-d203-41f6-fcfc-a93d57613a1a"
      },
      "execution_count": null,
      "outputs": [
        {
          "output_type": "stream",
          "name": "stdout",
          "text": [
            "Writing week4q6.cpp\n"
          ]
        }
      ]
    },
    {
      "cell_type": "code",
      "source": [
        "!g++ week4q6.cpp -o week4q6\n",
        "!./week4q6"
      ],
      "metadata": {
        "colab": {
          "base_uri": "https://localhost:8080/"
        },
        "id": "nudAY0RoRqfi",
        "outputId": "f0347f4e-c1ec-4a5f-d6f8-374b4c26c343"
      },
      "execution_count": null,
      "outputs": [
        {
          "output_type": "stream",
          "name": "stdout",
          "text": [
            "Enter two colors to be mixed (red, yellow, blue): red yellow\n",
            "The mixture of red and yellow is orange."
          ]
        }
      ]
    },
    {
      "cell_type": "markdown",
      "source": [
        "**Question 7: Math Tutor**"
      ],
      "metadata": {
        "id": "0M1hpikMSSWo"
      }
    },
    {
      "cell_type": "code",
      "source": [
        "%%writefile week4q7.cpp\n",
        "#include <iostream>\n",
        "#include <ctime>\n",
        "#include <cstdlib>\n",
        "using namespace std;\n",
        "\n",
        "int main()\n",
        "{\n",
        "  int num1, num2, studentAns, actualAns;\n",
        "  unsigned seed = time(0);\n",
        "  srand(seed);\n",
        "  num1 = rand() % 1000;\n",
        "  num2 = rand() % 1000;\n",
        "  cout << \"Please enter your answer for \" << num1 << \" + \" << num2 << \": \";\n",
        "  cin >> studentAns;\n",
        "  actualAns = num1 + num2;\n",
        "  (studentAns == actualAns) ? cout << \"Congratulations! \" << num1 << \" + \" << num2 << \" is indeed \" << actualAns << \".\" : cout << \"Oops, the correct answer for \" << num1 << \" + \" << num2 << \" is \" << actualAns << \".\";\n",
        "\n",
        "  return 0;\n",
        "}"
      ],
      "metadata": {
        "colab": {
          "base_uri": "https://localhost:8080/"
        },
        "id": "tunvSP7lSWrl",
        "outputId": "0ae236bb-4c44-42ec-d912-8551c051e5f7"
      },
      "execution_count": null,
      "outputs": [
        {
          "output_type": "stream",
          "name": "stdout",
          "text": [
            "Overwriting week4q7.cpp\n"
          ]
        }
      ]
    },
    {
      "cell_type": "code",
      "source": [
        "!g++ week4q7.cpp -o week4q7\n",
        "!./week4q7"
      ],
      "metadata": {
        "colab": {
          "base_uri": "https://localhost:8080/"
        },
        "id": "a3lKpeSmT7yM",
        "outputId": "85f2df88-e3b7-4c4b-b154-4d63d4c20b70"
      },
      "execution_count": null,
      "outputs": [
        {
          "output_type": "stream",
          "name": "stdout",
          "text": [
            "Please enter your answer for 440 + 366: 806\n",
            "Congratulations! 440 + 366 is indeed 806."
          ]
        }
      ]
    },
    {
      "cell_type": "markdown",
      "source": [
        "**Question 8: Shipping Charges**"
      ],
      "metadata": {
        "id": "Xj8vohEuUU8m"
      }
    },
    {
      "cell_type": "code",
      "source": [
        "%%writefile week4q8.cpp\n",
        "#include <iostream>\n",
        "#include <iomanip>\n",
        "\n",
        "using namespace std;\n",
        "\n",
        "int main()\n",
        "{\n",
        "  float weight, distance, charge;\n",
        "  cout << \"Please enter your package weight (kg): \";\n",
        "  cin >> weight;\n",
        "  cout << \"Please enter the distance to be shipped (miles): \";\n",
        "  cin >> distance;\n",
        "  if (weight > 0 && weight <= 20 && distance >= 10 && distance <= 3000)\n",
        "  {\n",
        "    if (weight <= 2)\n",
        "    {\n",
        "      charge =  1.1 * (distance / 500);\n",
        "    }\n",
        "    else if (weight <= 6)\n",
        "    {\n",
        "      charge = 2.2 * (distance / 500);\n",
        "    }\n",
        "    else if (weight <= 10)\n",
        "    {\n",
        "      charge = 3.7 * (distance / 500);\n",
        "    }\n",
        "    else\n",
        "    {\n",
        "      charge = 4.8 * (distance / 500);\n",
        "    }\n",
        "    cout << \"Your shipping charge is $\" << fixed << setprecision(2) << charge << \".\";\n",
        "  }\n",
        "  else\n",
        "  {\n",
        "    if ((weight <= 0 && weight <= 20) && (distance < 10 || distance > 3000))\n",
        "    {\n",
        "      cout << \"Both your package weight and shipping distance are not within our support range.\";\n",
        "    }\n",
        "    else if (distance < 10 || distance > 3000)\n",
        "    {\n",
        "      cout << \"Your package shipping distance is not within our supported range.\";\n",
        "    }\n",
        "    else\n",
        "    {\n",
        "      cout << \"Your package weight is not within our support range.\";\n",
        "    }\n",
        "  }\n",
        "\n",
        "  return 0;\n",
        "}"
      ],
      "metadata": {
        "colab": {
          "base_uri": "https://localhost:8080/"
        },
        "id": "K8wc60FyUtBi",
        "outputId": "63ec4327-79b4-41e2-e28c-2921669a15e3"
      },
      "execution_count": null,
      "outputs": [
        {
          "output_type": "stream",
          "name": "stdout",
          "text": [
            "Overwriting week4q8.cpp\n"
          ]
        }
      ]
    },
    {
      "cell_type": "code",
      "source": [
        "!g++ week4q8.cpp -o week4q8\n",
        "!./week4q8"
      ],
      "metadata": {
        "colab": {
          "base_uri": "https://localhost:8080/"
        },
        "id": "rpRAU4aNcOId",
        "outputId": "84b4b60e-2e76-46dc-cae4-932bb9e531c0"
      },
      "execution_count": null,
      "outputs": [
        {
          "output_type": "stream",
          "name": "stdout",
          "text": [
            "Please enter your package weight (kg): 20\n",
            "Please enter the distance to be shipped (miles): 3000\n",
            "Your shipping charge is $28.80."
          ]
        }
      ]
    },
    {
      "cell_type": "markdown",
      "source": [
        "**Question 9: Negative Split**"
      ],
      "metadata": {
        "id": "ex4atcHkeJxa"
      }
    },
    {
      "cell_type": "code",
      "source": [
        "%%writefile week4q9.cpp\n",
        "#include <iostream>\n",
        "\n",
        "using namespace std;\n",
        "\n",
        "int main()\n",
        "{\n",
        "  float firstTime, secondTime, totalTime;\n",
        "  cout << \"Enter your first half of race time: \";\n",
        "  cin >> firstTime;\n",
        "  cout << \"Enter your total race time: \";\n",
        "  cin >> totalTime;\n",
        "  secondTime = totalTime - firstTime;\n",
        "  if (firstTime > 0 && totalTime > 0)\n",
        "  {\n",
        "    if (secondTime < firstTime)\n",
        "    {\n",
        "      cout << \"Congratulations! You've done a negative split!\\n\";\n",
        "    }\n",
        "    else\n",
        "    {\n",
        "      cout << \"You didn't manage to perform a negative split. Don't give up and try harder!\";\n",
        "    }\n",
        "  }\n",
        "  else\n",
        "  {\n",
        "    cout << \"Invalid time input!\";\n",
        "  }\n",
        "\n",
        "  return 0;\n",
        "}"
      ],
      "metadata": {
        "colab": {
          "base_uri": "https://localhost:8080/"
        },
        "id": "JHTbaG38ePFe",
        "outputId": "e7db3386-5b84-4769-c285-b5f9bfd30edb"
      },
      "execution_count": null,
      "outputs": [
        {
          "output_type": "stream",
          "name": "stdout",
          "text": [
            "Overwriting week4q9.cpp\n"
          ]
        }
      ]
    },
    {
      "cell_type": "code",
      "source": [
        "!g++ week4q9.cpp -o week4q9\n",
        "!./week4q9"
      ],
      "metadata": {
        "colab": {
          "base_uri": "https://localhost:8080/"
        },
        "id": "A_fmc5DShXB8",
        "outputId": "6f00b45d-41e3-4b51-892a-7285a316408e"
      },
      "execution_count": null,
      "outputs": [
        {
          "output_type": "stream",
          "name": "stdout",
          "text": [
            "Enter your first half of race time: 8.9\n",
            "Enter your total race time: 13.6\n",
            "Congratulations! You've done a negative split!\n"
          ]
        }
      ]
    },
    {
      "cell_type": "markdown",
      "source": [
        "**Question 10: The Speed of Sound in Gases**"
      ],
      "metadata": {
        "id": "BmNp-Mw_rmoP"
      }
    },
    {
      "cell_type": "code",
      "source": [
        "%%writefile week4q10.cpp\n",
        "#include <iostream>\n",
        "\n",
        "using namespace std;\n",
        "\n",
        "int main()\n",
        "{\n",
        "  float time;\n",
        "  char medium;\n",
        "  cout << \"--------------------------\\n\";\n",
        "  cout << \"Speed of Sound in Medium\\n\";\n",
        "  cout << \"--------------------------\\n\";\n",
        "  cout << \"A. Carbon Dioxide: 258.0\\nB. Air: 331.5\\nC. Helium: 972.0\\nD. Hydrogen: 1270.0\\n\\n\";\n",
        "  cout << \"Select medium: \";\n",
        "  cin >> medium;\n",
        "  cout << \"Enter the time taken to reach the location in meter: \";\n",
        "  cin >> time;\n",
        "  if (time >= 0 && time <= 30 && (medium == 'A' || medium == 'B' || medium == 'C' || medium == 'D'))\n",
        "  {\n",
        "    switch (medium)\n",
        "    {\n",
        "      case 'A': cout << \"The source is \" << time * 258 << \"m from the location.\";\n",
        "                break;\n",
        "      case 'B': cout << \"The source is \" << time * 331.5 << \"m from the location.\";\n",
        "                break;\n",
        "      case 'C': cout << \"The source is \" << time * 972 << \"m from the location.\";\n",
        "                break;\n",
        "      default: cout << \"The source is \" << time * 1270 << \"m from the location.\";\n",
        "    }\n",
        "  }\n",
        "  else\n",
        "  {\n",
        "    if (time < 0 || time > 30)\n",
        "    {\n",
        "      cout << \"Invalid time input!\";\n",
        "    }\n",
        "    else\n",
        "    {\n",
        "      cout << \"invalid medium input!\";\n",
        "    }\n",
        "  }\n",
        "\n",
        "  return 0;\n",
        "}"
      ],
      "metadata": {
        "colab": {
          "base_uri": "https://localhost:8080/"
        },
        "id": "ATqrEbswrwZ8",
        "outputId": "11f2c5c1-1654-4f0d-897f-8c3ea7071186"
      },
      "execution_count": null,
      "outputs": [
        {
          "output_type": "stream",
          "name": "stdout",
          "text": [
            "Overwriting week4q10.cpp\n"
          ]
        }
      ]
    },
    {
      "cell_type": "code",
      "source": [
        "!g++ week4q10.cpp -o week4q10\n",
        "!./week4q10"
      ],
      "metadata": {
        "colab": {
          "base_uri": "https://localhost:8080/"
        },
        "id": "V3WblmC7v7Q1",
        "outputId": "63ecb4e8-8928-4ffb-db5f-065c127f5a70"
      },
      "execution_count": null,
      "outputs": [
        {
          "output_type": "stream",
          "name": "stdout",
          "text": [
            "--------------------------\n",
            "Speed of Sound in Medium\n",
            "--------------------------\n",
            "A. Carbon Dioxide: 258.0\n",
            "B. Air: 331.5\n",
            "C. Helium: 972.0\n",
            "D. Hydrogen: 1270.0\n",
            "\n",
            "Select medium: B\n",
            "Enter the time taken to reach the location in meter: 26\n",
            "The source is 8619m from the location."
          ]
        }
      ]
    }
  ]
}