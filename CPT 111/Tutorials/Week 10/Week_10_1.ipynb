{
  "nbformat": 4,
  "nbformat_minor": 0,
  "metadata": {
    "colab": {
      "provenance": []
    },
    "kernelspec": {
      "name": "python3",
      "display_name": "Python 3"
    },
    "language_info": {
      "name": "python"
    }
  },
  "cells": [
    {
      "cell_type": "markdown",
      "source": [
        "**Question 1:** Function call\n",
        "\n",
        "\n",
        "**Question 2:** Function header"
      ],
      "metadata": {
        "id": "QWJLS-359ZJp"
      }
    },
    {
      "cell_type": "markdown",
      "source": [
        "**Question 3:**\n",
        "```\n",
        "I saw Elba\n",
        "Elba was I\n",
        "```"
      ],
      "metadata": {
        "id": "OUkN_mue9dQf"
      }
    },
    {
      "cell_type": "markdown",
      "source": [
        "**Question 4: Credit Card**"
      ],
      "metadata": {
        "id": "nvrYMh0H-AXz"
      }
    },
    {
      "cell_type": "code",
      "source": [
        "%%writefile q4.cpp\n",
        "#include <iostream>\n",
        "\n",
        "using namespace std;\n",
        "\n",
        "// Answer for function prototypes\n",
        "\n",
        "void qualify();\n",
        "void noQualify();\n",
        "\n",
        "int main()\n",
        "{\n",
        "  double salary;\n",
        "  int years;\n",
        "  cout << \"This program will determine if you qualify\\n\";\n",
        "  cout << \"for our credit card.\\n\";\n",
        "  cout << \"What is your annual salary? \";\n",
        "  cin >> salary;\n",
        "  cout << \"How many years have you worked at your \"; cout << \"current job? \";\n",
        "  cin >> years;\n",
        "\n",
        "  if (salary >= 17000.0 && years >= 2)\n",
        "    qualify();\n",
        "  else\n",
        "    noQualify();\n",
        "\n",
        "  return 0;\n",
        "}\n",
        "\n",
        "// Answer for function definitions\n",
        "\n",
        "void qualify()\n",
        "{\n",
        "  cout << \"\\nYou are qualified and that the interest rate is 12% per year.\\n\";\n",
        "}\n",
        "\n",
        "void noQualify()\n",
        "{\n",
        "  cout << \"\\nYou are not qualified because you need to work on your current job for at least two years and make at least $17,000 per year.\\n\";\n",
        "}"
      ],
      "metadata": {
        "colab": {
          "base_uri": "https://localhost:8080/"
        },
        "id": "0XbKKlfcBk0_",
        "outputId": "d5c8e1b4-b916-444a-d599-06ff5395883e"
      },
      "execution_count": null,
      "outputs": [
        {
          "output_type": "stream",
          "name": "stdout",
          "text": [
            "Overwriting q4.cpp\n"
          ]
        }
      ]
    },
    {
      "cell_type": "code",
      "source": [
        "!g++ q4.cpp -o q4\n",
        "!./q4"
      ],
      "metadata": {
        "colab": {
          "base_uri": "https://localhost:8080/"
        },
        "id": "mmXORDarCNvw",
        "outputId": "9c76a0a7-9f50-4434-98ff-62a5d4b9960b"
      },
      "execution_count": null,
      "outputs": [
        {
          "output_type": "stream",
          "name": "stdout",
          "text": [
            "This program will determine if you qualify\n",
            "for our credit card.\n",
            "What is your annual salary? 125000\n",
            "How many years have you worked at your current job? 1\n",
            "\n",
            "You are not qualified because you need to work on your current job for at least two years and make at least $17,000 per year.\n"
          ]
        }
      ]
    },
    {
      "cell_type": "markdown",
      "source": [
        "**Question 5:**\n",
        "\n",
        "```void showNum(double num)``` - function header\n",
        "\n",
        "```void showNum(double);``` - function prototype\n",
        "\n",
        "```showNum(45.67);``` - function call"
      ],
      "metadata": {
        "id": "SAomzx_SElwD"
      }
    },
    {
      "cell_type": "markdown",
      "source": [
        "**Question 6: Function Definition**\n",
        "```\n",
        "void timesTen (int number)\n",
        "{\n",
        "  cout << number * 10 << endl;\n",
        "}\n",
        "```"
      ],
      "metadata": {
        "id": "2btUhGHrEwdG"
      }
    },
    {
      "cell_type": "markdown",
      "source": [
        "**Question 7: Function Prototype**\n",
        "```\n",
        "void timesTen (int);\n",
        "```"
      ],
      "metadata": {
        "id": "mD3agMrZFNLO"
      }
    },
    {
      "cell_type": "markdown",
      "source": [
        "**Question 8: Output**\n",
        "```\n",
        "0   0\n",
        "1   2\n",
        "2   4\n",
        "3   6\n",
        "4   8\n",
        "5   10\n",
        "6   12\n",
        "7   14\n",
        "8   16\n",
        "9   18\n",
        "\n",
        "\n",
        "```"
      ],
      "metadata": {
        "id": "8U03-DyiFdVP"
      }
    },
    {
      "cell_type": "markdown",
      "source": [
        "**Question 9: Output**\n",
        "```\n",
        "0 1.5\n",
        "1.5 0\n",
        "0 10\n",
        "0 1.5\n",
        "```"
      ],
      "metadata": {
        "id": "coaVSy0LIvxR"
      }
    },
    {
      "cell_type": "markdown",
      "source": [
        "**Question 10: Function Definition**\n",
        "```\n",
        "void showDollars (double wage)\n",
        "{\n",
        "  cout << \"Your wages are RM\" << fixed << showpoint << setprecision(2) << wage << endl;\n",
        "}\n",
        "```"
      ],
      "metadata": {
        "id": "jYe-fD-HKJkf"
      }
    },
    {
      "cell_type": "markdown",
      "source": [
        "**Question 11:** 1 return value only or none for void function"
      ],
      "metadata": {
        "id": "3iWnrxvbRHGL"
      }
    },
    {
      "cell_type": "markdown",
      "source": [
        "**Question 12: Function Header**\n",
        "```\n",
        "double distance (double rate, double time)\n",
        "```"
      ],
      "metadata": {
        "id": "f7KOFy0ARLGB"
      }
    },
    {
      "cell_type": "markdown",
      "source": [
        "**Question 13: Function Header**\n",
        "```\n",
        "int days (int years, int months, int weeks)\n",
        "```"
      ],
      "metadata": {
        "id": "JARbKEJPZ-W_"
      }
    },
    {
      "cell_type": "markdown",
      "source": [
        "**Question 14: Function Header**\n",
        "```\n",
        "char getKey ()\n",
        "```"
      ],
      "metadata": {
        "id": "fqtXhAyAaSKB"
      }
    },
    {
      "cell_type": "markdown",
      "source": [
        "**Question 15: Function Header**\n",
        "```\n",
        "long lightYears (long miles)\n",
        "```"
      ],
      "metadata": {
        "id": "CW_xPxlqbBhs"
      }
    },
    {
      "cell_type": "markdown",
      "source": [
        "**Question 16: Coin Tossing**"
      ],
      "metadata": {
        "id": "w5CJYqf-bmtt"
      }
    },
    {
      "cell_type": "code",
      "source": [
        "%%writefile q16.cpp\n",
        "#include <iostream>\n",
        "#include <cstdlib>\n",
        "#include <ctime>\n",
        "\n",
        "using namespace std;\n",
        "\n",
        "void coinToss (int);\n",
        "\n",
        "int main()\n",
        "{\n",
        "  srand(time(0));\n",
        "  int tossCount;\n",
        "  cout << \"How many times would you like to toss the coin: \";\n",
        "  cin >> tossCount;\n",
        "  for (int i = 0; i < tossCount; i++)\n",
        "  {\n",
        "    coinToss (i + 1);\n",
        "  }\n",
        "\n",
        "  return 0;\n",
        "}\n",
        "\n",
        "void coinToss (int tossNum)\n",
        "{\n",
        "  int toss;\n",
        "  toss = rand() % (2 - 1 + 1) + 1;\n",
        "  cout << tossNum << \". \";\n",
        "  if (toss == 1)\n",
        "  {\n",
        "      cout << \"Heads.\\n\";\n",
        "  }\n",
        "  else\n",
        "  {\n",
        "      cout << \"Tails.\\n\";\n",
        "  }\n",
        "}"
      ],
      "metadata": {
        "colab": {
          "base_uri": "https://localhost:8080/"
        },
        "id": "uR6nXHpMdADP",
        "outputId": "afeae18b-7749-4964-b9e1-4f859ab5a9d3"
      },
      "execution_count": null,
      "outputs": [
        {
          "output_type": "stream",
          "name": "stdout",
          "text": [
            "Overwriting q16.cpp\n"
          ]
        }
      ]
    },
    {
      "cell_type": "code",
      "source": [
        "!g++ q16.cpp -o q16\n",
        "!./q16"
      ],
      "metadata": {
        "colab": {
          "base_uri": "https://localhost:8080/"
        },
        "id": "XHwBL8JaeTnu",
        "outputId": "b69947a4-fa98-424b-de29-6debc83589cb"
      },
      "execution_count": null,
      "outputs": [
        {
          "output_type": "stream",
          "name": "stdout",
          "text": [
            "How many times would you like to toss the coin: 5\n",
            "1. Tails.\n",
            "2. Heads.\n",
            "3. Tails.\n",
            "4. Heads.\n",
            "5. Tails.\n"
          ]
        }
      ]
    },
    {
      "cell_type": "markdown",
      "source": [
        "**Question 17: Fahrenheit to Celsius**"
      ],
      "metadata": {
        "id": "1QF47QvWg80t"
      }
    },
    {
      "cell_type": "code",
      "source": [
        "%%writefile q17.cpp\n",
        "#include <iostream>\n",
        "#include <iomanip>\n",
        "\n",
        "using namespace std;\n",
        "\n",
        "double celsius(double);\n",
        "\n",
        "int main()\n",
        "{\n",
        "    double Fahrenheit, Celsius;\n",
        "    cout << \"Enter temperature in Fahrenheit: \";\n",
        "    cin >> Fahrenheit;\n",
        "    Celsius = celsius(Fahrenheit);\n",
        "    cout << Fahrenheit << \" F is equivalent to \" << fixed << showpoint << setprecision(2) << Celsius << \" degree celsius.\";\n",
        "\n",
        "    return 0;\n",
        "}\n",
        "\n",
        "double celsius(double fahrenheit)\n",
        "{\n",
        "    return (5.0 / 9 * (fahrenheit - 32));\n",
        "}"
      ],
      "metadata": {
        "colab": {
          "base_uri": "https://localhost:8080/"
        },
        "id": "SCSelpoFkxx6",
        "outputId": "32348454-f29c-4c33-913c-1aa49b605aef"
      },
      "execution_count": null,
      "outputs": [
        {
          "output_type": "stream",
          "name": "stdout",
          "text": [
            "Writing q17.cpp\n"
          ]
        }
      ]
    },
    {
      "cell_type": "code",
      "source": [
        "!g++ q17.cpp -o q17\n",
        "!./q17"
      ],
      "metadata": {
        "colab": {
          "base_uri": "https://localhost:8080/"
        },
        "id": "fOvdIVRRpBPF",
        "outputId": "c707cfc3-5861-451e-d3c1-a5aff380ca02"
      },
      "execution_count": null,
      "outputs": [
        {
          "output_type": "stream",
          "name": "stdout",
          "text": [
            "Enter temperature in Fahrenheit: 85\n",
            "85 F is equivalent to 29.44 degree celsius."
          ]
        }
      ]
    },
    {
      "cell_type": "markdown",
      "source": [
        "**Question 18: Area Of Rectangle**"
      ],
      "metadata": {
        "id": "VbwCMKCBtsod"
      }
    },
    {
      "cell_type": "code",
      "source": [
        "%%writefile q18.cpp\n",
        "#include <iostream>\n",
        "#include <iomanip>\n",
        "\n",
        "using namespace std;\n",
        "\n",
        "double getLength();\n",
        "double getWidth();\n",
        "double getArea(double, double);\n",
        "void displayData(double);\n",
        "\n",
        "int main()\n",
        "{\n",
        "    double length, width, area;\n",
        "    length = getLength();\n",
        "    width = getWidth();\n",
        "    area = getArea(length, width);\n",
        "    displayData(area);\n",
        "}\n",
        "\n",
        "double getLength()\n",
        "{\n",
        "    double length;\n",
        "    cout << \"Enter the length of rectangle: \";\n",
        "    cin >> length;\n",
        "    return length;\n",
        "}\n",
        "\n",
        "double getWidth()\n",
        "{\n",
        "    double width;\n",
        "    cout << \"Enter the width of rectangle: \";\n",
        "    cin >> width;\n",
        "    return width;\n",
        "}\n",
        "\n",
        "double getArea(double length, double width)\n",
        "{\n",
        "    return length * width;\n",
        "}\n",
        "\n",
        "void displayData(double area)\n",
        "{\n",
        "    cout << \"The area of the rectangle is: \" << area << \" cm^2\" << endl;\n",
        "}"
      ],
      "metadata": {
        "colab": {
          "base_uri": "https://localhost:8080/"
        },
        "id": "qzoHh6YJtv_k",
        "outputId": "51972f97-cf4d-4f6b-8873-b79fee004b17"
      },
      "execution_count": null,
      "outputs": [
        {
          "output_type": "stream",
          "name": "stdout",
          "text": [
            "Overwriting q18.cpp\n"
          ]
        }
      ]
    },
    {
      "cell_type": "code",
      "source": [
        "!g++ q18.cpp -o q18\n",
        "!./q18"
      ],
      "metadata": {
        "colab": {
          "base_uri": "https://localhost:8080/"
        },
        "id": "AHkshsy_tyWI",
        "outputId": "b5da9005-8eeb-4e8b-e9ed-fea61f83dd97"
      },
      "execution_count": null,
      "outputs": [
        {
          "output_type": "stream",
          "name": "stdout",
          "text": [
            "Enter the length of rectangle: 12.5\n",
            "Enter the width of rectangle: 2\n",
            "The area of the rectangle is: 25 cm^2\n"
          ]
        }
      ]
    }
  ]
}