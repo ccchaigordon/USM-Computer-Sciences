{
  "nbformat": 4,
  "nbformat_minor": 0,
  "metadata": {
    "colab": {
      "provenance": []
    },
    "kernelspec": {
      "name": "python3",
      "display_name": "Python 3"
    },
    "language_info": {
      "name": "python"
    }
  },
  "cells": [
    {
      "cell_type": "markdown",
      "source": [
        "Question 1: Static local variable is a variable that can only be accessed by the particular function containing the variable. The variable is not deleted from the memory even after the function's execution ends. Global variable is a variable that can be accessed by all functions."
      ],
      "metadata": {
        "id": "wFvQpmc1xJKa"
      }
    },
    {
      "cell_type": "markdown",
      "source": [
        "**Question 2: Output**\n",
        "```\n",
        "100\n",
        "50\n",
        "100\n",
        "```"
      ],
      "metadata": {
        "id": "GkHb7gz5xklA"
      }
    },
    {
      "cell_type": "markdown",
      "source": [
        "**Question 3: Output**\n",
        "```\n",
        "10      11      12      13      14      15      16      17      18      19\n",
        "```\n",
        "Reason: The variable using static will not be destroyed even after the execution of the particular function ends. Whenever the function is called again the latest value of the static variable will be retained."
      ],
      "metadata": {
        "id": "eggSftnYZIcg"
      }
    },
    {
      "cell_type": "markdown",
      "source": [
        "**Question 4: Output**\n",
        "```\n",
        "10      10      10      10      10      10      10      10      10      10\n",
        "```\n",
        "The variable is destroyed once the function is terminated, whenever the function is called the variable is redeclared again with the same value."
      ],
      "metadata": {
        "id": "sdoIuto8bFWD"
      }
    },
    {
      "cell_type": "markdown",
      "source": [
        "**Question 5: Output**\n",
        "```\n",
        "5       10\n",
        "9       10\n",
        "9       99\n",
        "```\n",
        "Missing arguments will be replaced with the default argument values."
      ],
      "metadata": {
        "id": "fUM4ZysKbTSJ"
      }
    },
    {
      "cell_type": "markdown",
      "source": [
        "**Question 6: Compute**\n",
        "```\n",
        "// Prototype\n",
        "int compute(double, long = 65536, int = 5);\n",
        "\n",
        "// Header\n",
        "int compute(double d, long l = 65536, int i = 5) {}\n",
        "```"
      ],
      "metadata": {
        "id": "UCeLt1WRcGvj"
      }
    },
    {
      "cell_type": "markdown",
      "source": [
        "**Question 7: Calculate**\n",
        "```\n",
        "double calculate(long, double &, int = 47);\n",
        "\n",
        "double calculate(long longNum, double &doubleNum, int intNum = 47) {}\n",
        "```"
      ],
      "metadata": {
        "id": "OkKbnUmWgNTd"
      }
    },
    {
      "cell_type": "markdown",
      "source": [
        "**Question 8: Output**\n",
        "```\n",
        "5 10 15\n",
        "9 10 15\n",
        "6 15 15\n",
        "4 11 16\n",
        "```"
      ],
      "metadata": {
        "id": "k2RFntRthLEC"
      }
    },
    {
      "cell_type": "markdown",
      "source": [
        "**Question 9: Output**\n",
        "```\n",
        "12 14 0\n",
        "14 15 -1\n",
        "14 15 -1\n",
        "```\n",
        "Passing by reference allows changes to a variable it refers to."
      ],
      "metadata": {
        "id": "XIhq8ZqWhfmj"
      }
    },
    {
      "cell_type": "markdown",
      "source": [
        "**Question 10: Days Out**"
      ],
      "metadata": {
        "id": "IaozoE9IlWRG"
      }
    },
    {
      "cell_type": "code",
      "source": [
        "%%writefile q10.cpp\n",
        "#include <iostream>\n",
        "\n",
        "using namespace std;\n",
        "\n",
        "int getEmp();\n",
        "int getDays(int);\n",
        "double getAverage(int, int);\n",
        "\n",
        "int main()\n",
        "{\n",
        "  int emp, days, average;\n",
        "  emp = getEmp();\n",
        "  days = getDays(emp);\n",
        "  average = getAverage(emp, days);\n",
        "  cout << \"The average days out for \" << emp << \" employees are \" << average << \" days.\\n\";\n",
        "\n",
        "  return 0;\n",
        "}\n",
        "\n",
        "int getEmp()\n",
        "{\n",
        "  int emp;\n",
        "  cout << \"Enter number of employees: \";\n",
        "  cin >> emp;\n",
        "  return emp;\n",
        "}\n",
        "\n",
        "int getDays(int emp)\n",
        "{\n",
        "  int days, totalDays;\n",
        "  for (int i = 1; i <= emp; i++)\n",
        "  {\n",
        "    cout << \"Enter the number of days out for employee \" << i << \": \";\n",
        "    cin >> days;\n",
        "    totalDays += days;\n",
        "  }\n",
        "  return totalDays;\n",
        "}\n",
        "\n",
        "double getAverage(int emp, int totalDays)\n",
        "{\n",
        "  return totalDays / emp;\n",
        "}"
      ],
      "metadata": {
        "colab": {
          "base_uri": "https://localhost:8080/"
        },
        "id": "oMzjaySdlxaU",
        "outputId": "2c1258eb-32ff-4a49-916c-7ba3f7f476d3"
      },
      "execution_count": null,
      "outputs": [
        {
          "output_type": "stream",
          "name": "stdout",
          "text": [
            "Overwriting q10.cpp\n"
          ]
        }
      ]
    },
    {
      "cell_type": "code",
      "source": [
        "!g++ q10.cpp -o q10\n",
        "!./q10"
      ],
      "metadata": {
        "colab": {
          "base_uri": "https://localhost:8080/"
        },
        "id": "Y__vOUdEpD38",
        "outputId": "7c8e7d4c-fefe-4734-b17e-86ed0cb6aad9"
      },
      "execution_count": null,
      "outputs": [
        {
          "output_type": "stream",
          "name": "stdout",
          "text": [
            "Enter number of employees: 10\n",
            "Enter the number of days out for employee 1: 10\n",
            "Enter the number of days out for employee 2: 10\n",
            "Enter the number of days out for employee 3: 10\n",
            "Enter the number of days out for employee 4: 10\n",
            "Enter the number of days out for employee 5: 10\n",
            "Enter the number of days out for employee 6: 10\n",
            "Enter the number of days out for employee 7: 10\n",
            "Enter the number of days out for employee 8: 10\n",
            "Enter the number of days out for employee 9: 10\n",
            "Enter the number of days out for employee 10: 10\n",
            "The average days out for 10 employees are 10 days.\n"
          ]
        }
      ]
    },
    {
      "cell_type": "markdown",
      "source": [],
      "metadata": {
        "id": "8poWqQkHpifi"
      }
    }
  ]
}