{
  "nbformat": 4,
  "nbformat_minor": 0,
  "metadata": {
    "colab": {
      "provenance": []
    },
    "kernelspec": {
      "name": "python3",
      "display_name": "Python 3"
    },
    "language_info": {
      "name": "python"
    }
  },
  "cells": [
    {
      "cell_type": "markdown",
      "source": [
        "**Question 1: Prime Number**"
      ],
      "metadata": {
        "id": "BhPxK_WQcROu"
      }
    },
    {
      "cell_type": "code",
      "execution_count": null,
      "metadata": {
        "colab": {
          "base_uri": "https://localhost:8080/"
        },
        "id": "2y4hsITqWojW",
        "outputId": "ae31765c-b8ea-4545-d314-9b66a24ac893"
      },
      "outputs": [
        {
          "output_type": "stream",
          "name": "stdout",
          "text": [
            "Overwriting q1.cpp\n"
          ]
        }
      ],
      "source": [
        "%%writefile q1.cpp\n",
        "#include <iostream>\n",
        "#include <cmath>\n",
        "#include <iomanip>\n",
        "\n",
        "using namespace std;\n",
        "\n",
        "int main()\n",
        "{\n",
        "  int num;\n",
        "  cout << \"Enter a positive integer: \";\n",
        "  cin >> num;\n",
        "  if (num == 2 || num == 3)\n",
        "  {\n",
        "    cout << num << \" is a prime number.\";\n",
        "  }\n",
        "  else if (num % 2 == 0)\n",
        "  {\n",
        "    cout << num << \" is not a prime number.\";\n",
        "  }\n",
        "  else\n",
        "  {\n",
        "    for (int i = 2; i <= sqrt(num); i++)\n",
        "    {\n",
        "      if (num % i == 0)\n",
        "      {\n",
        "        cout << num << \" is not a prime number.\";\n",
        "      }\n",
        "      else if (i + 1 > sqrt(num) && num % i != 0)\n",
        "      {\n",
        "        cout << num << \" is a prime number.\";\n",
        "      }\n",
        "    }\n",
        "  }\n",
        "\n",
        "  return 0;\n",
        "}"
      ]
    },
    {
      "cell_type": "code",
      "source": [
        "!g++ q1.cpp -o q1\n",
        "!./q1"
      ],
      "metadata": {
        "colab": {
          "base_uri": "https://localhost:8080/"
        },
        "id": "r73p1HAfezVx",
        "outputId": "9a0056f0-920a-49e4-9129-537c499f26f6"
      },
      "execution_count": null,
      "outputs": [
        {
          "output_type": "stream",
          "name": "stdout",
          "text": [
            "Enter a positive integer: 4\n",
            "4 is not a prime number."
          ]
        }
      ]
    },
    {
      "cell_type": "markdown",
      "source": [
        "**Question 2: Non-Prime Number of First n-th Value**"
      ],
      "metadata": {
        "id": "YvXqJLxMwbTQ"
      }
    },
    {
      "cell_type": "code",
      "source": [
        "%%writefile q2.cpp\n",
        "#include <iostream>\n",
        "\n",
        "using namespace std;\n",
        "\n",
        "int main()\n",
        "{\n",
        "  int n, count = 1;\n",
        "  cout << \"Enter a positive integer less than 50: \";\n",
        "  cin >> n;\n",
        "  if (n > 0 && n < 50)\n",
        "  {\n",
        "    cout << \"1\";\n",
        "    for (int i = 2; count < n; i++)\n",
        "    {\n",
        "      for (int j = 2; j < i; j++)\n",
        "      {\n",
        "        if (i % j == 0)\n",
        "        {\n",
        "          cout << \", \" << i;\n",
        "          count += 1;\n",
        "          break;\n",
        "        }\n",
        "      }\n",
        "    }\n",
        "  cout << \".\";\n",
        "  }\n",
        "  else\n",
        "  {\n",
        "    cout << \"The integer should be less than 50 and greater than 0!\";\n",
        "  }\n",
        "\n",
        "  return 0;\n",
        "}"
      ],
      "metadata": {
        "colab": {
          "base_uri": "https://localhost:8080/"
        },
        "id": "hDqkDE-gwk_O",
        "outputId": "a423242e-84a9-4ebd-e42d-f817467caee6"
      },
      "execution_count": null,
      "outputs": [
        {
          "output_type": "stream",
          "name": "stdout",
          "text": [
            "Overwriting q2.cpp\n"
          ]
        }
      ]
    },
    {
      "cell_type": "code",
      "source": [
        "!g++ q2.cpp -o q2\n",
        "!./q2"
      ],
      "metadata": {
        "colab": {
          "base_uri": "https://localhost:8080/"
        },
        "id": "GsE9wvAsxyXH",
        "outputId": "7b00b806-2d61-40ca-c5fb-8b67ae333f40"
      },
      "execution_count": null,
      "outputs": [
        {
          "output_type": "stream",
          "name": "stdout",
          "text": [
            "Enter a positive integer less than 50: 10\n",
            "1, 4, 6, 8, 9, 10, 12, 14, 15, 16."
          ]
        }
      ]
    },
    {
      "cell_type": "markdown",
      "source": [
        "**Question 3: Pattern 1**"
      ],
      "metadata": {
        "id": "_H0tEmIf2jDW"
      }
    },
    {
      "cell_type": "code",
      "source": [
        "%%writefile q3.cpp\n",
        "#include <iostream>\n",
        "#include <iomanip>\n",
        "\n",
        "using namespace std;\n",
        "\n",
        "int main()\n",
        "{\n",
        "  int num;\n",
        "  cout << \"Please enter a number: \";\n",
        "  cin >> num;\n",
        "  cout << \"---------------------------------------------------\\n\";\n",
        "  cout << \"Pattern A\" << setw(40) << \"Pattern B\\n\";\n",
        "  cout << \"---------------------------------------------------\\n\";\n",
        "  for (int i = 1; i <= num; i++)\n",
        "  {\n",
        "    for (int j = 1; j <= i; j++)\n",
        "    {\n",
        "      cout << \"+\";\n",
        "    }\n",
        "    cout << setw(40 - i) << \"\";\n",
        "    for (int k = num; k >= i; k--)\n",
        "    {\n",
        "      cout << \"*\";\n",
        "    }\n",
        "    cout << endl;\n",
        "  }\n",
        "\n",
        "  return 0;\n",
        "}"
      ],
      "metadata": {
        "colab": {
          "base_uri": "https://localhost:8080/"
        },
        "id": "khmakqJp2mct",
        "outputId": "d4280aae-6fac-4d08-d88a-5412a89dff86"
      },
      "execution_count": null,
      "outputs": [
        {
          "output_type": "stream",
          "name": "stdout",
          "text": [
            "Writing q3.cpp\n"
          ]
        }
      ]
    },
    {
      "cell_type": "code",
      "source": [
        "!g++ q3.cpp -o q3\n",
        "!./q3"
      ],
      "metadata": {
        "colab": {
          "base_uri": "https://localhost:8080/"
        },
        "id": "iTQeKuqK3K3e",
        "outputId": "a002a507-125c-4034-f21d-695461eec46d"
      },
      "execution_count": null,
      "outputs": [
        {
          "output_type": "stream",
          "name": "stdout",
          "text": [
            "Please enter a number: 10\n",
            "---------------------------------------------------\n",
            "Pattern A                              Pattern B\n",
            "---------------------------------------------------\n",
            "+                                       **********\n",
            "++                                      *********\n",
            "+++                                     ********\n",
            "++++                                    *******\n",
            "+++++                                   ******\n",
            "++++++                                  *****\n",
            "+++++++                                 ****\n",
            "++++++++                                ***\n",
            "+++++++++                               **\n",
            "++++++++++                              *\n"
          ]
        }
      ]
    },
    {
      "cell_type": "markdown",
      "source": [
        "**Question 4: Pattern 2**"
      ],
      "metadata": {
        "id": "ZJy9p5kK7DKU"
      }
    },
    {
      "cell_type": "code",
      "source": [
        "%%writefile q4.cpp\n",
        "#include <iostream>\n",
        "#include <iomanip>\n",
        "\n",
        "using namespace std;\n",
        "\n",
        "int main()\n",
        "{\n",
        "  int num;\n",
        "  cout << \"Enter number of rows: \";\n",
        "  cin >> num;\n",
        "  cout << endl;\n",
        "  for (int i = 1; i <= num; i++)\n",
        "  {\n",
        "    cout << setw(num - i + 2);\n",
        "    for (int j = 1; j <= i; j++)\n",
        "    {\n",
        "      cout << \"* \";\n",
        "    }\n",
        "    cout << endl;\n",
        "  }\n",
        "  for (int i = num - 1; i >= 1; i--)\n",
        "  {\n",
        "    cout << setw(num - i + 2);\n",
        "    for (int j = num - 1; j >= num - i; j--)\n",
        "    {\n",
        "      cout << \"* \";\n",
        "    }\n",
        "    cout << endl;\n",
        "  }\n",
        "\n",
        "  return 0;\n",
        "}"
      ],
      "metadata": {
        "colab": {
          "base_uri": "https://localhost:8080/"
        },
        "id": "pyAlb7TU7F38",
        "outputId": "5f792a86-a7a2-4e77-b0f4-e0cb6ebcc93f"
      },
      "execution_count": null,
      "outputs": [
        {
          "output_type": "stream",
          "name": "stdout",
          "text": [
            "Overwriting q4.cpp\n"
          ]
        }
      ]
    },
    {
      "cell_type": "code",
      "source": [
        "!g++ q4.cpp -o q4\n",
        "!./q4"
      ],
      "metadata": {
        "colab": {
          "base_uri": "https://localhost:8080/"
        },
        "id": "v_dy4IwX8Cex",
        "outputId": "97f254aa-47a0-4329-f933-00291619f72d"
      },
      "execution_count": null,
      "outputs": [
        {
          "output_type": "stream",
          "name": "stdout",
          "text": [
            "Enter number of rows: 10\n",
            "\n",
            "         * \n",
            "        * * \n",
            "       * * * \n",
            "      * * * * \n",
            "     * * * * * \n",
            "    * * * * * * \n",
            "   * * * * * * * \n",
            "  * * * * * * * * \n",
            " * * * * * * * * * \n",
            "* * * * * * * * * * \n",
            " * * * * * * * * * \n",
            "  * * * * * * * * \n",
            "   * * * * * * * \n",
            "    * * * * * * \n",
            "     * * * * * \n",
            "      * * * * \n",
            "       * * * \n",
            "        * * \n",
            "         * \n"
          ]
        }
      ]
    },
    {
      "cell_type": "markdown",
      "source": [
        "**Question 5: Counting**"
      ],
      "metadata": {
        "id": "AdWKGDdt-kxT"
      }
    },
    {
      "cell_type": "code",
      "source": [
        "%%writefile q5.cpp\n",
        "#include <iostream>\n",
        "\n",
        "using namespace std;\n",
        "\n",
        " int main()\n",
        " {\n",
        "  int n, value, posCount = 0, negCount = 0;\n",
        "  do\n",
        "  {\n",
        "    cout << \"Enter a positive integer within 10 to 20: \";\n",
        "    cin >> n;\n",
        "  }\n",
        "  while (n < 10 || n > 20);\n",
        "  for (int i = 1; i <= n; i++)\n",
        "  {\n",
        "    cout << \"Enter a number: \";\n",
        "    cin >> value;\n",
        "    if (value >= 0)\n",
        "    {\n",
        "      posCount += 1;\n",
        "    }\n",
        "    else\n",
        "    {\n",
        "      negCount += 1;\n",
        "    }\n",
        "  }\n",
        "  cout << \"There are \" << posCount << \" positive numbers and \" << negCount << \" negative numbers entered.\";\n",
        "\n",
        "  return 0;\n",
        " }"
      ],
      "metadata": {
        "colab": {
          "base_uri": "https://localhost:8080/"
        },
        "id": "p2dTrFZq-okq",
        "outputId": "99b85dbd-5868-4b77-98a1-c915345f4471"
      },
      "execution_count": null,
      "outputs": [
        {
          "output_type": "stream",
          "name": "stdout",
          "text": [
            "Overwriting q5.cpp\n"
          ]
        }
      ]
    },
    {
      "cell_type": "code",
      "source": [
        "!g++ q5.cpp -o q5\n",
        "!./q5"
      ],
      "metadata": {
        "colab": {
          "base_uri": "https://localhost:8080/"
        },
        "id": "My5cRDpsBnx3",
        "outputId": "e9ea9089-20eb-47e7-846f-7b21c4bfa52d"
      },
      "execution_count": null,
      "outputs": [
        {
          "output_type": "stream",
          "name": "stdout",
          "text": [
            "Enter a positive integer within 10 to 20: 11\n",
            "Enter a number: 3123\n",
            "Enter a number: 454\n",
            "Enter a number: -678\n",
            "Enter a number: 0\n",
            "Enter a number: 65\n",
            "Enter a number: -9\n",
            "Enter a number: -1\n",
            "Enter a number: 1\n",
            "Enter a number: 23\n",
            "Enter a number: 21\n",
            "Enter a number: -111\n",
            "There are 7 positive numbers and 4 negative numbers entered."
          ]
        }
      ]
    },
    {
      "cell_type": "markdown",
      "source": [
        "**Question 6: Break and Continue (Break)**"
      ],
      "metadata": {
        "id": "hCbx-vxOFUxb"
      }
    },
    {
      "cell_type": "code",
      "source": [
        "%%writefile q6a.cpp\n",
        "#include <iostream>\n",
        "\n",
        "using namespace std;\n",
        "\n",
        "int main()\n",
        "{\n",
        "  int count = 0, num, sum;\n",
        "  while (count < 10)\n",
        "  {\n",
        "    cout << \"Enter a negative number: \";\n",
        "    cin >> num;\n",
        "    if (count == 10)\n",
        "    {\n",
        "      break;\n",
        "    }\n",
        "    else if (num < 0)\n",
        "    {\n",
        "      count += 1;\n",
        "      sum += num;\n",
        "    }\n",
        "  }\n",
        "  cout << \"The sum of the negative numbers entered is: \" << sum;\n",
        "\n",
        "  return 0;\n",
        "}"
      ],
      "metadata": {
        "colab": {
          "base_uri": "https://localhost:8080/"
        },
        "id": "J3AB-GK5FZ8K",
        "outputId": "31cc1848-53d1-4d3d-9f9f-d4f2bdbd1202"
      },
      "execution_count": null,
      "outputs": [
        {
          "output_type": "stream",
          "name": "stdout",
          "text": [
            "Overwriting q6a.cpp\n"
          ]
        }
      ]
    },
    {
      "cell_type": "code",
      "source": [
        "!g++ q6a.cpp -o q6\n",
        "!./q6"
      ],
      "metadata": {
        "colab": {
          "base_uri": "https://localhost:8080/"
        },
        "id": "t3ObL84KF8zV",
        "outputId": "3bc97bf8-300e-4104-8e14-2556d9e8d5a1"
      },
      "execution_count": null,
      "outputs": [
        {
          "output_type": "stream",
          "name": "stdout",
          "text": [
            "Enter a negative number: 1\n",
            "Enter a negative number: 123\n",
            "Enter a negative number: 43\n",
            "Enter a negative number: 99\n",
            "Enter a negative number: -1\n",
            "Enter a negative number: -2\n",
            "Enter a negative number: -3\n",
            "Enter a negative number: -4\n",
            "Enter a negative number: -5\n",
            "Enter a negative number: -6\n",
            "Enter a negative number: -7\n",
            "Enter a negative number: -8\n",
            "Enter a negative number: -9\n",
            "Enter a negative number: -10\n",
            "The sum of the negative numbers entered is: -55"
          ]
        }
      ]
    },
    {
      "cell_type": "markdown",
      "source": [
        "**Question 6: Break and Continue** **(Continue)**"
      ],
      "metadata": {
        "id": "d_dQH-KpEHPm"
      }
    },
    {
      "cell_type": "code",
      "source": [
        "%%writefile q6b.cpp\n",
        "#include <iostream>\n",
        "\n",
        "using namespace std;\n",
        "\n",
        "int main()\n",
        "{\n",
        "  int count = 0, num, sum;\n",
        "  while (count < 10)\n",
        "  {\n",
        "    cout << \"Enter a negative number: \";\n",
        "    cin >> num;\n",
        "    if (num >= 0)\n",
        "    {\n",
        "      continue;\n",
        "    }\n",
        "    count += 1;\n",
        "    sum += num;\n",
        "  }\n",
        "  cout << \"The sum of the negative numbers entered is: \" << sum;\n",
        "\n",
        "  return 0;\n",
        "}"
      ],
      "metadata": {
        "colab": {
          "base_uri": "https://localhost:8080/"
        },
        "id": "V5CRaWX3EKdE",
        "outputId": "a59e0945-b610-49e5-8daa-9e55766aaef5"
      },
      "execution_count": null,
      "outputs": [
        {
          "output_type": "stream",
          "name": "stdout",
          "text": [
            "Overwriting q6.cpp\n"
          ]
        }
      ]
    },
    {
      "cell_type": "code",
      "source": [
        "!g++ q6b.cpp -o q6\n",
        "!./q6"
      ],
      "metadata": {
        "colab": {
          "base_uri": "https://localhost:8080/"
        },
        "id": "v0m3mcMREuGV",
        "outputId": "8631ee33-b430-4fc1-dd02-05ffcc20f5a6"
      },
      "execution_count": null,
      "outputs": [
        {
          "output_type": "stream",
          "name": "stdout",
          "text": [
            "Enter a negative number: 2\n",
            "Enter a negative number: 3\n",
            "Enter a negative number: 2\n",
            "Enter a negative number: -1\n",
            "Enter a negative number: -2\n",
            "Enter a negative number: -3\n",
            "Enter a negative number: -4\n",
            "Enter a negative number: -5\n",
            "Enter a negative number: -6\n",
            "Enter a negative number: -7\n",
            "Enter a negative number: -8\n",
            "Enter a negative number: -9\n",
            "Enter a negative number: -10\n",
            "The sum of the negative numbers entered is: -55"
          ]
        }
      ]
    },
    {
      "cell_type": "markdown",
      "source": [
        "**PAST YEAR**"
      ],
      "metadata": {
        "id": "l5FUShNWfvCm"
      }
    },
    {
      "cell_type": "markdown",
      "source": [
        "**Question 1: Sum of Numbers**"
      ],
      "metadata": {
        "id": "nPnufRmlfyKc"
      }
    },
    {
      "cell_type": "code",
      "source": [
        "%%writefile q1.cpp\n",
        "#include <iostream>\n",
        "\n",
        "using namespace std;\n",
        "\n",
        "int main()\n",
        "{\n",
        "  int sumEven, sumOdd, num;\n",
        "  for (int i = 1; i < 6; i++)\n",
        "  {\n",
        "    cout << \"Enter an integer: \";\n",
        "    cin >> num;\n",
        "    if (num % 2 ==  0)\n",
        "    {\n",
        "      sumEven += num;\n",
        "    }\n",
        "    else\n",
        "    {\n",
        "      sumOdd += num;\n",
        "    }\n",
        "  }\n",
        "  cout << \"The sum of even integers entered is \" << sumEven << \" while the sum of odd integers entered is \" << sumOdd << \".\";\n",
        "\n",
        "  return 0;\n",
        "}"
      ],
      "metadata": {
        "colab": {
          "base_uri": "https://localhost:8080/"
        },
        "id": "e2cvYiQNf1h1",
        "outputId": "14a4c2df-279d-4abe-b410-2c27c04d5e4e"
      },
      "execution_count": null,
      "outputs": [
        {
          "output_type": "stream",
          "name": "stdout",
          "text": [
            "Overwriting q1.cpp\n"
          ]
        }
      ]
    },
    {
      "cell_type": "code",
      "source": [
        "!g++ q1.cpp -o q1\n",
        "!./q1"
      ],
      "metadata": {
        "colab": {
          "base_uri": "https://localhost:8080/"
        },
        "id": "0eCL30yTg67f",
        "outputId": "8f431c96-f19a-4835-903e-c78966c86594"
      },
      "execution_count": null,
      "outputs": [
        {
          "output_type": "stream",
          "name": "stdout",
          "text": [
            "Enter an integer: 1\n",
            "Enter an integer: 33\n",
            "Enter an integer: 5\n",
            "Enter an integer: 7\n",
            "Enter an integer: 8\n",
            "The sum of even integers entered is 8 while the sum of odd integers entered is 46."
          ]
        }
      ]
    },
    {
      "cell_type": "markdown",
      "source": [
        "**Question 2: Sum of Numbers**"
      ],
      "metadata": {
        "id": "o6HIwVjnhMRQ"
      }
    },
    {
      "cell_type": "code",
      "source": [
        "%%writefile q2.cpp\n",
        "#include <iostream>\n",
        "\n",
        "using namespace std;\n",
        "\n",
        "int main()\n",
        "{\n",
        "  int num, sumOdd = 0, oddCount = 0;\n",
        "  for (int i = 0; i < 5; i++)\n",
        "  {\n",
        "    cout << \"Enter an integer: \";\n",
        "    cin >> num;\n",
        "    if (num % 2 == 0)\n",
        "    {\n",
        "      continue;\n",
        "    }\n",
        "    sumOdd += num;\n",
        "    oddCount += 1;\n",
        "  }\n",
        "  cout << \"There are \" << oddCount << \" odd numbers entered and their sum is \" << sumOdd << \".\";\n",
        "\n",
        "  return 0;\n",
        "}"
      ],
      "metadata": {
        "colab": {
          "base_uri": "https://localhost:8080/"
        },
        "id": "EYp8n67HhO-f",
        "outputId": "fef77d40-40e5-467a-bd95-078d66a18f19"
      },
      "execution_count": null,
      "outputs": [
        {
          "output_type": "stream",
          "name": "stdout",
          "text": [
            "Overwriting q2.cpp\n"
          ]
        }
      ]
    },
    {
      "cell_type": "code",
      "source": [
        "!g++ q2.cpp -o q2\n",
        "!./q2"
      ],
      "metadata": {
        "colab": {
          "base_uri": "https://localhost:8080/"
        },
        "id": "Cr3z32ybiIKI",
        "outputId": "52d3c67a-b4e7-4549-e265-88cd5bfb384d"
      },
      "execution_count": null,
      "outputs": [
        {
          "output_type": "stream",
          "name": "stdout",
          "text": [
            "Enter an integer: 1\n",
            "Enter an integer: 3\n",
            "Enter an integer: 4\n",
            "Enter an integer: 5\n",
            "Enter an integer: 7\n",
            "There are 4 odd numbers entered and their sum is 16."
          ]
        }
      ]
    },
    {
      "cell_type": "markdown",
      "source": [
        "**Question 3: Random Symbol Guessing Game**"
      ],
      "metadata": {
        "id": "0734xFAMiSgC"
      }
    },
    {
      "cell_type": "code",
      "source": [
        "%%writefile q3.cpp\n",
        "#include <iostream>\n",
        "#include <cstdlib>\n",
        "#include <ctime>\n",
        "\n",
        "using namespace std;\n",
        "\n",
        "int main()\n",
        "{\n",
        "  char ch;\n",
        "  int guess;\n",
        "  unsigned(seed) = time(0);\n",
        "  srand(seed);\n",
        "  ch = (rand() % (126 - 32 + 1)) + 32;\n",
        "  cout << \"Enter your guess of character in ASCII code: \";\n",
        "  cin >> guess;\n",
        "  while (int(ch) != guess)\n",
        "  {\n",
        "    if (int(ch) > guess)\n",
        "    {\n",
        "      cout << \"Symbol's ASCII too low, try again: \";\n",
        "      cin >> guess;\n",
        "    }\n",
        "    else\n",
        "    {\n",
        "      cout << \"Symbol's ASCII too high, try again: \";\n",
        "      cin >> guess;\n",
        "    }\n",
        "  }\n",
        "  cout << \"Congratulations, you've guessed the symbol correctly! The symbol is indeed \" << ch << \".\";\n",
        "\n",
        "  return 0;\n",
        "}"
      ],
      "metadata": {
        "colab": {
          "base_uri": "https://localhost:8080/"
        },
        "id": "q1yfi3W0j7h1",
        "outputId": "4674fd4a-ca48-4368-ac48-9faedb16db55"
      },
      "execution_count": null,
      "outputs": [
        {
          "output_type": "stream",
          "name": "stdout",
          "text": [
            "Overwriting q3.cpp\n"
          ]
        }
      ]
    },
    {
      "cell_type": "code",
      "source": [
        "!g++ q3.cpp -o q3\n",
        "!./q3"
      ],
      "metadata": {
        "colab": {
          "base_uri": "https://localhost:8080/"
        },
        "id": "wFNWpodjkqap",
        "outputId": "c41be2c0-7413-495c-d9d1-63eefb213958"
      },
      "execution_count": null,
      "outputs": [
        {
          "output_type": "stream",
          "name": "stdout",
          "text": [
            "Enter your guess of character in ASCII code: 100\n",
            "Symbol's ASCII too high, try again: 50\n",
            "Symbol's ASCII too low, try again: 70\n",
            "Symbol's ASCII too low, try again: 85\n",
            "Symbol's ASCII too high, try again: 80\n",
            "Symbol's ASCII too low, try again: 83\n",
            "Symbol's ASCII too high, try again: 82\n",
            "Congratulations, you've guessed the symbol correctly! The symbol is indeed R."
          ]
        }
      ]
    },
    {
      "cell_type": "markdown",
      "source": [
        "**Question 4: Random Symbol Guessing Game With Counter**"
      ],
      "metadata": {
        "id": "Z1kgVrIQoxzi"
      }
    },
    {
      "cell_type": "code",
      "source": [
        "%%writefile q4.cpp\n",
        "#include <iostream>\n",
        "#include <cstdlib>\n",
        "#include <ctime>\n",
        "\n",
        "using namespace std;\n",
        "\n",
        "int main()\n",
        "{\n",
        "  char ch;\n",
        "  int guess, guessCount = 1;\n",
        "  unsigned(seed) = time(0);\n",
        "  srand(seed);\n",
        "  ch = (rand() % (126 - 32 + 1)) + 32;\n",
        "  cout << \"Enter your guess of character in ASCII code: \";\n",
        "  cin >> guess;\n",
        "  while (int(ch) != guess)\n",
        "  {\n",
        "    if (int(ch) > guess)\n",
        "    {\n",
        "      cout << \"Symbol's ASCII too low, try again: \";\n",
        "      cin >> guess;\n",
        "      guessCount += 1;\n",
        "    }\n",
        "    else\n",
        "    {\n",
        "      cout << \"Symbol's ASCII too high, try again: \";\n",
        "      cin >> guess;\n",
        "      guessCount += 1;\n",
        "    }\n",
        "  }\n",
        "  cout << \"Congratulations, you've guessed the symbol correctly with \" << guessCount << \" tries! The symbol is indeed \" << ch << \".\";\n",
        "\n",
        "  return 0;\n",
        "}"
      ],
      "metadata": {
        "colab": {
          "base_uri": "https://localhost:8080/"
        },
        "id": "pzmL7ozeo3w1",
        "outputId": "a97a9820-ba80-4d7f-b48f-10d918204380"
      },
      "execution_count": null,
      "outputs": [
        {
          "output_type": "stream",
          "name": "stdout",
          "text": [
            "Overwriting q4.cpp\n"
          ]
        }
      ]
    },
    {
      "cell_type": "code",
      "source": [
        "!g++ q4.cpp -o q4\n",
        "!./q4"
      ],
      "metadata": {
        "colab": {
          "base_uri": "https://localhost:8080/"
        },
        "id": "OdCNZ_6gpXHH",
        "outputId": "7b31ce23-6294-408e-b4a6-1eebd41ab45a"
      },
      "execution_count": null,
      "outputs": [
        {
          "output_type": "stream",
          "name": "stdout",
          "text": [
            "Enter your guess of character in ASCII code: 100\n",
            "Symbol's ASCII too high, try again: 50\n",
            "Symbol's ASCII too low, try again: 70\n",
            "Symbol's ASCII too low, try again: 85\n",
            "Symbol's ASCII too low, try again: 90\n",
            "Symbol's ASCII too high, try again: 87\n",
            "Symbol's ASCII too low, try again: 88\n",
            "Symbol's ASCII too low, try again: 89\n",
            "Congratulations, you've guessed the symbol correctly with 8 tries! The symbol is indeed Y."
          ]
        }
      ]
    },
    {
      "cell_type": "markdown",
      "source": [
        "**Question 5: Pattern**"
      ],
      "metadata": {
        "id": "HuPNnZbNqqAZ"
      }
    },
    {
      "cell_type": "code",
      "source": [
        "%%writefile q5.cpp\n",
        "#include <iostream>\n",
        "\n",
        "using namespace std;\n",
        "\n",
        "int main()\n",
        "{\n",
        "  int rows;\n",
        "  cout << \"Enter number of rows: \";\n",
        "  cin >> rows;\n",
        "  for (int i = 1; i <= rows; i++)\n",
        "  {\n",
        "    for (int j = 1; j <= i; j++)\n",
        "    {\n",
        "      cout << \"+\";\n",
        "    }\n",
        "    cout << endl;\n",
        "  }\n",
        "  for (int i = rows; i >= 1; i--)\n",
        "  {\n",
        "    for (int k = i; k >= 1; k--)\n",
        "    {\n",
        "      cout << \"*\";\n",
        "    }\n",
        "    cout << endl;\n",
        "  }\n",
        "\n",
        "  return 0;\n",
        "}"
      ],
      "metadata": {
        "colab": {
          "base_uri": "https://localhost:8080/"
        },
        "id": "Thg5x8VeqsQW",
        "outputId": "20798455-d9a4-4df0-8bb7-5866e169e15f"
      },
      "execution_count": null,
      "outputs": [
        {
          "output_type": "stream",
          "name": "stdout",
          "text": [
            "Overwriting q5.cpp\n"
          ]
        }
      ]
    },
    {
      "cell_type": "code",
      "source": [
        "!g++ q5.cpp -o q5\n",
        "!./q5"
      ],
      "metadata": {
        "colab": {
          "base_uri": "https://localhost:8080/"
        },
        "id": "ueYo_aZRrmuH",
        "outputId": "9db1129b-cf59-45fb-8a61-17a8a6daffa2"
      },
      "execution_count": null,
      "outputs": [
        {
          "output_type": "stream",
          "name": "stdout",
          "text": [
            "Enter number of rows: 10\n",
            "+\n",
            "++\n",
            "+++\n",
            "++++\n",
            "+++++\n",
            "++++++\n",
            "+++++++\n",
            "++++++++\n",
            "+++++++++\n",
            "++++++++++\n",
            "**********\n",
            "*********\n",
            "********\n",
            "*******\n",
            "******\n",
            "*****\n",
            "****\n",
            "***\n",
            "**\n",
            "*\n"
          ]
        }
      ]
    },
    {
      "cell_type": "markdown",
      "source": [
        "**Question 6: Pattern**"
      ],
      "metadata": {
        "id": "hAmEZOxxsy9W"
      }
    },
    {
      "cell_type": "code",
      "source": [
        "%%writefile q6.cpp\n",
        "#include <iostream>\n",
        "\n",
        "using namespace std;\n",
        "\n",
        "int main()\n",
        "{\n",
        "  int rows;\n",
        "  cout << \"Enter number of rows: \";\n",
        "  cin >> rows;\n",
        "  for (int i = 1; i <= rows; i++)\n",
        "  {\n",
        "    for (int j = rows; j >= i; j--)\n",
        "    {\n",
        "      cout << \"*\";\n",
        "    }\n",
        "    cout << endl;\n",
        "  }\n",
        "  for (int i = 1; i <= rows; i++)\n",
        "  {\n",
        "    for (int k = 1; k <= i; k++)\n",
        "    {\n",
        "      cout << \"+\";\n",
        "    }\n",
        "    cout << endl;\n",
        "  }\n",
        "\n",
        "  return 0;\n",
        "}"
      ],
      "metadata": {
        "colab": {
          "base_uri": "https://localhost:8080/"
        },
        "id": "qqCB81QHs1fC",
        "outputId": "682a785c-6858-4128-d490-6c2c069a3cfa"
      },
      "execution_count": null,
      "outputs": [
        {
          "output_type": "stream",
          "name": "stdout",
          "text": [
            "Overwriting q6.cpp\n"
          ]
        }
      ]
    },
    {
      "cell_type": "code",
      "source": [
        "!g++ q6.cpp -o q6\n",
        "!./q6"
      ],
      "metadata": {
        "colab": {
          "base_uri": "https://localhost:8080/"
        },
        "id": "X2X8kraBt2LA",
        "outputId": "02ffc881-5a9d-4d46-c71e-c5f84ad74f03"
      },
      "execution_count": null,
      "outputs": [
        {
          "output_type": "stream",
          "name": "stdout",
          "text": [
            "Enter number of rows: 10\n",
            "**********\n",
            "*********\n",
            "********\n",
            "*******\n",
            "******\n",
            "*****\n",
            "****\n",
            "***\n",
            "**\n",
            "*\n",
            "+\n",
            "++\n",
            "+++\n",
            "++++\n",
            "+++++\n",
            "++++++\n",
            "+++++++\n",
            "++++++++\n",
            "+++++++++\n",
            "++++++++++\n"
          ]
        }
      ]
    }
  ]
}