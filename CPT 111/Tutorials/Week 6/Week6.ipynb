{
  "nbformat": 4,
  "nbformat_minor": 0,
  "metadata": {
    "colab": {
      "provenance": []
    },
    "kernelspec": {
      "name": "python3",
      "display_name": "Python 3"
    },
    "language_info": {
      "name": "python"
    }
  },
  "cells": [
    {
      "cell_type": "code",
      "execution_count": null,
      "metadata": {
        "colab": {
          "base_uri": "https://localhost:8080/",
          "height": 73
        },
        "id": "ZoIzdXr2U0Hz",
        "outputId": "a3509567-9ee0-452c-d517-5dd275bf4922"
      },
      "outputs": [
        {
          "output_type": "display_data",
          "data": {
            "text/plain": [
              "<IPython.core.display.HTML object>"
            ],
            "text/html": [
              "\n",
              "     <input type=\"file\" id=\"files-fa32bb5b-0557-4edc-b640-bed7f2a3529c\" name=\"files[]\" multiple disabled\n",
              "        style=\"border:none\" />\n",
              "     <output id=\"result-fa32bb5b-0557-4edc-b640-bed7f2a3529c\">\n",
              "      Upload widget is only available when the cell has been executed in the\n",
              "      current browser session. Please rerun this cell to enable.\n",
              "      </output>\n",
              "      <script>// Copyright 2017 Google LLC\n",
              "//\n",
              "// Licensed under the Apache License, Version 2.0 (the \"License\");\n",
              "// you may not use this file except in compliance with the License.\n",
              "// You may obtain a copy of the License at\n",
              "//\n",
              "//      http://www.apache.org/licenses/LICENSE-2.0\n",
              "//\n",
              "// Unless required by applicable law or agreed to in writing, software\n",
              "// distributed under the License is distributed on an \"AS IS\" BASIS,\n",
              "// WITHOUT WARRANTIES OR CONDITIONS OF ANY KIND, either express or implied.\n",
              "// See the License for the specific language governing permissions and\n",
              "// limitations under the License.\n",
              "\n",
              "/**\n",
              " * @fileoverview Helpers for google.colab Python module.\n",
              " */\n",
              "(function(scope) {\n",
              "function span(text, styleAttributes = {}) {\n",
              "  const element = document.createElement('span');\n",
              "  element.textContent = text;\n",
              "  for (const key of Object.keys(styleAttributes)) {\n",
              "    element.style[key] = styleAttributes[key];\n",
              "  }\n",
              "  return element;\n",
              "}\n",
              "\n",
              "// Max number of bytes which will be uploaded at a time.\n",
              "const MAX_PAYLOAD_SIZE = 100 * 1024;\n",
              "\n",
              "function _uploadFiles(inputId, outputId) {\n",
              "  const steps = uploadFilesStep(inputId, outputId);\n",
              "  const outputElement = document.getElementById(outputId);\n",
              "  // Cache steps on the outputElement to make it available for the next call\n",
              "  // to uploadFilesContinue from Python.\n",
              "  outputElement.steps = steps;\n",
              "\n",
              "  return _uploadFilesContinue(outputId);\n",
              "}\n",
              "\n",
              "// This is roughly an async generator (not supported in the browser yet),\n",
              "// where there are multiple asynchronous steps and the Python side is going\n",
              "// to poll for completion of each step.\n",
              "// This uses a Promise to block the python side on completion of each step,\n",
              "// then passes the result of the previous step as the input to the next step.\n",
              "function _uploadFilesContinue(outputId) {\n",
              "  const outputElement = document.getElementById(outputId);\n",
              "  const steps = outputElement.steps;\n",
              "\n",
              "  const next = steps.next(outputElement.lastPromiseValue);\n",
              "  return Promise.resolve(next.value.promise).then((value) => {\n",
              "    // Cache the last promise value to make it available to the next\n",
              "    // step of the generator.\n",
              "    outputElement.lastPromiseValue = value;\n",
              "    return next.value.response;\n",
              "  });\n",
              "}\n",
              "\n",
              "/**\n",
              " * Generator function which is called between each async step of the upload\n",
              " * process.\n",
              " * @param {string} inputId Element ID of the input file picker element.\n",
              " * @param {string} outputId Element ID of the output display.\n",
              " * @return {!Iterable<!Object>} Iterable of next steps.\n",
              " */\n",
              "function* uploadFilesStep(inputId, outputId) {\n",
              "  const inputElement = document.getElementById(inputId);\n",
              "  inputElement.disabled = false;\n",
              "\n",
              "  const outputElement = document.getElementById(outputId);\n",
              "  outputElement.innerHTML = '';\n",
              "\n",
              "  const pickedPromise = new Promise((resolve) => {\n",
              "    inputElement.addEventListener('change', (e) => {\n",
              "      resolve(e.target.files);\n",
              "    });\n",
              "  });\n",
              "\n",
              "  const cancel = document.createElement('button');\n",
              "  inputElement.parentElement.appendChild(cancel);\n",
              "  cancel.textContent = 'Cancel upload';\n",
              "  const cancelPromise = new Promise((resolve) => {\n",
              "    cancel.onclick = () => {\n",
              "      resolve(null);\n",
              "    };\n",
              "  });\n",
              "\n",
              "  // Wait for the user to pick the files.\n",
              "  const files = yield {\n",
              "    promise: Promise.race([pickedPromise, cancelPromise]),\n",
              "    response: {\n",
              "      action: 'starting',\n",
              "    }\n",
              "  };\n",
              "\n",
              "  cancel.remove();\n",
              "\n",
              "  // Disable the input element since further picks are not allowed.\n",
              "  inputElement.disabled = true;\n",
              "\n",
              "  if (!files) {\n",
              "    return {\n",
              "      response: {\n",
              "        action: 'complete',\n",
              "      }\n",
              "    };\n",
              "  }\n",
              "\n",
              "  for (const file of files) {\n",
              "    const li = document.createElement('li');\n",
              "    li.append(span(file.name, {fontWeight: 'bold'}));\n",
              "    li.append(span(\n",
              "        `(${file.type || 'n/a'}) - ${file.size} bytes, ` +\n",
              "        `last modified: ${\n",
              "            file.lastModifiedDate ? file.lastModifiedDate.toLocaleDateString() :\n",
              "                                    'n/a'} - `));\n",
              "    const percent = span('0% done');\n",
              "    li.appendChild(percent);\n",
              "\n",
              "    outputElement.appendChild(li);\n",
              "\n",
              "    const fileDataPromise = new Promise((resolve) => {\n",
              "      const reader = new FileReader();\n",
              "      reader.onload = (e) => {\n",
              "        resolve(e.target.result);\n",
              "      };\n",
              "      reader.readAsArrayBuffer(file);\n",
              "    });\n",
              "    // Wait for the data to be ready.\n",
              "    let fileData = yield {\n",
              "      promise: fileDataPromise,\n",
              "      response: {\n",
              "        action: 'continue',\n",
              "      }\n",
              "    };\n",
              "\n",
              "    // Use a chunked sending to avoid message size limits. See b/62115660.\n",
              "    let position = 0;\n",
              "    do {\n",
              "      const length = Math.min(fileData.byteLength - position, MAX_PAYLOAD_SIZE);\n",
              "      const chunk = new Uint8Array(fileData, position, length);\n",
              "      position += length;\n",
              "\n",
              "      const base64 = btoa(String.fromCharCode.apply(null, chunk));\n",
              "      yield {\n",
              "        response: {\n",
              "          action: 'append',\n",
              "          file: file.name,\n",
              "          data: base64,\n",
              "        },\n",
              "      };\n",
              "\n",
              "      let percentDone = fileData.byteLength === 0 ?\n",
              "          100 :\n",
              "          Math.round((position / fileData.byteLength) * 100);\n",
              "      percent.textContent = `${percentDone}% done`;\n",
              "\n",
              "    } while (position < fileData.byteLength);\n",
              "  }\n",
              "\n",
              "  // All done.\n",
              "  yield {\n",
              "    response: {\n",
              "      action: 'complete',\n",
              "    }\n",
              "  };\n",
              "}\n",
              "\n",
              "scope.google = scope.google || {};\n",
              "scope.google.colab = scope.google.colab || {};\n",
              "scope.google.colab._files = {\n",
              "  _uploadFiles,\n",
              "  _uploadFilesContinue,\n",
              "};\n",
              "})(self);\n",
              "</script> "
            ]
          },
          "metadata": {}
        },
        {
          "output_type": "stream",
          "name": "stdout",
          "text": [
            "Saving number4.txt to number4.txt\n"
          ]
        }
      ],
      "source": [
        "from google.colab import files\n",
        "upload = files.upload()"
      ]
    },
    {
      "cell_type": "markdown",
      "source": [
        "**Question 1: File Test**"
      ],
      "metadata": {
        "id": "Bv_emrG-VHsv"
      }
    },
    {
      "cell_type": "code",
      "source": [
        "%%writefile q1.cpp\n",
        "#include <iostream>\n",
        "#include <fstream>\n",
        "#include <string>\n",
        "\n",
        "using namespace std;\n",
        "\n",
        "int main()\n",
        "{\n",
        "  int line = 0;\n",
        "  string filename, str;\n",
        "  cout << \"Enter file name: \";\n",
        "  cin >> filename;\n",
        "  filename = \"/content/\" + filename + \".txt\";\n",
        "  fstream inFile(filename, ios::in);\n",
        "  if (inFile)\n",
        "  {\n",
        "    while (!inFile.eof())\n",
        "    {\n",
        "      getline(inFile, str);\n",
        "      line += 1;\n",
        "      if (line % 2 != 0)\n",
        "      {\n",
        "        cout << line << \". \" << str << endl;\n",
        "      }\n",
        "    }\n",
        "  }\n",
        "  else\n",
        "  {\n",
        "    cout << \"Failed to open file.\";\n",
        "  }\n",
        "\n",
        "  inFile.close();\n",
        "\n",
        "  return 0;\n",
        "}"
      ],
      "metadata": {
        "colab": {
          "base_uri": "https://localhost:8080/"
        },
        "id": "NxnJNE_cVKP0",
        "outputId": "48019963-f387-4cfe-8366-d640818607e0"
      },
      "execution_count": null,
      "outputs": [
        {
          "output_type": "stream",
          "name": "stdout",
          "text": [
            "Overwriting q1.cpp\n"
          ]
        }
      ]
    },
    {
      "cell_type": "code",
      "source": [
        "!g++ q1.cpp -o q1\n",
        "!./q1"
      ],
      "metadata": {
        "colab": {
          "base_uri": "https://localhost:8080/"
        },
        "id": "vy6ETJwEVTgj",
        "outputId": "e43748df-97a6-4d5e-b6c1-391f6c798857"
      },
      "execution_count": null,
      "outputs": [
        {
          "output_type": "stream",
          "name": "stdout",
          "text": [
            "Enter file name: textq1\n",
            "1. This is the text used in testing program 1\n",
            "3. The program is supposed to display alternate lines\n",
            "5. The second, fourth, sixth, eighth, etc will not be displayed\n"
          ]
        }
      ]
    },
    {
      "cell_type": "markdown",
      "source": [
        "**Question 2: Ask User to Input Name of the File**"
      ],
      "metadata": {
        "id": "gs4nPsdaVrCR"
      }
    },
    {
      "cell_type": "code",
      "source": [
        "%%writefile q2.cpp\n",
        "#include <iostream>\n",
        "#include <string>\n",
        "#include <fstream>\n",
        "\n",
        "using namespace std;\n",
        "\n",
        "int main()\n",
        "{\n",
        "  string filename, str;\n",
        "  int row = 1;\n",
        "  cout << \"Enter the file name: \";\n",
        "  cin >> filename;\n",
        "  filename = \"/content/\" + filename + \".txt\";\n",
        "  fstream inFile(filename, ios::in);\n",
        "  while (getline(inFile, str))\n",
        "  {\n",
        "    if (row > 24)\n",
        "    {\n",
        "      row = 1;\n",
        "      cin.ignore();\n",
        "      getchar();\n",
        "    }\n",
        "    cout << row << \". \" << str << endl;\n",
        "    row += 1;\n",
        "  }\n",
        "  inFile.close();\n",
        "\n",
        "  return 0;\n",
        "}"
      ],
      "metadata": {
        "colab": {
          "base_uri": "https://localhost:8080/"
        },
        "id": "zbL1aYqyV1ne",
        "outputId": "3fe920d8-b2fa-4e54-a9c2-259d6749a257"
      },
      "execution_count": null,
      "outputs": [
        {
          "output_type": "stream",
          "name": "stdout",
          "text": [
            "Overwriting q2.cpp\n"
          ]
        }
      ]
    },
    {
      "cell_type": "code",
      "source": [
        "!g++ q2.cpp -o q2\n",
        "!./q2"
      ],
      "metadata": {
        "colab": {
          "base_uri": "https://localhost:8080/"
        },
        "id": "nF5xhIPxbk2v",
        "outputId": "fef80cf3-a521-4897-95fe-299b18fc64c7"
      },
      "execution_count": null,
      "outputs": [
        {
          "output_type": "stream",
          "name": "stdout",
          "text": [
            "Enter the file name: text\n",
            "1. No one is unaware of the name of that famous English shipowner, Cunard.\n",
            "2. In 1840 this shrewd industrialist founded a postal service between Liverpool and Halifax, featuring three wooden ships with 400-horsepower paddle wheels and a burden of 1,162 metric tons.\n",
            "3. Eight years later, the company's assets were increased by four 650-horsepower ships at 1,820 metric tons, and in two more years, by two other vessels of still greater power and tonnage.\n",
            "4. In 1853 the Cunard Co., whose mail-carrying charter had just been renewed, successively added to its assets the Arabia, the Persia, the China, the Scotia, the Java, and the Russia, all ships of top speed and, after the Great Eastern, the biggest ever to plow the seas.\n",
            "5. So in 1867 this company owned twelve ships, eight with paddle wheels and four with propellers.\n",
            "6. If I give these highly condensed details, it is so everyone can fully understand the importance of this maritime transportation company, known the world over for its shrewd management.\n",
            "7. No transoceanic navigational undertaking has been conducted with more ability, no business dealings have been crowned with greater success.\n",
            "8. In twenty-six years Cunard ships have made 2,000 Atlantic crossings without so much as a voyage canceled, a delay recorded, a man, a craft, or even a letter lost.\n",
            "9. Accordingly, despite strong competition from France, passengers still choose the Cunard line in preference to all others, as can be seen in a recent survey of official documents.\n",
            "10. Given this, no one will be astonished at the uproar provoked by this accident involving one of its finest steamers.\n",
            "11. No one is unaware of the name of that famous English shipowner, Cunard.\n",
            "12. In 1840 this shrewd industrialist founded a postal service between Liverpool and Halifax, featuring three wooden ships with 400-horsepower paddle wheels and a burden of 1,162 metric tons.\n",
            "13. Eight years later, the company's assets were increased by four 650-horsepower ships at 1,820 metric tons, and in two more years, by two other vessels of still greater power and tonnage.\n",
            "14. In 1853 the Cunard Co., whose mail-carrying charter had just been renewed, successively added to its assets the Arabia, the Persia, the China, the Scotia, the Java, and the Russia, all ships of top speed and, after the Great Eastern, the biggest ever to plow the seas.\n",
            "15. So in 1867 this company owned twelve ships, eight with paddle wheels and four with propellers.\n",
            "16. If I give these highly condensed details, it is so everyone can fully understand the importance of this maritime transportation company, known the world over for its shrewd management.\n",
            "17. No transoceanic navigational undertaking has been conducted with more ability, no business dealings have been crowned with greater success.\n",
            "18. In twenty-six years Cunard ships have made 2,000 Atlantic crossings without so much as a voyage canceled, a delay recorded, a man, a craft, or even a letter lost.\n",
            "19. Accordingly, despite strong competition from France, passengers still choose the Cunard line in preference to all others, as can be seen in a recent survey of official documents.\n",
            "20. Given this, no one will be astonished at the uproar provoked by this accident involving one of its finest steamers.\n",
            "21. No one is unaware of the name of that famous English shipowner, Cunard.\n",
            "22. In 1840 this shrewd industrialist founded a postal service between Liverpool and Halifax, featuring three wooden ships with 400-horsepower paddle wheels and a burden of 1,162 metric tons.\n",
            "23. Eight years later, the company's assets were increased by four 650-horsepower ships at 1,820 metric tons, and in two more years, by two other vessels of still greater power and tonnage.\n",
            "24. In 1853 the Cunard Co., whose mail-carrying charter had just been renewed, successively added to its assets the Arabia, the Persia, the China, the Scotia, the Java, and the Russia, all ships of top speed and, after the Great Eastern, the biggest ever to plow the seas.\n",
            "\n",
            "1. So in 1867 this company owned twelve ships, eight with paddle wheels and four with propellers.\n",
            "2. If I give these highly condensed details, it is so everyone can fully understand the importance of this maritime transportation company, known the world over for its shrewd management.\n",
            "3. No transoceanic navigational undertaking has been conducted with more ability, no business dealings have been crowned with greater success.\n",
            "4. In twenty-six years Cunard ships have made 2,000 Atlantic crossings without so much as a voyage canceled, a delay recorded, a man, a craft, or even a letter lost.\n",
            "5. Accordingly, despite strong competition from France, passengers still choose the Cunard line in preference to all others, as can be seen in a recent survey of official documents.\n",
            "6. Given this, no one will be astonished at the uproar provoked by this accident involving one of its finest steamers.\n"
          ]
        }
      ]
    },
    {
      "cell_type": "markdown",
      "source": [
        "**Question 3: Joke File**"
      ],
      "metadata": {
        "id": "0vTo15vedNHW"
      }
    },
    {
      "cell_type": "code",
      "source": [
        "%%writefile q3.cpp\n",
        "#include <iostream>\n",
        "#include <fstream>\n",
        "#include <string>\n",
        "\n",
        "using namespace std;\n",
        "\n",
        "int main()\n",
        "{\n",
        "  int seek = -1;\n",
        "  char ch;\n",
        "  string line;\n",
        "  fstream joke(\"/content/joke.txt\", ios::in);\n",
        "  while (getline(joke, line))\n",
        "  {\n",
        "    cout << line << endl;\n",
        "  }\n",
        "  fstream punchline(\"/content/punchline.txt\", ios::in);\n",
        "  punchline.seekg(seek, ios::end);\n",
        "  punchline.get(ch);\n",
        "  while (ch != '\\n')\n",
        "  {\n",
        "      punchline.seekg(seek, ios::end);\n",
        "      punchline.get(ch);\n",
        "      seek--;\n",
        "  }\n",
        "  getline(punchline, line);\n",
        "  cout << line;\n",
        "\n",
        "  joke.close();\n",
        "  punchline.close();\n",
        "\n",
        "  return 0;\n",
        "}"
      ],
      "metadata": {
        "colab": {
          "base_uri": "https://localhost:8080/"
        },
        "id": "p1MfNHggdfEZ",
        "outputId": "8a18102c-3cde-46bb-8c3d-d77fa8522f11"
      },
      "execution_count": null,
      "outputs": [
        {
          "output_type": "stream",
          "name": "stdout",
          "text": [
            "Overwriting q3.cpp\n"
          ]
        }
      ]
    },
    {
      "cell_type": "code",
      "source": [
        "!g++ q3.cpp -o q3\n",
        "!./q3"
      ],
      "metadata": {
        "colab": {
          "base_uri": "https://localhost:8080/"
        },
        "id": "faJ6S82UDe2y",
        "outputId": "927ab58f-9227-4144-d230-94cc5db44ede"
      },
      "execution_count": null,
      "outputs": [
        {
          "output_type": "stream",
          "name": "stdout",
          "text": [
            "Two men who work together in a factory were talking.\r\n",
            "\"I know how to get some time off,\" said one.\r\n",
            "\"How are you going to do that?\" asked the other.\r\n",
            "\"Watch,\" he said, and climbed a ladder to the ceiling.\r\n",
            "The foreman asked what he was doing up there,\r\n",
            "and the man replied. \"I'm a lightbulb.\"\r\n",
            "\"I think you need some time off,\" the foreman\r\n",
            "said, and the first man walked out of the \r\n",
            "factory. After a moment, the second man followed \r\n",
            "him. \"Where do you think you're going?\" \r\n",
            "the foreman shouted.\r\n",
            "\r\n",
            "\"I can't work in the dark,\" he said."
          ]
        }
      ]
    },
    {
      "cell_type": "markdown",
      "source": [
        "**Question 4: Data About the File**"
      ],
      "metadata": {
        "id": "IPGvEEV1_qem"
      }
    },
    {
      "cell_type": "code",
      "source": [
        "%%writefile q4.cpp\n",
        "#include <iostream>\n",
        "#include <fstream>\n",
        "#include <string>\n",
        "\n",
        "using namespace std;\n",
        "\n",
        "int main()\n",
        "{\n",
        "  int wordCount = 0, sentenceCount = 0;\n",
        "  string fileName;\n",
        "  char ch;\n",
        "  cout << \"Enter the file name: \";\n",
        "  cin >> fileName;\n",
        "  fileName = \"/content/\" + fileName + \".txt\";\n",
        "  fstream file(fileName, ios::in);\n",
        "  file.seekg(0);\n",
        "  while (file.get(ch))\n",
        "  {\n",
        "    if (ch == ' ' || ch =='\\n')\n",
        "    {\n",
        "      wordCount += 1;\n",
        "    }\n",
        "    else if (ch == '.')\n",
        "    {\n",
        "      sentenceCount += 1;\n",
        "    }\n",
        "  }\n",
        "  wordCount += 1;\n",
        "  cout << \"\\nThere are \" << wordCount << \" words and \" << sentenceCount << \" sentence(s) in this file.\";\n",
        "\n",
        "  file.close();\n",
        "\n",
        "  return 0;\n",
        "}"
      ],
      "metadata": {
        "colab": {
          "base_uri": "https://localhost:8080/"
        },
        "id": "OTB9NCnk_vYs",
        "outputId": "efd19db5-283c-410a-88bb-df3fa2fe40ff"
      },
      "execution_count": null,
      "outputs": [
        {
          "output_type": "stream",
          "name": "stdout",
          "text": [
            "Writing q4.cpp\n"
          ]
        }
      ]
    },
    {
      "cell_type": "code",
      "source": [
        "!g++ q4.cpp -o q4\n",
        "!./q4"
      ],
      "metadata": {
        "colab": {
          "base_uri": "https://localhost:8080/"
        },
        "id": "HL8bk1_tFCo5",
        "outputId": "4c7e449c-81a4-4fc1-d8f6-bab910b27fb7"
      },
      "execution_count": null,
      "outputs": [
        {
          "output_type": "stream",
          "name": "stdout",
          "text": [
            "Enter the file name: number4\n",
            "\n",
            "There are 34 words and 3 sentence(s) in this file."
          ]
        }
      ]
    },
    {
      "cell_type": "markdown",
      "source": [
        "**Question 5: Display Content of File**"
      ],
      "metadata": {
        "id": "w3p52UTK5KpE"
      }
    },
    {
      "cell_type": "code",
      "source": [
        "%%writefile q5.cpp\n",
        "#include <iostream>\n",
        "#include <fstream>\n",
        "#include <string>\n",
        "\n",
        "using namespace std;\n",
        "\n",
        "int main()\n",
        "{\n",
        "  string filename;\n",
        "  int line = 1, wordCount = 0;\n",
        "  char ch;\n",
        "  cout << \"Enter the file name: \";\n",
        "  cin >> filename;\n",
        "  filename = \"/content/\" + filename + \".txt\";\n",
        "  fstream file(filename, ios::in);\n",
        "  cout << \"1: \";\n",
        "  while (file.get(ch))\n",
        "  {\n",
        "    if (wordCount > 24)\n",
        "    {\n",
        "      cin.ignore();\n",
        "      getchar();\n",
        "      wordCount = 0;\n",
        "      cout << ch;\n",
        "    }\n",
        "    else if (ch == '\\n' || ch == ' ') //To calculate word count\n",
        "    {\n",
        "      if (ch == '\\n')\n",
        "      {\n",
        "        line += 1;\n",
        "        wordCount = 1;\n",
        "        cout << ch << line << \": \";\n",
        "      }\n",
        "      else\n",
        "      {\n",
        "        wordCount += 1;\n",
        "        cout << ch;\n",
        "      }\n",
        "    }\n",
        "    else\n",
        "    {\n",
        "      cout << ch;\n",
        "    }\n",
        "  }\n",
        "\n",
        "  file.close();\n",
        "\n",
        "  return 0;\n",
        "}"
      ],
      "metadata": {
        "colab": {
          "base_uri": "https://localhost:8080/"
        },
        "id": "e3-zU1jr5YX5",
        "outputId": "94cef531-c3ee-4504-d7aa-fd8345e41e61"
      },
      "execution_count": null,
      "outputs": [
        {
          "output_type": "stream",
          "name": "stdout",
          "text": [
            "Overwriting q5.cpp\n"
          ]
        }
      ]
    },
    {
      "cell_type": "code",
      "source": [
        "!g++ q5.cpp -o q5\n",
        "!./q5"
      ],
      "metadata": {
        "colab": {
          "base_uri": "https://localhost:8080/"
        },
        "id": "kBiZBy5b_Rhk",
        "outputId": "28273f3e-9f43-445d-e58c-571c64e4a730"
      },
      "execution_count": null,
      "outputs": [
        {
          "output_type": "stream",
          "name": "stdout",
          "text": [
            "Enter the file name: number5\n",
            "1: George Rolland\n",
            "2: 127 This Is A Super Super Super Super Super Super Super Super Super Super Super Super Super Super Super Super Super Super Super Super \n",
            "Long Street\n",
            "3: Brasstown, NC 28706"
          ]
        }
      ]
    },
    {
      "cell_type": "markdown",
      "source": [
        "**Question 6: Display Words With Conditions**"
      ],
      "metadata": {
        "id": "bDtj1FZec1Lt"
      }
    },
    {
      "cell_type": "code",
      "source": [
        "%%writefile q6.cpp\n",
        "#include <iostream>\n",
        "#include <fstream>\n",
        "#include <string>\n",
        "\n",
        "using namespace std;\n",
        "\n",
        "int main()\n",
        "{\n",
        "  char ch;\n",
        "  string filename;\n",
        "  int wordLength = 0;\n",
        "  cout << \"Enter the name of the file: \";\n",
        "  cin >> filename;\n",
        "  filename = \"/content/\" + filename + \".txt\";\n",
        "  fstream file(filename, ios::in);\n",
        "  if (file)\n",
        "  {\n",
        "    while (file.get(ch))\n",
        "    {\n",
        "      wordLength += 1;\n",
        "      if (ch == ' ' || ch == '\\n') //detect if the word is complete\n",
        "      {\n",
        "        if (wordLength >= 10) //print the word with length >= 10\n",
        "        {\n",
        "          file.seekg(-wordLength, ios::cur);\n",
        "          for (int i = 0; i < wordLength; i++)\n",
        "          {\n",
        "            file.get(ch);\n",
        "            cout << ch;\n",
        "          }\n",
        "        }\n",
        "        wordLength = 0;\n",
        "      }\n",
        "    }\n",
        "  }\n",
        "\n",
        "  file.close();\n",
        "\n",
        "  return 0;\n",
        "}"
      ],
      "metadata": {
        "colab": {
          "base_uri": "https://localhost:8080/"
        },
        "id": "61IfbeQ3c8Ed",
        "outputId": "32cfaf2d-8688-4a8a-b0fe-d6a8e9c26f68"
      },
      "execution_count": null,
      "outputs": [
        {
          "output_type": "stream",
          "name": "stdout",
          "text": [
            "Overwriting q6.cpp\n"
          ]
        }
      ]
    },
    {
      "cell_type": "code",
      "source": [
        "!g++ q6.cpp -o q6\n",
        "!./q6"
      ],
      "metadata": {
        "colab": {
          "base_uri": "https://localhost:8080/"
        },
        "id": "Iz79ISL5jeeC",
        "outputId": "6f24b5b1-d171-4b92-bae1-86f5c5ea439b"
      },
      "execution_count": null,
      "outputs": [
        {
          "output_type": "stream",
          "name": "stdout",
          "text": [
            "Enter the name of the file: number6\n",
            "longggggggggggg longgggggggggggggggggggg bbbbbbbbbb "
          ]
        }
      ]
    },
    {
      "cell_type": "markdown",
      "source": [
        "**Question 9: Multiple Files**"
      ],
      "metadata": {
        "id": "6USyg1Kas5uq"
      }
    },
    {
      "cell_type": "code",
      "source": [
        "%%writefile q9.cpp\n",
        "#include <iostream>\n",
        "#include <fstream>\n",
        "#include <string>\n",
        "#include <iomanip>\n",
        "\n",
        "using namespace std;\n",
        "\n",
        "int main()\n",
        "{\n",
        "  string name, department, check;\n",
        "  double gross, bonus, tax, distance, time, speed, cost, sales;\n",
        "  int sold;\n",
        "  fstream inFile(\"/content/inData.txt\", ios::in);\n",
        "  fstream outFile(\"/content/outData.txt\", ios::out);\n",
        "  outFile << \"Name: \"; //Name\n",
        "  getline(inFile, name, ' ');\n",
        "  outFile << name << \" \";\n",
        "  getline(inFile, name, ' ');\n",
        "  outFile << name;\n",
        "  getline(inFile, department);\n",
        "  outFile << \", Department: \" << department << endl;\n",
        "  inFile >> gross;\n",
        "  outFile << \"Monthly Gross Salary: $\" << fixed << setprecision(2) << gross;\n",
        "  inFile >> bonus;\n",
        "  outFile << \", Monthly Bonus: \" << fixed << setprecision(2) << bonus << \"%,\\n\";\n",
        "  inFile >> tax;\n",
        "  outFile << \"Taxes: \" << fixed << setprecision(2) << tax << \"%\\n\";\n",
        "  inFile >> distance;\n",
        "  outFile << \"Distance Traveled: \" << fixed << setprecision(2) << distance << \" miles, \";\n",
        "  inFile >> time;\n",
        "  outFile << \"Traveling Time: \" << fixed << setprecision(2) << time << \" hours\\nAverage Speed: \" << fixed << setprecision(2) << distance / time << \" miles per hour\\n\";\n",
        "  inFile >> sold;\n",
        "  outFile << \"Number of Coffee Cups Sold: \" << sold;\n",
        "  inFile >> cost;\n",
        "  outFile << \", Cost: $\" << fixed << setprecision(2) << cost << \" per cup\\n\";\n",
        "  outFile << \"Sales Amount = $\" << fixed << setprecision(2) << sold * cost;\n",
        "\n",
        "  inFile.close();\n",
        "  outFile.close();\n",
        "\n",
        "  //Checking if the data transferring is success\n",
        "  outFile.open(\"/content/outData.txt\", ios::in);\n",
        "  while (getline(outFile, check))\n",
        "  {\n",
        "    cout << check << endl;\n",
        "  }\n",
        "\n",
        "  outFile.close();\n",
        "\n",
        "  return 0;\n",
        "}"
      ],
      "metadata": {
        "colab": {
          "base_uri": "https://localhost:8080/"
        },
        "id": "HmETu2HftFtB",
        "outputId": "b7625c9e-8a72-4c2e-d3cf-d2541db564cd"
      },
      "execution_count": null,
      "outputs": [
        {
          "output_type": "stream",
          "name": "stdout",
          "text": [
            "Overwriting q9.cpp\n"
          ]
        }
      ]
    },
    {
      "cell_type": "code",
      "source": [
        "!g++ q9.cpp -o q9\n",
        "!./q9"
      ],
      "metadata": {
        "colab": {
          "base_uri": "https://localhost:8080/"
        },
        "id": "pdTRnKThLgO-",
        "outputId": "167e4a56-8f4c-479f-d83b-24a65e3ecca2"
      },
      "execution_count": null,
      "outputs": [
        {
          "output_type": "stream",
          "name": "stdout",
          "text": [
            "Name: Gordon Chai, Department: Computer Science\r\n",
            "Monthly Gross Salary: $5600.00, Monthly Bonus: 5.00%,\n",
            "Taxes: 30.00%\n",
            "Distance Traveled: 450.00 miles, Traveling Time: 9.00 hours\n",
            "Average Speed: 50.00 miles per hour\n",
            "Number of Coffee Cups Sold: 75, Cost: $1.50 per cup\n",
            "Sales Amount = $112.50\n"
          ]
        }
      ]
    },
    {
      "cell_type": "markdown",
      "source": [
        "**Question 10: Ticket Sales**"
      ],
      "metadata": {
        "id": "vodQ2Y9v44DL"
      }
    },
    {
      "cell_type": "code",
      "source": [
        "%%writefile q10.cpp\n",
        "#include <iostream>\n",
        "#include <fstream>\n",
        "#include <iomanip>\n",
        "\n",
        "using namespace std;\n",
        "\n",
        "int main()\n",
        "{\n",
        "  double ticketPrice, totalSale;\n",
        "  int numberOfTicketsSold, totalSold;\n",
        "  fstream inFile(\"/content/inTicket.txt\", ios::in);\n",
        "  fstream outFile(\"/content/outTicket.txt\", ios::out);\n",
        "  outFile << right << setw(31) << \"Ticket Price ($)\\tTicket Sold\\n\";\n",
        "  outFile << \"----------------------------------------\\n\";\n",
        "  while (!inFile.eof())\n",
        "  {\n",
        "    inFile >> ticketPrice;\n",
        "    outFile << right << setw(12) << fixed << setprecision(2) << ticketPrice;\n",
        "    inFile >> numberOfTicketsSold;\n",
        "    outFile << right << setw(16) << numberOfTicketsSold << endl;\n",
        "    totalSold += numberOfTicketsSold;\n",
        "    totalSale += ticketPrice * numberOfTicketsSold;\n",
        "  }\n",
        "  outFile << \"----------------------------------------\\n\";\n",
        "  outFile << \"Total Tickets Sold: \" << setw(12) << right << totalSold << \" tickets\\n\";\n",
        "  outFile << \"Total Sale Amount: \" << setw(11) << right << \"$\" << fixed << setprecision(2) << totalSale;\n",
        "\n",
        "\n",
        "  inFile.close();\n",
        "  outFile.close();\n",
        "\n",
        "  return 0;\n",
        "}"
      ],
      "metadata": {
        "colab": {
          "base_uri": "https://localhost:8080/"
        },
        "id": "85lQF2wC48I2",
        "outputId": "d18fed7a-bf2b-4363-8d39-be04ed467057"
      },
      "execution_count": null,
      "outputs": [
        {
          "output_type": "stream",
          "name": "stdout",
          "text": [
            "Writing q10.cpp\n"
          ]
        }
      ]
    },
    {
      "cell_type": "code",
      "source": [
        "!g++ q10.cpp -o q10\n",
        "!./q10"
      ],
      "metadata": {
        "id": "1zAVHIYJ579P"
      },
      "execution_count": null,
      "outputs": []
    },
    {
      "cell_type": "markdown",
      "source": [
        "**Question 11: Special Pay**"
      ],
      "metadata": {
        "id": "XL3-a0hUodwC"
      }
    },
    {
      "cell_type": "code",
      "source": [
        "%%writefile q11.cpp\n",
        "#include <iostream>\n",
        "#include <string>\n",
        "#include <fstream>\n",
        "#include <iomanip>\n",
        "\n",
        "using namespace std;\n",
        "\n",
        "int main()\n",
        "{\n",
        "  string lastName, firstName;\n",
        "  double salary, payInc, updatedSal;\n",
        "  fstream inFile(\"/content/inPay.txt\", ios::in);\n",
        "  fstream outFile(\"/content/outPay.txt\", ios::out);\n",
        "  while (!inFile.eof())\n",
        "  {\n",
        "    inFile >> lastName >> firstName >> salary >> payInc;\n",
        "    updatedSal = salary * 1.05;\n",
        "    outFile << firstName << \" \" << lastName << \" \" << fixed << setprecision(2) << updatedSal << endl;\n",
        "  }\n",
        "\n",
        "  inFile.close();\n",
        "  outFile.close();\n",
        "\n",
        "\n",
        "  return 0;\n",
        "}"
      ],
      "metadata": {
        "colab": {
          "base_uri": "https://localhost:8080/"
        },
        "id": "Lw-3TEZToiXR",
        "outputId": "e287aedf-7cf4-44ad-e22a-c73de7a9d798"
      },
      "execution_count": null,
      "outputs": [
        {
          "output_type": "stream",
          "name": "stdout",
          "text": [
            "Overwriting q11.cpp\n"
          ]
        }
      ]
    },
    {
      "cell_type": "code",
      "source": [
        "!g++ q11.cpp -o q11\n",
        "!./q11"
      ],
      "metadata": {
        "id": "SeKh1gWzswwV"
      },
      "execution_count": null,
      "outputs": []
    }
  ]
}