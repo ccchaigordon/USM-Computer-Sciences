{
  "nbformat": 4,
  "nbformat_minor": 0,
  "metadata": {
    "colab": {
      "provenance": []
    },
    "kernelspec": {
      "name": "python3",
      "display_name": "Python 3"
    },
    "language_info": {
      "name": "python"
    }
  },
  "cells": [
    {
      "cell_type": "markdown",
      "source": [
        "**Question 1**"
      ],
      "metadata": {
        "id": "VgnBJXD8Z5f9"
      }
    },
    {
      "cell_type": "code",
      "execution_count": null,
      "metadata": {
        "colab": {
          "base_uri": "https://localhost:8080/"
        },
        "id": "_se29F4pS8aw",
        "outputId": "979bfe38-0a79-47fd-92a0-2f1eb75afa6f"
      },
      "outputs": [
        {
          "output_type": "stream",
          "name": "stdout",
          "text": [
            "Overwriting week3q1.cpp\n"
          ]
        }
      ],
      "source": [
        "%%writefile week3q1.cpp\n",
        "\n",
        "#include <iostream>\n",
        "\n",
        "using namespace std;\n",
        "\n",
        "int main()\n",
        "{\n",
        "  const int total = 30, calPerServing = 300, serving = 10, cookiePerServing = 3, calPerCookie = calPerServing / cookiePerServing;\n",
        "  int numEaten, totalCal;\n",
        "  cout << \"How many cookies have you eaten? \";\n",
        "  cin >> numEaten;\n",
        "  totalCal = numEaten * calPerCookie;\n",
        "  cout << \"Total calories consumed: \" << totalCal << \".\";\n",
        "\n",
        "  return 0;\n",
        "}"
      ]
    },
    {
      "cell_type": "code",
      "source": [
        "!g++ week3q1.cpp -o week3q1\n",
        "!./week3q1"
      ],
      "metadata": {
        "colab": {
          "base_uri": "https://localhost:8080/"
        },
        "id": "37-cnL9EWVxV",
        "outputId": "064075df-628f-44e5-c101-4512d87d4d73"
      },
      "execution_count": null,
      "outputs": [
        {
          "output_type": "stream",
          "name": "stdout",
          "text": [
            "How many cookies have you eaten? 5\n",
            "Total calories consumed: 500."
          ]
        }
      ]
    },
    {
      "cell_type": "markdown",
      "source": [
        "**Question 2**"
      ],
      "metadata": {
        "id": "nNNKYABTZ89d"
      }
    },
    {
      "cell_type": "code",
      "source": [
        "%%writefile week3q2.cpp\n",
        "\n",
        "#include <iostream>\n",
        "#include <iomanip>\n",
        "\n",
        "using namespace std;\n",
        "\n",
        "int main()\n",
        "{\n",
        "  string month1, month2, month3;\n",
        "  double rain1, rain2, rain3, avgRain;\n",
        "  cout << \"Enter the first month: \";\n",
        "  cin >> month1;\n",
        "  cout << \"Enter the amount rained during the first month (in inches): \";\n",
        "  cin >> rain1;\n",
        "  cout << \"Enter the second month: \";\n",
        "  cin >> month2;\n",
        "  cout << \"Enter the amount rained during the second month (in inches): \";\n",
        "  cin >> rain2;\n",
        "  cout << \"Enter the third month: \";\n",
        "  cin >> month3;\n",
        "  cout << \"Enter the amount rained during the third month (in inches): \";\n",
        "  cin >> rain3;\n",
        "  avgRain = (rain1 + rain2 + rain3) / 3;\n",
        "  cout << \"The average rainfall for \" << month1 << \", \" << month2 << \" and \" << month3 << \" in inches is \" << setprecision(2) << avgRain << \".\";\n",
        "\n",
        "  return 0;\n",
        "}"
      ],
      "metadata": {
        "colab": {
          "base_uri": "https://localhost:8080/"
        },
        "id": "LxMKdMwsZAjx",
        "outputId": "703ed0ec-e76b-4b3d-8dc2-4548d78c9dcd"
      },
      "execution_count": null,
      "outputs": [
        {
          "output_type": "stream",
          "name": "stdout",
          "text": [
            "Overwriting week3q2.cpp\n"
          ]
        }
      ]
    },
    {
      "cell_type": "code",
      "source": [
        "!g++ week3q2.cpp -o week3q2\n",
        "!./week3q2"
      ],
      "metadata": {
        "colab": {
          "base_uri": "https://localhost:8080/"
        },
        "id": "1YCeZzSfaD5l",
        "outputId": "f6296655-2811-4566-f096-4710d48cee11"
      },
      "execution_count": null,
      "outputs": [
        {
          "output_type": "stream",
          "name": "stdout",
          "text": [
            "Enter the first month: ^C\n"
          ]
        }
      ]
    },
    {
      "cell_type": "markdown",
      "source": [
        "**Question 3**"
      ],
      "metadata": {
        "id": "b1wmAZvnetXK"
      }
    },
    {
      "cell_type": "code",
      "source": [
        "%%writefile week3q3.cpp\n",
        "\n",
        "#include <iostream>\n",
        "\n",
        "using namespace std;\n",
        "\n",
        "int main()\n",
        "{\n",
        "  long int icNum, age;\n",
        "  cout << \"Input your IC: \";\n",
        "  cin >> icNum;\n",
        "  age = 100 - (icNum / 10000000000) + 23;\n",
        "  cout << \"The user with IC number \" << icNum << \" has the age of \" << age << \".\";\n",
        "\n",
        "\n",
        "  return 0;\n",
        "}"
      ],
      "metadata": {
        "colab": {
          "base_uri": "https://localhost:8080/"
        },
        "id": "n4TlrAJzewMq",
        "outputId": "ac545605-9b28-4f88-d500-8bb93ac14b9b"
      },
      "execution_count": null,
      "outputs": [
        {
          "output_type": "stream",
          "name": "stdout",
          "text": [
            "Writing week3q3.cpp\n"
          ]
        }
      ]
    },
    {
      "cell_type": "code",
      "source": [
        "!g++ week3q3.cpp -o week3q3\n",
        "!./week3q3"
      ],
      "metadata": {
        "colab": {
          "base_uri": "https://localhost:8080/"
        },
        "id": "FVBpkGEee2ZF",
        "outputId": "57942b73-611c-476d-a974-4136da8b0095"
      },
      "execution_count": null,
      "outputs": [
        {
          "output_type": "stream",
          "name": "stdout",
          "text": [
            "Input your IC: 760221135868\n",
            "The user with IC number 760221135868 has the age of 47."
          ]
        }
      ]
    },
    {
      "cell_type": "markdown",
      "source": [
        "**Question 4**"
      ],
      "metadata": {
        "id": "93aNCRUWIcwY"
      }
    },
    {
      "cell_type": "code",
      "source": [
        "%%writefile week3q4.cpp\n",
        "\n",
        "#include <iostream>\n",
        "\n",
        "using namespace std;\n",
        "\n",
        "int main()\n",
        "{\n",
        "  const int top = 8848, rate = 5;\n",
        "  float degCel, degFe;\n",
        "  cout << \"Temperature in degree celsius at sea level: \";\n",
        "  cin >> degCel;\n",
        "  degFe = (degCel * 1.8) + 32;\n",
        "  cout << \"\\nTemperature at sea level in Fahrenheit: \" << degFe << \"F\" << endl;\n",
        "  cout << \"\\nTemperature at 1000m above sea level in degree celsius: \" << degCel - (1000 / 1000) * rate << endl;\n",
        "  cout << \"Temperature at 2000m above sea level in degree celsius: \" << degCel - (2000 / 1000) * rate << endl;\n",
        "  cout << \"Temperature at 3000m above sea level in degree celsius: \" << degCel - (3000 / 1000) * rate << endl;\n",
        "  cout << \"Temperature at the top of Mount Everest in degree celsius: \" << degCel - (top / 1000) * rate << endl;\n",
        "  cout << \"The height at which the temperature is 0 degree celsius: \" << degCel / rate * 1000 << \"m\" << endl;\n",
        "\n",
        "  return 0;\n",
        "}"
      ],
      "metadata": {
        "colab": {
          "base_uri": "https://localhost:8080/"
        },
        "id": "oB_9iTJWIfzL",
        "outputId": "965f79dc-7e00-4cfa-e81f-4856e2078bcd"
      },
      "execution_count": null,
      "outputs": [
        {
          "output_type": "stream",
          "name": "stdout",
          "text": [
            "Overwriting week3q4.cpp\n"
          ]
        }
      ]
    },
    {
      "cell_type": "code",
      "source": [
        "!g++ week3q4.cpp -o week3q4\n",
        "!./week3q4"
      ],
      "metadata": {
        "colab": {
          "base_uri": "https://localhost:8080/"
        },
        "id": "E-b890ZcLT-1",
        "outputId": "f8dcd2c2-4e5d-4c0f-a7bf-90d0a6dc9e5b"
      },
      "execution_count": null,
      "outputs": [
        {
          "output_type": "stream",
          "name": "stdout",
          "text": [
            "Temperature in degree celsius at sea level: 120\n",
            "\n",
            "Temperature at sea level in Fahrenheit: 248F\n",
            "\n",
            "Temperature at 1000m above sea level in degree celsius: 115\n",
            "Temperature at 2000m above sea level in degree celsius: 110\n",
            "Temperature at 3000m above sea level in degree celsius: 105\n",
            "Temperature at the top of Mount Everest in degree celsius: 80\n",
            "The height at which the temperature is 0 degree celsius: 24000m\n"
          ]
        }
      ]
    },
    {
      "cell_type": "markdown",
      "source": [
        "**Question 4 Extra**"
      ],
      "metadata": {
        "id": "O4t5O0x3MW_e"
      }
    },
    {
      "cell_type": "code",
      "source": [
        "%%writefile week3q4ex.cpp\n",
        "\n",
        "#include <iostream>\n",
        "\n",
        "using namespace std;\n",
        "\n",
        "int main()\n",
        "{\n",
        "  const int top = 8848, rate = 5;\n",
        "  float degCel, degFe;\n",
        "  cout << \"Temperature in degree celsius at sea level: \";\n",
        "  cin >> degCel;\n",
        "  degFe = degCel * 1.8;\n",
        "  cout << \"\\nTemperature at sea level in Fahrenheit: \" << degFe << \"F\" << endl;\n",
        "  cout << \"\\nTemperature at \" << 1000 * 3.28 << \"ft above sea level in Fahrenheit: \" << (degCel - (1000 / 1000) * rate) * 1.8 << endl;\n",
        "  cout << \"Temperature at \" << 2000 * 3.28 << \"ft above sea level in Fahrenheit: \" << (degCel - (2000 / 1000) * rate) * 1.8 << endl;\n",
        "  cout << \"Temperature at \" << 3000 * 3.28 << \"ft above sea level in Fahrenheit: \" << (degCel - (3000 / 1000) * rate) * 1.8 << endl;\n",
        "  cout << \"Temperature at the top of Mount Everest in Fahrenheit: \" << (degCel - (top / 1000) * rate) * 1.8 << endl;\n",
        "\n",
        "  return 0;\n",
        "}"
      ],
      "metadata": {
        "id": "1nBNfV1VMZTY",
        "colab": {
          "base_uri": "https://localhost:8080/"
        },
        "outputId": "9b1a06cd-dc5d-4217-ad5b-02be7de81ed3"
      },
      "execution_count": null,
      "outputs": [
        {
          "output_type": "stream",
          "name": "stdout",
          "text": [
            "Writing week3q4ex.cpp\n"
          ]
        }
      ]
    },
    {
      "cell_type": "code",
      "source": [
        "!g++ week3q4ex.cpp -o week3q4ex\n",
        "!./week3q4ex"
      ],
      "metadata": {
        "id": "qxDaP1rFMewx",
        "colab": {
          "base_uri": "https://localhost:8080/"
        },
        "outputId": "f366ab69-72f6-43a4-acf8-ec83c0c9bc6b"
      },
      "execution_count": null,
      "outputs": [
        {
          "output_type": "stream",
          "name": "stdout",
          "text": [
            "Temperature in degree celsius at sea level: 120\n",
            "\n",
            "Temperature at sea level in Fahrenheit: 216F\n",
            "\n",
            "Temperature at 3280ft above sea level in Fahrenheit: 207\n",
            "Temperature at 6560ft above sea level in Fahrenheit: 198\n",
            "Temperature at 9840ft above sea level in Fahrenheit: 189\n",
            "Temperature at the top of Mount Everest in Fahrenheit: 144\n"
          ]
        }
      ]
    },
    {
      "cell_type": "markdown",
      "source": [
        "**Question 5**"
      ],
      "metadata": {
        "id": "ev9I1qkO4IEr"
      }
    },
    {
      "cell_type": "code",
      "source": [
        "%%writefile week3q5.cpp\n",
        "#include <iostream>\n",
        "\n",
        "using namespace std;\n",
        "\n",
        "int main()\n",
        "{\n",
        "  int shareNum = 1000;\n",
        "  float paidPerShare = 45.5, sellPerShare = 56.9, commision = (0.02 * shareNum * paidPerShare) + (0.02 * shareNum * sellPerShare), profit;\n",
        "  profit = (shareNum * sellPerShare) - (shareNum * paidPerShare) - (0.02 * shareNum * paidPerShare) - (0.02 * shareNum * sellPerShare);\n",
        "  cout << \"Amount Joe paid for the stock: \" << shareNum * paidPerShare << endl;\n",
        "  cout << \"Amount Joe paid to his broker when he paid for the stock: \" << 0.02 * shareNum * paidPerShare << endl;\n",
        "  cout << \"Amount Joe sold the stock for: \" << shareNum * sellPerShare << endl;\n",
        "  cout << \"Amount Joe paid to his broker when he sold the stock: \" << 0.02 * shareNum * sellPerShare << endl;\n",
        "  cout << \"Amount of profit: \" << profit;\n",
        "\n",
        "  return 0;\n",
        "}"
      ],
      "metadata": {
        "colab": {
          "base_uri": "https://localhost:8080/"
        },
        "id": "X08Mtst64LcN",
        "outputId": "234139d6-48aa-45da-c856-39f6794cbfe7"
      },
      "execution_count": null,
      "outputs": [
        {
          "output_type": "stream",
          "name": "stdout",
          "text": [
            "Overwriting week3q5.cpp\n"
          ]
        }
      ]
    },
    {
      "cell_type": "code",
      "source": [
        "!g++ week3q5.cpp -o week3q5\n",
        "!./week3q5"
      ],
      "metadata": {
        "colab": {
          "base_uri": "https://localhost:8080/"
        },
        "id": "OSfFggr7EhAB",
        "outputId": "576841b2-6c5b-493c-e8fd-f61463173c5a"
      },
      "execution_count": null,
      "outputs": [
        {
          "output_type": "stream",
          "name": "stdout",
          "text": [
            "Amount Joe paid for the stock: 45500\n",
            "Amount Joe paid to his broker when he paid for the stock: 910\n",
            "Amount Joe sold the stock for: 56900\n",
            "Amount Joe paid to his broker when he sold the stock: 1138\n",
            "Amount of profit: 9352"
          ]
        }
      ]
    }
  ]
}