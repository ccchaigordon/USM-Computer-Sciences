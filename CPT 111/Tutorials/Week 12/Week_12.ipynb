{
  "nbformat": 4,
  "nbformat_minor": 0,
  "metadata": {
    "colab": {
      "provenance": []
    },
    "kernelspec": {
      "name": "python3",
      "display_name": "Python 3"
    },
    "language_info": {
      "name": "python"
    }
  },
  "cells": [
    {
      "cell_type": "markdown",
      "source": [
        "<p><b>Question 1: Populations</b>\n",
        "<br>\n",
        "a, b.\n",
        "<pre>\n",
        "const int size = 12;\n",
        "string countries[size];\n",
        "int b40[size], m40[size], t20[size];\n",
        "\n",
        "for (int i = 0; i < size; i++)\n",
        "{\n",
        "    cout << countries[i] << \": \" << b40[i] << \"\\t\" << m40[i] << \"\\t\" << t20[i] << endl;\n",
        "}\n",
        "</pre>\n",
        "c.\n",
        "<pre>\n",
        "const int size = 12;\n",
        "\n",
        "int population[3][size];\n",
        "\n",
        "for (int i = 0; i < 3; i++)\n",
        "{\n",
        "    cout << countries[i] << \": \";\n",
        "    for (int j = 0; j < size; j++)\n",
        "    {\n",
        "        cout << population[j][i] << \"\\t\";\n",
        "    }\n",
        "    cout << endl;\n",
        "}\n",
        "</pre>\n",
        "</p>"
      ],
      "metadata": {
        "id": "yAoIkFMwkJC9"
      }
    },
    {
      "cell_type": "markdown",
      "source": [
        "<p><b>Question 2: Define</b>\n",
        "<br>\n",
        "<pre>\n",
        "int grades[30][10];\n",
        "</pre>\n",
        "</p>"
      ],
      "metadata": {
        "id": "SxSLbHX0pXbU"
      }
    },
    {
      "cell_type": "markdown",
      "source": [
        "<p>Question 3: 24 elements\n",
        "<br><br>\n",
        "Question 4:\n",
        "<pre>\n",
        "sales[0][0] = 56893.12;\n",
        "</pre>\n",
        "</p>\n",
        "<br>\n",
        "<p>\n",
        "Question 5:\n",
        "<pre>\n",
        "cout << sales[5][3];\n",
        "</pre>\n",
        "</p>\n",
        "<br>\n",
        "<p>\n",
        "Question 6:\n",
        "<pre>\n",
        "int settings[3][5];\n",
        "</pre>\n",
        "</p>"
      ],
      "metadata": {
        "id": "n7WJ1oiupwkk"
      }
    },
    {
      "cell_type": "markdown",
      "source": [
        "<p>Question 7:\n",
        "<pre>\n",
        "const int col = 7;\n",
        "\n",
        "void displayArray7(int (&array)[][col], row)\n",
        "{\n",
        "  for (int i = 0; i < row; i++)\n",
        "  {\n",
        "    for (int j = 0; j < col; j++)\n",
        "    {\n",
        "      cout << array[i][j] << \" \";\n",
        "    }\n",
        "    cout << endl;\n",
        "  }\n",
        "}\n",
        "</pre>\n",
        "</p>"
      ],
      "metadata": {
        "id": "bIsiBjK2RZZR"
      }
    },
    {
      "cell_type": "markdown",
      "source": [
        "<p>Question 8:\n",
        "<pre>\n",
        "numberArray[0][0] = 145;\n",
        "numberArray[8][10] = 18;\n",
        "</pre>\n",
        "</p>"
      ],
      "metadata": {
        "id": "VazXM-ruiS6n"
      }
    },
    {
      "cell_type": "markdown",
      "source": [
        "<p>Questiion 9:\n",
        "<pre>\n",
        "float total = 0;\n",
        "for (int i = 0; i < 10; i++)\n",
        "{\n",
        "  for (int j = 0; j < 20; j++)\n",
        "  {\n",
        "    total += values[i][j];\n",
        "  }\n",
        "}\n",
        "</pre>"
      ],
      "metadata": {
        "id": "TYQOJexCnyOL"
      }
    },
    {
      "cell_type": "markdown",
      "source": [
        "<p>Question 10\n",
        "<pre>\n",
        "int sum = 0;\n",
        "for (int i = 0; i < row; i++)\n",
        "{\n",
        "    sum += myMatrix[i][i];\n",
        "}\n",
        "cout << sum;\n",
        "</pre>\n",
        "</p>"
      ],
      "metadata": {
        "id": "9qFRlxuKt-8U"
      }
    },
    {
      "cell_type": "markdown",
      "source": [
        "<p>Question 11:\n",
        "<pre>\n",
        "int sum_row[3] = {0, 0, 0}, sum_col[5] = {0, 0, 0, 0, 0};\n",
        "\n",
        "for (int i = 0; i < row; i++)\n",
        "{\n",
        "    for (int j = 0; j < col; j++)\n",
        "    {\n",
        "        sum_row[i] += days[i][j];\n",
        "    }\n",
        "    cout << \"Sum of row \" << i + 1 << \" = \" << sum_row[i] << endl;\n",
        "}\n",
        "\n",
        "for (int i = 0; i < col; i++)\n",
        "{\n",
        "    for (int j = 0; j < row; j++)\n",
        "    {\n",
        "        sum_col[i] += days[j][i];\n",
        "    }\n",
        "    cout << \"Sum of column \" << i + 1 << \" = \" << sum_col[i] << endl;\n",
        "}\n",
        "</pre>\n",
        "</p>"
      ],
      "metadata": {
        "id": "OK6zc5Ix1S4w"
      }
    },
    {
      "cell_type": "markdown",
      "source": [
        "<p>Question 12: Luo Shu Magic Square</p>"
      ],
      "metadata": {
        "id": "hfRoVmKtqyhq"
      }
    },
    {
      "cell_type": "code",
      "execution_count": null,
      "metadata": {
        "id": "uCyNBbKegS4m"
      },
      "outputs": [],
      "source": [
        "%%writefile q12.\n",
        "#include <iostream>\n",
        "\n",
        "using namespace std;\n",
        "\n",
        "int main()\n",
        "{\n",
        "    const int row = 3, col = 3;\n",
        "    int sum_row[3] = {0, 0, 0}, sum_col[3] = {0, 0, 0}, sum_diag1 = 0, sum_diag2 = 0;\n",
        "    bool luoshu = 1;\n",
        "    int arr[3][3] = {{4, 9, 2}, {3, 5, 7}, {8, 1, 6}};\n",
        "\n",
        "    // Check if there's repetition\n",
        "    for (int a = 0; a < row; a++)\n",
        "    {\n",
        "        for (int b = 0; b < col; b++)\n",
        "        {\n",
        "            for (int c = 0; a < row; a++)\n",
        "            {\n",
        "                for (int d = 0; b < col; b++)\n",
        "                {\n",
        "                    if ((a != c) && (b != d) && (arr[a][b] == arr[c][d]))\n",
        "                    {\n",
        "                        luoshu = 0;\n",
        "                    }\n",
        "                }\n",
        "            }\n",
        "        }\n",
        "    }\n",
        "\n",
        "    // Sum of rows\n",
        "    for (int i = 0; i < row; i++)\n",
        "    {\n",
        "        for (int j = 0; j < col; j++)\n",
        "        {\n",
        "            sum_row[i] += arr[i][j];\n",
        "        }\n",
        "        cout << sum_row[i] << endl;\n",
        "    }\n",
        "\n",
        "    // Sum of columns\n",
        "    for (int i = 0; i < col; i++)\n",
        "    {\n",
        "        for (int j = 0; j < row; j++)\n",
        "        {\n",
        "            sum_col[i] += arr[j][i];\n",
        "        }\n",
        "        cout << sum_col[i] << endl;\n",
        "    }\n",
        "\n",
        "    // Sum of diagonals\n",
        "    for (int i = 0; i < row; i++)\n",
        "    {\n",
        "        sum_diag1 += arr[i][i];\n",
        "        sum_diag2 += arr[i][row - i - 1];\n",
        "        cout << sum_diag1 << \" \" << sum_diag2 << endl;\n",
        "    }\n",
        "\n",
        "    // Check whether is luo shu magic square or not\n",
        "    for (int k = 0; k < row && luoshu == 1; k++)\n",
        "    {\n",
        "        if ((sum_row[k] == sum_col[k]) && (sum_col[k] == sum_diag1) && (sum_col[k] == sum_diag2) && (luoshu == 1))\n",
        "        {\n",
        "            luoshu = 1;\n",
        "        }\n",
        "        else\n",
        "        {\n",
        "            luoshu = 0;\n",
        "        }\n",
        "    }\n",
        "\n",
        "    if (luoshu)\n",
        "    {\n",
        "        cout << \"It is a luo shu magic square.\\n\";\n",
        "    }\n",
        "    else\n",
        "    {\n",
        "        cout << \"It is not a luo shu magic square.\\n\";\n",
        "    }\n",
        "\n",
        "    return 0;\n",
        "}\n"
      ]
    }
  ]
}