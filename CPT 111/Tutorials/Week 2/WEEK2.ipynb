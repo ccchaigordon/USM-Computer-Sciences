{
  "nbformat": 4,
  "nbformat_minor": 0,
  "metadata": {
    "colab": {
      "provenance": []
    },
    "kernelspec": {
      "name": "python3",
      "display_name": "Python 3"
    },
    "language_info": {
      "name": "python"
    }
  },
  "cells": [
    {
      "cell_type": "code",
      "execution_count": null,
      "metadata": {
        "colab": {
          "base_uri": "https://localhost:8080/"
        },
        "id": "C0MZEsAUMvCF",
        "outputId": "c55bb945-cf62-4903-dd26-77099b6a4296"
      },
      "outputs": [
        {
          "output_type": "stream",
          "name": "stdout",
          "text": [
            "Overwriting week2q7.cpp\n"
          ]
        }
      ],
      "source": [
        "%%writefile week2q7.cpp\n",
        "\n",
        "#include <iostream>\n",
        "#include <cmath>\n",
        "\n",
        "using namespace std;\n",
        "\n",
        "int main()\n",
        "{\n",
        "  const double pi =  3.14159;\n",
        "  double radius, area;\n",
        "  cout << \"What is the radius of the cicle? \";\n",
        "  cin >> radius;\n",
        "  area = pi * pow(radius, 2);\n",
        "  cout << \"The area of the circle is \" << area <<  \".\";\n",
        "\n",
        "  return 0;\n",
        "}"
      ]
    },
    {
      "cell_type": "code",
      "source": [
        "%%writefile week2q20.cpp\n",
        "#include <iostream>\n",
        "#include <cstdlib>\n",
        "#include <ctime>\n",
        "\n",
        "using namespace std;\n",
        "\n",
        "int main()\n",
        "{\n",
        "  unsigned seed = time(0);\n",
        "  srand(seed);\n",
        "\n",
        "  cout << rand() << seed << endl;\n",
        "  cout << rand() << seed << endl;\n",
        "}"
      ],
      "metadata": {
        "colab": {
          "base_uri": "https://localhost:8080/"
        },
        "id": "l1g8IzZ2Q3FA",
        "outputId": "fd99faa9-88f2-4105-cbbf-26fab095bec5"
      },
      "execution_count": null,
      "outputs": [
        {
          "output_type": "stream",
          "name": "stdout",
          "text": [
            "Overwriting week2q20.cpp\n"
          ]
        }
      ]
    },
    {
      "cell_type": "code",
      "source": [
        "!g++ week2q20.cpp -o week2q20\n",
        "!./week2q20"
      ],
      "metadata": {
        "colab": {
          "base_uri": "https://localhost:8080/"
        },
        "id": "bI2CjDWIP1lB",
        "outputId": "e37932f8-fd6a-43d0-ba73-8a4dac25750f"
      },
      "execution_count": null,
      "outputs": [
        {
          "output_type": "stream",
          "name": "stdout",
          "text": [
            "19409974461698798726\n",
            "3676345161698798726\n"
          ]
        }
      ]
    }
  ]
}