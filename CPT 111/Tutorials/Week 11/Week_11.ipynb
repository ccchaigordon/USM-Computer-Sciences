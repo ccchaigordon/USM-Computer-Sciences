{
  "nbformat": 4,
  "nbformat_minor": 0,
  "metadata": {
    "colab": {
      "provenance": []
    },
    "kernelspec": {
      "name": "python3",
      "display_name": "Python 3"
    },
    "language_info": {
      "name": "python"
    }
  },
  "cells": [
    {
      "cell_type": "markdown",
      "source": [
        "<h3><b>Week 11</b></h3>"
      ],
      "metadata": {
        "id": "OwD16JJ3-Jlo"
      }
    },
    {
      "cell_type": "markdown",
      "source": [
        "<h4>Question 1: Define Arrays</h4>\n",
        "<p>\n",
        "a.\n",
        "<code>\n",
        "int empNums[100];\n",
        "</code><br>\n",
        "b.\n",
        "<code>\n",
        "float payRates[25];\n",
        "</code><br>\n",
        "c.\n",
        "<code>\n",
        "long miles[14];\n",
        "</code><br>\n",
        "d.\n",
        "<code>\n",
        "string city[26];\n",
        "</code><br>\n",
        "e.\n",
        "<code>\n",
        "double lightYears[1000];\n",
        "</code>\n",
        "</p>"
      ],
      "metadata": {
        "id": "XxV6vQzW-enA"
      }
    },
    {
      "cell_type": "markdown",
      "source": [
        "<h4>Question 2: Identify Error</h4>\n",
        "<p>\n",
        "1. Negative value for number of elements of array<br>\n",
        "2. Floating point value for number of elements of array<br>\n",
        "3. Value for size is not defined\n",
        "</p>"
      ],
      "metadata": {
        "id": "fvCHM0L2AurR"
      }
    },
    {
      "cell_type": "markdown",
      "source": [
        "<h4>Question 3: State the Output</h4>"
      ],
      "metadata": {
        "id": "YnMKNTanC0O0"
      }
    },
    {
      "cell_type": "markdown",
      "source": [
        "<pre>\n",
        "  1\n",
        "  2\n",
        "  3\n",
        "  4\n",
        "  5\n",
        "</pre>"
      ],
      "metadata": {
        "id": "homHkvxWDbpa"
      }
    },
    {
      "cell_type": "markdown",
      "source": [
        "<h4>Question 4: Complete the Program</h4>"
      ],
      "metadata": {
        "id": "a31h4kKiDXoK"
      }
    },
    {
      "cell_type": "markdown",
      "source": [
        "<pre>\n",
        "  #include &lt;iostream&gt\n",
        "\n",
        "  using namespace std;\n",
        "\n",
        "  int main()\n",
        "  {\n",
        "      const int NUM_FISH = 3;\n",
        "      int fish[NUM_FISH];\n",
        "\n",
        "      for (int i = 0; i < NUM_FISH; i++)\n",
        "      {\n",
        "          cout << \"Number of fish caught by fisherman \" << i + 1 << \": \";\n",
        "          cin >> fish[i];\n",
        "      }\n",
        "\n",
        "      return 0;\n",
        "  }\n",
        "</pre>"
      ],
      "metadata": {
        "id": "Hy8EsYn6ExLY"
      }
    },
    {
      "cell_type": "markdown",
      "source": [
        "<h4>Question 5: Define Arrays</h4>\n",
        "a.\n",
        "<code>\n",
        "int ages[10] = {5, 7, 9, 14, 15, 17, 18, 19, 21, 23};\n",
        "</code><br>\n",
        "b.\n",
        "<code>\n",
        "float temps[7] = {14.7, 16.3, 18.43, 21.09, 17.9, 18.76, 26.7};\n",
        "</code><br>\n",
        "c.\n",
        "<code>\n",
        "char alpha[8] = {‘J’, ‘B’, ‘L’, ‘A’, ‘*’, ‘$’, ‘H’, ‘M’};\n",
        "</code>"
      ],
      "metadata": {
        "id": "ivzopB2qE01c"
      }
    },
    {
      "cell_type": "markdown",
      "source": [
        "<h4>Question 6: Valid or Invalid<h4>\n",
        "<p>\n",
        "a. Valid\n",
        "<br>\n",
        "b. Invalid, number of elements assigned to the array is more than the defined number\n",
        "<br>\n",
        "c. Valid\n",
        "<br>\n",
        "d. Invalid, there should not be empty spaces in between element of array\n",
        "<br>\n",
        "e. Valid\n",
        "<br>\n",
        "f. Invalid, either the number of elements should be provided or the element values should be assigned to the array when defining the array\n",
        "\n",
        "</p>"
      ],
      "metadata": {
        "id": "miHhAYFjFrMe"
      }
    },
    {
      "cell_type": "markdown",
      "source": [
        "<h4>Question 7: State the Output</h4>\n",
        "<p>\n",
        "a.\n",
        "<pre>\n",
        "-3 -1 1 3 5\n",
        "5 -1 8 3 -1\n",
        "</pre>\n",
        "b.\n",
        "<pre>\n",
        "2 3 6 11 18\n",
        "27 12 22 11 18\n",
        "</pre>\n",
        "</p>"
      ],
      "metadata": {
        "id": "yHvbIrECH1V4"
      }
    },
    {
      "cell_type": "markdown",
      "source": [
        "<h4>Question 8: Show the Content</h4>\n",
        "<p>\n",
        "<pre>\n",
        "{-5, -5, -3, 7, 7}\n",
        "</pre>\n",
        "</p>"
      ],
      "metadata": {
        "id": "KDbWGTN0OGfq"
      }
    },
    {
      "cell_type": "markdown",
      "source": [
        "<h4>Question 9: State the Output</h4>\n",
        "<p>\n",
        "a. <code>10</code>\n",
        "<br>\n",
        "b. <code>3</code>\n",
        "<br>\n",
        "c. <code>6</code>\n",
        "<br>\n",
        "d. <code>14</code>\n",
        "</p>"
      ],
      "metadata": {
        "id": "g-X-Q-iHO_GA"
      }
    },
    {
      "cell_type": "markdown",
      "source": [
        "<h4>Question 10: State the Output</h4>\n",
        "<p>\n",
        "<code>0</code>\n",
        "</p>"
      ],
      "metadata": {
        "id": "XcxWZxfPP7E2"
      }
    },
    {
      "cell_type": "markdown",
      "source": [
        "<h4>Question 11: State the Output</h4>\n",
        "<p>\n",
        "<pre>\n",
        "10.00\n",
        "25.00\n",
        "32.50\n",
        "50.00\n",
        "110.00\n",
        "</pre>\n",
        "</p>"
      ],
      "metadata": {
        "id": "mEJ0hHJsQKl6"
      }
    },
    {
      "cell_type": "markdown",
      "source": [
        "<h4>Question 12: State the Output</h4>\n",
        "<p>\n",
        "<pre>\n",
        "1 18 18\n",
        "2 4 8\n",
        "3 27 81\n",
        "4 52 208\n",
        "5 100 500\n",
        "</pre>\n",
        "</p>"
      ],
      "metadata": {
        "id": "FyHncL_CRVKh"
      }
    },
    {
      "cell_type": "markdown",
      "source": [
        "<h4>Question 13: Will the statement work?</h4>\n",
        "<p>\n",
        "No, to assign the entire array to another array, it is required to pass its element one by one to the receiving array.\n",
        "</p>"
      ],
      "metadata": {
        "id": "vT8J5hCFRbmX"
      }
    },
    {
      "cell_type": "markdown",
      "source": [
        "\n",
        "<p>\n",
        "Q14. The pointer to the first element of the array is passed.\n",
        "<br>\n",
        "Q15. No, it's passed by reference.\n",
        "</p>"
      ],
      "metadata": {
        "id": "BMcGybSMSUXU"
      }
    },
    {
      "cell_type": "markdown",
      "source": [
        "<h4>Question 16: State the Output</h4>\n",
        "<p>\n",
        "<pre>\n",
        "ABCDEFGH\n",
        "</pre>\n",
        "</p>"
      ],
      "metadata": {
        "id": "czcJUyxZNub-"
      }
    },
    {
      "cell_type": "markdown",
      "source": [
        "<h4>Question 17: Average of Numbers</h4>"
      ],
      "metadata": {
        "id": "sP3wJhnLRWLi"
      }
    },
    {
      "cell_type": "code",
      "execution_count": null,
      "metadata": {
        "colab": {
          "base_uri": "https://localhost:8080/"
        },
        "id": "evkIUXeL3Fc5",
        "outputId": "de0fec3d-81cd-4009-a492-5912024b038c"
      },
      "outputs": [
        {
          "output_type": "stream",
          "name": "stdout",
          "text": [
            "Writing q17.cpp\n"
          ]
        }
      ],
      "source": [
        "%%writefile q17.cpp\n",
        "#include <iostream>\n",
        "\n",
        "using namespace std;\n",
        "\n",
        "double avgArray(int[], int);\n",
        "\n",
        "int main()\n",
        "{\n",
        "    const int SIZE = 10;\n",
        "    int userNums[SIZE];\n",
        "    cout << \"Enter 10 numbers: \";\n",
        "\n",
        "    for (int count = 0; count < SIZE; count++)\n",
        "    {\n",
        "        cout << \"#\" << (count + 1) << \" \";\n",
        "        cin >> userNums[count];\n",
        "    }\n",
        "\n",
        "    cout << \"The average of those numbers is \";\n",
        "    cout << avgArray(userNums, SIZE) << endl; // function call\n",
        "\n",
        "    return 0;\n",
        "}\n",
        "\n",
        "double avgArray(int avg[], int size)\n",
        "{\n",
        "    double sum = 0;\n",
        "    for (int i = 0; i < size; i++)\n",
        "    {\n",
        "        sum += avg[i];\n",
        "    }\n",
        "    return sum / size;\n",
        "}"
      ]
    },
    {
      "cell_type": "code",
      "source": [
        "%%shell\n",
        "g++ q17.cpp -o q17\n",
        "./q17"
      ],
      "metadata": {
        "colab": {
          "base_uri": "https://localhost:8080/"
        },
        "id": "GFo3IcCJRd9M",
        "outputId": "f1385762-c1ff-43a1-c5ff-089e141dd371"
      },
      "execution_count": null,
      "outputs": [
        {
          "output_type": "stream",
          "name": "stdout",
          "text": [
            "Enter 10 numbers: #1 0\n",
            "#2 1\n",
            "#3 2\n",
            "#4 3\n",
            "#5 4\n",
            "#6 5\n",
            "#7 6\n",
            "#8 7\n",
            "#9 8\n",
            "#10 9\n",
            "The average of those numbers is 4.5\n"
          ]
        },
        {
          "output_type": "execute_result",
          "data": {
            "text/plain": []
          },
          "metadata": {},
          "execution_count": 3
        }
      ]
    },
    {
      "cell_type": "markdown",
      "source": [
        "<h4>Question 18: Largest and Smallest Number</h4>"
      ],
      "metadata": {
        "id": "6JWeeMLnRwpC"
      }
    },
    {
      "cell_type": "code",
      "source": [
        "%%writefile q18.cpp\n",
        "#include <iostream>\n",
        "\n",
        "using namespace std;\n",
        "\n",
        "int main()\n",
        "{\n",
        "    const int size = 10;\n",
        "    int min_index = 0, max_index = 0, arr[size];\n",
        "    for (int i = 0; i < size; i++)\n",
        "    {\n",
        "        cout << \"Enter number \" << i + 1 << \": \";\n",
        "        cin >> arr[i];\n",
        "        if (arr[i] > arr[max_index])\n",
        "        {\n",
        "            max_index = i;\n",
        "        }\n",
        "        else if (arr[i] < arr[min_index])\n",
        "        {\n",
        "            min_index = i;\n",
        "        }\n",
        "    }\n",
        "    cout << \"The maximum number entered is \" << arr[max_index] << endl;\n",
        "    cout << \"The minimum number entered is \" << arr[min_index];\n",
        "\n",
        "    return 0;\n",
        "}"
      ],
      "metadata": {
        "colab": {
          "base_uri": "https://localhost:8080/"
        },
        "id": "sAHrizoHTUek",
        "outputId": "64a1f71f-97d2-42dd-a58a-c2524cb3c0ab"
      },
      "execution_count": null,
      "outputs": [
        {
          "output_type": "stream",
          "name": "stdout",
          "text": [
            "Writing q18.cpp\n"
          ]
        }
      ]
    },
    {
      "cell_type": "code",
      "source": [
        "%%shell\n",
        "g++ q18.cpp -o q18\n",
        "./q18"
      ],
      "metadata": {
        "colab": {
          "base_uri": "https://localhost:8080/"
        },
        "id": "pV8qQcufTWQf",
        "outputId": "f8289427-4c84-4e7a-c7f0-01f5fdd9c981"
      },
      "execution_count": null,
      "outputs": [
        {
          "output_type": "stream",
          "name": "stdout",
          "text": [
            "Enter number 1: 987\n",
            "Enter number 2: 56\n",
            "Enter number 3: 1\n",
            "Enter number 4: 9999\n",
            "Enter number 5: 89\n",
            "Enter number 6: 91\n",
            "Enter number 7: 87\n",
            "Enter number 8: 40\n",
            "Enter number 9: 8\n",
            "Enter number 10: 89\n",
            "The maximum number entered is 9999\n",
            "The minimum number entered is 1"
          ]
        },
        {
          "output_type": "execute_result",
          "data": {
            "text/plain": []
          },
          "metadata": {},
          "execution_count": 6
        }
      ]
    },
    {
      "cell_type": "markdown",
      "source": [
        "<h4>Question 19: Highest and Second Highest</h4>"
      ],
      "metadata": {
        "id": "5T0sIpvjXli6"
      }
    },
    {
      "cell_type": "code",
      "source": [
        "%%writefile q19.cpp\n",
        "#include <iostream>\n",
        "\n",
        "using namespace std;\n",
        "\n",
        "int main()\n",
        "{\n",
        "    const int size = 5;\n",
        "    int max_index = 0, max2_index = 0, arr[size];\n",
        "\n",
        "    // Letting user input the even numbers\n",
        "    for (int i = 0; i < size; i++)\n",
        "    {\n",
        "        cout << \"Enter even number \" << i + 1 << \": \";\n",
        "        cin >> arr[i];\n",
        "        if (arr[i] % 2 != 0)\n",
        "        {\n",
        "            i--;\n",
        "            cout << \"Please enter even numbers only!\\n\\n\";\n",
        "        }\n",
        "    }\n",
        "\n",
        "    // Start checking from second element\n",
        "    for (int i = 1; i < size; i++)\n",
        "    {\n",
        "        if ((arr[i] > arr[max_index]) && (arr[i] % 2 == 0))\n",
        "        {\n",
        "            max2_index = max_index;\n",
        "            max_index = i;\n",
        "        }\n",
        "        else if ((arr[i] > arr[max2_index]) && (arr[i] % 2 == 0))\n",
        "        {\n",
        "            max2_index = i;\n",
        "        }\n",
        "    }\n",
        "\n",
        "    cout << \"The highest even number entered is \" << arr[max_index] << endl;\n",
        "    cout << \"The second highest even numbered entered is \" << arr[max2_index];\n",
        "\n",
        "    return 0;\n",
        "}"
      ],
      "metadata": {
        "colab": {
          "base_uri": "https://localhost:8080/"
        },
        "id": "hV4LITk6XqsJ",
        "outputId": "02145800-a781-4141-a652-9e70e5b69b1e"
      },
      "execution_count": null,
      "outputs": [
        {
          "output_type": "stream",
          "name": "stdout",
          "text": [
            "Writing q19.cpp\n"
          ]
        }
      ]
    },
    {
      "cell_type": "code",
      "source": [
        "%%shell\n",
        "g++ q19.cpp -o q19\n",
        "./q19"
      ],
      "metadata": {
        "colab": {
          "base_uri": "https://localhost:8080/"
        },
        "id": "znkyRd7JXsX9",
        "outputId": "9e904185-af72-445a-cb95-a4b5cdab969e"
      },
      "execution_count": null,
      "outputs": [
        {
          "output_type": "stream",
          "name": "stdout",
          "text": [
            "Enter even number 1: 8\n",
            "Enter even number 2: 97\n",
            "Please enter even numbers only!\n",
            "\n",
            "Enter even number 2: 98\n",
            "Enter even number 3: 888\n",
            "Enter even number 4: 84\n",
            "Enter even number 5: 88\n",
            "The highest even number entered is 888\n",
            "The second highest even numbered entered is 98"
          ]
        },
        {
          "output_type": "execute_result",
          "data": {
            "text/plain": []
          },
          "metadata": {},
          "execution_count": 8
        }
      ]
    },
    {
      "cell_type": "markdown",
      "source": [],
      "metadata": {
        "id": "jjdZKpyRbf94"
      }
    },
    {
      "cell_type": "markdown",
      "source": [
        "<h4>Question 20: Rainfall</h4>"
      ],
      "metadata": {
        "id": "gCCGR-R3bgFf"
      }
    },
    {
      "cell_type": "code",
      "source": [
        "%%writefile q20.cpp\n",
        "#include <iostream>\n",
        "\n",
        "using namespace std;\n",
        "\n",
        "void high_low(double rain[], int size)\n",
        "{\n",
        "    int high_id = 0, low_id = 0;\n",
        "    for (int j = 1; j < size; j++)\n",
        "    {\n",
        "        if (rain[j] > rain[high_id])\n",
        "        {\n",
        "            high_id = j;\n",
        "        }\n",
        "        else if (rain[j] < rain[low_id])\n",
        "        {\n",
        "            low_id = j;\n",
        "        }\n",
        "    }\n",
        "    cout << \"The month with highest rainfall is month \" << high_id + 1 << endl;\n",
        "    cout << \"The month with lowerst rainfall is month \" << low_id + 1;\n",
        "}\n",
        "\n",
        "int main()\n",
        "{\n",
        "    const int size = 12;\n",
        "    double rainfall[size], sum = 0;\n",
        "    for (int i = 0; i < size; i++)\n",
        "    {\n",
        "        cout << \"Enter the rainfall for month \" << i + 1 << \": \";\n",
        "        cin >> rainfall[i];\n",
        "        if (rainfall[i] < 0)\n",
        "        {\n",
        "            i--;\n",
        "            cout << \"Please enter only positive numbers: \\n\\n\";\n",
        "            continue;\n",
        "        }\n",
        "        sum += rainfall[i];\n",
        "    }\n",
        "    cout << \"The total rainfall of the year is \" << sum << endl;\n",
        "    cout << \"The average rainfall of the year is \" << sum / size << endl;\n",
        "    high_low(rainfall, size);\n",
        "\n",
        "    return 0;\n",
        "}"
      ],
      "metadata": {
        "id": "79u9URvkbja6"
      },
      "execution_count": null,
      "outputs": []
    },
    {
      "cell_type": "code",
      "source": [
        "%%shell\n",
        "g++ q20.cpp -o q20\n",
        "./q20"
      ],
      "metadata": {
        "id": "Ih43M6J4blY8"
      },
      "execution_count": null,
      "outputs": []
    }
  ]
}