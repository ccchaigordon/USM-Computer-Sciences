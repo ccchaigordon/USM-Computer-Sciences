{
  "nbformat": 4,
  "nbformat_minor": 0,
  "metadata": {
    "colab": {
      "provenance": [],
      "gpuType": "T4"
    },
    "kernelspec": {
      "name": "python3",
      "display_name": "Python 3"
    },
    "language_info": {
      "name": "python"
    }
  },
  "cells": [
    {
      "cell_type": "markdown",
      "source": [
        "**Question 1: Sum**"
      ],
      "metadata": {
        "id": "vHdnhojS9l1t"
      }
    },
    {
      "cell_type": "code",
      "execution_count": null,
      "metadata": {
        "colab": {
          "base_uri": "https://localhost:8080/"
        },
        "id": "kg_pJZGh7sZN",
        "outputId": "fc314fcc-0060-4edb-854c-1742ed91510d"
      },
      "outputs": [
        {
          "output_type": "stream",
          "name": "stdout",
          "text": [
            "Overwriting sum.cpp\n"
          ]
        }
      ],
      "source": [
        "%%writefile sum.cpp\n",
        "#include <iostream>\n",
        "\n",
        "using namespace std;\n",
        "\n",
        "int main()\n",
        "{\n",
        "  int value, sum;\n",
        "  do\n",
        "  {\n",
        "    cout << \"Enter a positive integer: \";\n",
        "    cin >> value;\n",
        "    if (value >= 0)\n",
        "    {\n",
        "      for (int i = 0; i <= value; i++)\n",
        "      {\n",
        "        sum += i;\n",
        "      }\n",
        "      cout << \"The sum until the integer \" << value << \" is \" << sum << \".\\n\";\n",
        "    }\n",
        "    else\n",
        "    {\n",
        "      cout << \"You can only enter a positive starting number.\\n\\n\";\n",
        "    }\n",
        "  }\n",
        "  while (value < 0);\n",
        "\n",
        "  return 0;\n",
        "}"
      ]
    },
    {
      "cell_type": "code",
      "source": [
        "!g++ sum.cpp -o sum\n",
        "!./sum"
      ],
      "metadata": {
        "colab": {
          "base_uri": "https://localhost:8080/"
        },
        "id": "dtRdWm0I8DYK",
        "outputId": "9ac262fb-c575-4c6d-8266-521003ad9fb2"
      },
      "execution_count": null,
      "outputs": [
        {
          "output_type": "stream",
          "name": "stdout",
          "text": [
            "Enter a positive integer: -5\n",
            "You can only enter a positive starting number.\n",
            "\n",
            "Enter a positive integer: 30\n",
            "The sum until the integer 30 is 465.\n"
          ]
        }
      ]
    },
    {
      "cell_type": "markdown",
      "source": [
        "**Question 2: ASCII Codes**"
      ],
      "metadata": {
        "id": "h5qES4I09rOv"
      }
    },
    {
      "cell_type": "code",
      "source": [
        "%%writefile ascii.cpp\n",
        "#include <iostream>\n",
        "\n",
        "using namespace std;\n",
        "\n",
        "int main()\n",
        "{\n",
        "  char character;\n",
        "  for (int i = 0; i < 128; i++)\n",
        "  {\n",
        "    character = i;\n",
        "    cout << character << \" \";\n",
        "    if ((i + 1) % 16 == 0)\n",
        "    {\n",
        "      cout << \"\\n\";\n",
        "    }\n",
        "  }\n",
        "\n",
        "  return 0;\n",
        "}"
      ],
      "metadata": {
        "colab": {
          "base_uri": "https://localhost:8080/"
        },
        "id": "n6uKBkcT9wnm",
        "outputId": "93a5f5b6-d072-4d1c-9d26-b8490b85eee1"
      },
      "execution_count": null,
      "outputs": [
        {
          "output_type": "stream",
          "name": "stdout",
          "text": [
            "Overwriting ascii.cpp\n"
          ]
        }
      ]
    },
    {
      "cell_type": "code",
      "source": [
        "!g++ ascii.cpp -o ascii\n",
        "!./ascii"
      ],
      "metadata": {
        "colab": {
          "base_uri": "https://localhost:8080/"
        },
        "id": "nd24Jf7k_ctJ",
        "outputId": "90a3448d-c2b8-44b0-f463-cd2cf33ab9e0"
      },
      "execution_count": null,
      "outputs": [
        {
          "output_type": "stream",
          "name": "stdout",
          "text": [
            "\u0000 \u0001 \u0002 \u0003 \u0004 \u0005 \u0006 \u0007 \b \t \n",
            " \u000b \f \r \u000e \u000f \n",
            "\u0010 \u0011 \u0012 \u0013 \u0014 \u0015 \u0016 \u0017 \u0018 \u0019 \u001a \u001b \u001c \u001d \u001e \u001f \n",
            "  ! \" # $ % & ' ( ) * + , - . / \n",
            "0 1 2 3 4 5 6 7 8 9 : ; < = > ? \n",
            "@ A B C D E F G H I J K L M N O \n",
            "P Q R S T U V W X Y Z [ \\ ] ^ _ \n",
            "` a b c d e f g h i j k l m n o \n",
            "p q r s t u v w x y z { | } ~  \n"
          ]
        }
      ]
    },
    {
      "cell_type": "markdown",
      "source": [
        "**Question 3: Multiplication Table**"
      ],
      "metadata": {
        "id": "LhoDsCEWA7C5"
      }
    },
    {
      "cell_type": "code",
      "source": [
        "%%writefile multiply.cpp\n",
        "#include <iostream>\n",
        "#include <iomanip>\n",
        "\n",
        "using namespace std;\n",
        "\n",
        "int main()\n",
        "{\n",
        "  int number;\n",
        "  cout << \"Enter a number: \";\n",
        "  cin >> number;\n",
        "  for (int i = 1; i <= 10; i++)\n",
        "  {\n",
        "    cout << number << \" x \" << setw(2) << left << i << \" = \" << right << setw(2) << number * i << endl;\n",
        "\n",
        "  }\n",
        "\n",
        "  return 0;\n",
        "}"
      ],
      "metadata": {
        "colab": {
          "base_uri": "https://localhost:8080/"
        },
        "id": "of4G--mTA_Rl",
        "outputId": "9d7fcd02-59ff-4f39-d34f-4e5c1b6947d4"
      },
      "execution_count": null,
      "outputs": [
        {
          "output_type": "stream",
          "name": "stdout",
          "text": [
            "Overwriting multiply.cpp\n"
          ]
        }
      ]
    },
    {
      "cell_type": "code",
      "source": [
        "!g++ multiply.cpp -o multiply\n",
        "!./multiply"
      ],
      "metadata": {
        "colab": {
          "base_uri": "https://localhost:8080/"
        },
        "id": "hxshyrW7ChFo",
        "outputId": "7028ab49-80ba-4ab5-8667-b4b249213677"
      },
      "execution_count": null,
      "outputs": [
        {
          "output_type": "stream",
          "name": "stdout",
          "text": [
            "Enter a number: 8\n",
            "8 x 1  =  8\n",
            "8 x 2  = 16\n",
            "8 x 3  = 24\n",
            "8 x 4  = 32\n",
            "8 x 5  = 40\n",
            "8 x 6  = 48\n",
            "8 x 7  = 56\n",
            "8 x 8  = 64\n",
            "8 x 9  = 72\n",
            "8 x 10 = 80\n"
          ]
        }
      ]
    },
    {
      "cell_type": "markdown",
      "source": [
        "**Question 4: Degree to Radians**"
      ],
      "metadata": {
        "id": "WOsjGCUeD_hU"
      }
    },
    {
      "cell_type": "code",
      "source": [
        "%%writefile degrad.cpp\n",
        "#include <iostream>\n",
        "#include <iomanip>\n",
        "\n",
        "using namespace std;\n",
        "\n",
        "int main()\n",
        "{\n",
        "  cout << \"Degree to Radians Table\\n\\n\";\n",
        "  for (int i = 0; i <= 90; i += 10)\n",
        "  {\n",
        "    cout << i << \"° = \" << (i / 180.0) * 3.141593 << fixed << \" radians\" << endl;\n",
        "  }\n",
        "\n",
        "  return 0;\n",
        "}"
      ],
      "metadata": {
        "colab": {
          "base_uri": "https://localhost:8080/"
        },
        "id": "XCJzRjO1EEcF",
        "outputId": "26ae12ba-fe6d-40ba-854b-ccff15b36cd2"
      },
      "execution_count": null,
      "outputs": [
        {
          "output_type": "stream",
          "name": "stdout",
          "text": [
            "Writing degrad.cpp\n"
          ]
        }
      ]
    },
    {
      "cell_type": "code",
      "source": [
        "!g++ degrad.cpp -o degrad\n",
        "!./degrad"
      ],
      "metadata": {
        "colab": {
          "base_uri": "https://localhost:8080/"
        },
        "id": "iAMI_ck0IR7i",
        "outputId": "4a8d63f7-749b-4bfe-fee9-911b3ce6890b"
      },
      "execution_count": null,
      "outputs": [
        {
          "output_type": "stream",
          "name": "stdout",
          "text": [
            "Degree to Radians Table\n",
            "\n",
            "0° = 0 radians\n",
            "10° = 0.174533 radians\n",
            "20° = 0.349066 radians\n",
            "30° = 0.523599 radians\n",
            "40° = 0.698132 radians\n",
            "50° = 0.872665 radians\n",
            "60° = 1.047198 radians\n",
            "70° = 1.221731 radians\n",
            "80° = 1.396264 radians\n",
            "90° = 1.570796 radians\n"
          ]
        }
      ]
    },
    {
      "cell_type": "markdown",
      "source": [
        "**Question 5: Calories Burned**"
      ],
      "metadata": {
        "id": "1URWULqeKWhR"
      }
    },
    {
      "cell_type": "code",
      "source": [
        "%%writefile calories.cpp\n",
        "#include <iostream>\n",
        "#include <iomanip>\n",
        "\n",
        "using namespace std;\n",
        "\n",
        "int main()\n",
        "{\n",
        "  int i = 5;\n",
        "  cout << \"Calories Burned Based On Minutes\\n\\n\";\n",
        "  while (i <= 30)\n",
        "  {\n",
        "    cout << setw(2) << left << i << \" minutes: \" << setw(3) << right << 3.6 * i << \" cal\\n\";\n",
        "    i += 5;\n",
        "  }\n",
        "\n",
        "  return 0;\n",
        "}"
      ],
      "metadata": {
        "colab": {
          "base_uri": "https://localhost:8080/"
        },
        "id": "omj_ToNjKbDk",
        "outputId": "1ff3a6e0-26fb-4384-ff04-c713c090b842"
      },
      "execution_count": null,
      "outputs": [
        {
          "output_type": "stream",
          "name": "stdout",
          "text": [
            "Overwriting calories.cpp\n"
          ]
        }
      ]
    },
    {
      "cell_type": "code",
      "source": [
        "!g++ calories.cpp -o calories\n",
        "!./calories"
      ],
      "metadata": {
        "colab": {
          "base_uri": "https://localhost:8080/"
        },
        "id": "Jm1CQ9wsK1v_",
        "outputId": "084a313d-e663-46cb-8331-066495bbef11"
      },
      "execution_count": null,
      "outputs": [
        {
          "output_type": "stream",
          "name": "stdout",
          "text": [
            "Calories Burned Based On Minutes\n",
            "\n",
            "5  minutes:  18 cal\n",
            "10 minutes:  36 cal\n",
            "15 minutes:  54 cal\n",
            "20 minutes:  72 cal\n",
            "25 minutes:  90 cal\n",
            "30 minutes: 108 cal\n"
          ]
        }
      ]
    },
    {
      "cell_type": "markdown",
      "source": [
        "**Question 6: Distance Traveled**"
      ],
      "metadata": {
        "id": "UkVRe57sPH-2"
      }
    },
    {
      "cell_type": "code",
      "source": [
        "%%writefile distance.cpp\n",
        "#include <iostream>\n",
        "\n",
        "using namespace std;\n",
        "\n",
        "int main()\n",
        "{\n",
        "  int speed, hour, i = 1;\n",
        "  cout << \"What is the speed of the vehicle in mph? \";\n",
        "  cin >> speed;\n",
        "  cout << \"How many hours has it traveled? \";\n",
        "  cin >> hour;\n",
        "  if (i >= 1 && speed > 0)\n",
        "  {\n",
        "    cout << \"Hour Distance Traveled\\n\";\n",
        "    cout << \"----------------------\\n\";\n",
        "    while (i <= hour)\n",
        "    {\n",
        "      cout << i << \" \" << speed * i << endl;\n",
        "      i += 1;\n",
        "    }\n",
        "  }\n",
        "  else\n",
        "  {\n",
        "    cout << \"Invalid input, please try again!\";\n",
        "  }\n",
        "\n",
        "  return 0;\n",
        "}"
      ],
      "metadata": {
        "colab": {
          "base_uri": "https://localhost:8080/"
        },
        "id": "Orp199GzPMW_",
        "outputId": "d5f6c873-5214-4412-8b2e-bed6a75c177f"
      },
      "execution_count": null,
      "outputs": [
        {
          "output_type": "stream",
          "name": "stdout",
          "text": [
            "Overwriting distance.cpp\n"
          ]
        }
      ]
    },
    {
      "cell_type": "code",
      "source": [
        "!g++ distance.cpp -o distance\n",
        "!./distance"
      ],
      "metadata": {
        "colab": {
          "base_uri": "https://localhost:8080/"
        },
        "id": "-qxg7nP0Rzq2",
        "outputId": "8f281b6e-c110-4ec5-ca76-f6aa7c3b5495"
      },
      "execution_count": null,
      "outputs": [
        {
          "output_type": "stream",
          "name": "stdout",
          "text": [
            "What is the speed of the vehicle in mph? 70\n",
            "How many hours has it traveled? 7\n",
            "Hour Distance Traveled\n",
            "----------------------\n",
            "1 70\n",
            "2 140\n",
            "3 210\n",
            "4 280\n",
            "5 350\n",
            "6 420\n",
            "7 490\n"
          ]
        }
      ]
    },
    {
      "cell_type": "markdown",
      "source": [
        "**Question 7: Arithmetic Series**"
      ],
      "metadata": {
        "id": "nTlwwWKBS82d"
      }
    },
    {
      "cell_type": "code",
      "source": [
        "%%writefile arithmetic.cpp\n",
        "#include <iostream>\n",
        "\n",
        "using namespace std;\n",
        "\n",
        "int main()\n",
        "{\n",
        "  int i = 1, firstValue, secondValue, totalNum, diff;\n",
        "  cout << \"Enter the first value of the series: \";\n",
        "  cin >> firstValue;\n",
        "  cout << \"Enter the second value of the series: \";\n",
        "  cin >> secondValue;\n",
        "  cout << \"Enter the number of values to be displayed: \";\n",
        "  cin >> totalNum;\n",
        "  diff = secondValue - firstValue;\n",
        "  if (totalNum > 0)\n",
        "  {\n",
        "    if (firstValue + ((totalNum - 1) * diff) < 100)\n",
        "    {\n",
        "      for (int i = 1; i <= totalNum; i++)\n",
        "      {\n",
        "        cout << i << \". \";\n",
        "        cout << firstValue + ((i - 1) * diff) << endl;\n",
        "      }\n",
        "    }\n",
        "    else\n",
        "    {\n",
        "      while (firstValue + ((i - 1) * diff) < 100)\n",
        "      {\n",
        "        cout << i << \". \";\n",
        "        cout << firstValue + ((i - 1) * diff) << endl;\n",
        "        i += 1;\n",
        "      }\n",
        "    }\n",
        "  }\n",
        "  else\n",
        "  {\n",
        "    cout << \"The number of values to be displayed must be greater than 0.\";\n",
        "  }\n",
        "\n",
        "  return 0;\n",
        "}"
      ],
      "metadata": {
        "colab": {
          "base_uri": "https://localhost:8080/"
        },
        "id": "OZ98zXP1TiYQ",
        "outputId": "6aa587c7-2d68-442a-aa8d-a24bc2311bdc"
      },
      "execution_count": null,
      "outputs": [
        {
          "output_type": "stream",
          "name": "stdout",
          "text": [
            "Overwriting arithmetic.cpp\n"
          ]
        }
      ]
    },
    {
      "cell_type": "code",
      "source": [
        "!g++ arithmetic.cpp -o arithmetic\n",
        "!./arithmetic"
      ],
      "metadata": {
        "colab": {
          "base_uri": "https://localhost:8080/"
        },
        "id": "UCMdUC6XWz0j",
        "outputId": "d676aa59-4dff-44cb-a5a1-4d2bce9f318b"
      },
      "execution_count": null,
      "outputs": [
        {
          "output_type": "stream",
          "name": "stdout",
          "text": [
            "Enter the first value of the series: 2\n",
            "Enter the second value of the series: 4\n",
            "Enter the number of values to be displayed: 100\n",
            "1. 2\n",
            "2. 4\n",
            "3. 6\n",
            "4. 8\n",
            "5. 10\n",
            "6. 12\n",
            "7. 14\n",
            "8. 16\n",
            "9. 18\n",
            "10. 20\n",
            "11. 22\n",
            "12. 24\n",
            "13. 26\n",
            "14. 28\n",
            "15. 30\n",
            "16. 32\n",
            "17. 34\n",
            "18. 36\n",
            "19. 38\n",
            "20. 40\n",
            "21. 42\n",
            "22. 44\n",
            "23. 46\n",
            "24. 48\n",
            "25. 50\n",
            "26. 52\n",
            "27. 54\n",
            "28. 56\n",
            "29. 58\n",
            "30. 60\n",
            "31. 62\n",
            "32. 64\n",
            "33. 66\n",
            "34. 68\n",
            "35. 70\n",
            "36. 72\n",
            "37. 74\n",
            "38. 76\n",
            "39. 78\n",
            "40. 80\n",
            "41. 82\n",
            "42. 84\n",
            "43. 86\n",
            "44. 88\n",
            "45. 90\n",
            "46. 92\n",
            "47. 94\n",
            "48. 96\n",
            "49. 98\n"
          ]
        }
      ]
    },
    {
      "cell_type": "markdown",
      "source": [
        "**Question 8: Palindrome Check**"
      ],
      "metadata": {
        "id": "I1BQQ8GaXkzH"
      }
    },
    {
      "cell_type": "code",
      "source": [
        "%%writefile palindrome.cpp\n",
        "#include <iostream>\n",
        "\n",
        "using namespace std;\n",
        "\n",
        "int main()\n",
        "{\n",
        "  int orinum, num, revnum;\n",
        "  do\n",
        "  {\n",
        "    cout << \"Please insert a nonnegative value: \";\n",
        "    cin >> num;\n",
        "    orinum = num;\n",
        "  }\n",
        "  while (num < 0);\n",
        "  cout << num << \" has the reverse of \";\n",
        "  while ((num * 10) / 10 != 0)\n",
        "  {\n",
        "    revnum = (10 * revnum) + (num % 10);\n",
        "    num /= 10;\n",
        "  }\n",
        "  cout << revnum << \".\\n\";\n",
        "  if (orinum == revnum)\n",
        "  {\n",
        "    cout << orinum << \" is a palindrome.\";\n",
        "  }\n",
        "  else\n",
        "  {\n",
        "    cout << orinum << \" is not a palindrome.\";\n",
        "  }\n",
        "\n",
        "  return 0;\n",
        "}"
      ],
      "metadata": {
        "id": "PL1FfwTZXrLy",
        "colab": {
          "base_uri": "https://localhost:8080/"
        },
        "outputId": "12dae207-e8e0-442f-aba6-470af0b0ae0e"
      },
      "execution_count": null,
      "outputs": [
        {
          "output_type": "stream",
          "name": "stdout",
          "text": [
            "Overwriting palindrome.cpp\n"
          ]
        }
      ]
    },
    {
      "cell_type": "code",
      "source": [
        "!g++ palindrome.cpp -o palindrome\n",
        "!./palindrome"
      ],
      "metadata": {
        "colab": {
          "base_uri": "https://localhost:8080/"
        },
        "id": "udboTb3jWkgM",
        "outputId": "f97c018a-c20f-4976-8f21-821264a3c755"
      },
      "execution_count": null,
      "outputs": [
        {
          "output_type": "stream",
          "name": "stdout",
          "text": [
            "Please insert a nonnegative value: 1234\n",
            "1234 has the reverse of 4321.\n",
            "1234 is not a palindrome."
          ]
        }
      ]
    },
    {
      "cell_type": "markdown",
      "source": [
        "**Question 9: Pattern Generator**"
      ],
      "metadata": {
        "id": "dreO-fNseJIK"
      }
    },
    {
      "cell_type": "code",
      "source": [
        "%%writefile pattern.cpp\n",
        "#include <iostream>\n",
        "\n",
        "using namespace std;\n",
        "\n",
        "int main()\n",
        "{\n",
        "  char char1, char2;\n",
        "  int i = 1, repeat1, repeat2, row, column, maxColumn = 0;\n",
        "  cout << \"Enter the first character: \";\n",
        "  cin >> char1;\n",
        "  cout << \"Enter how many times to repeat the character \" << char1 << \": \";\n",
        "  cin >> repeat1;\n",
        "  cout << \"Enter the second character: \";\n",
        "  cin >> char2;\n",
        "  cout << \"Enter how many times to repeat the character \" << char2 << \": \";\n",
        "  cin >> repeat2;\n",
        "  cout << \"Enter the rows and columns to be displayed: \";\n",
        "  cin >> row >> column;\n",
        "  while (i <= row)\n",
        "  {\n",
        "    for (int j = 1; j <= repeat1; j++)\n",
        "    {\n",
        "      cout << char1;\n",
        "      maxColumn += 1;\n",
        "      if (maxColumn % column == 0)\n",
        "      {\n",
        "        i += 1;\n",
        "        cout << \"\\n\";\n",
        "      }\n",
        "    }\n",
        "    for (int k = 1; k <= repeat2 && i <= row; k++)\n",
        "    {\n",
        "      cout << char2;\n",
        "      maxColumn += 1;\n",
        "      if (maxColumn % column == 0)\n",
        "      {\n",
        "        i += 1;\n",
        "        cout << \"\\n\";\n",
        "      }\n",
        "    }\n",
        "  }\n",
        "\n",
        "  return 0;\n",
        "}"
      ],
      "metadata": {
        "colab": {
          "base_uri": "https://localhost:8080/"
        },
        "id": "n_ok-HAfeOFc",
        "outputId": "0264364d-0d08-45ff-901c-8afcbf88cd22"
      },
      "execution_count": null,
      "outputs": [
        {
          "output_type": "stream",
          "name": "stdout",
          "text": [
            "Writing pattern.cpp\n"
          ]
        }
      ]
    },
    {
      "cell_type": "code",
      "source": [
        "!g++ pattern.cpp -o pattern\n",
        "!./pattern"
      ],
      "metadata": {
        "colab": {
          "base_uri": "https://localhost:8080/"
        },
        "id": "qtKGhC-vlIje",
        "outputId": "df397508-65ff-4d51-e856-b2ebc430de3d"
      },
      "execution_count": null,
      "outputs": [
        {
          "output_type": "stream",
          "name": "stdout",
          "text": [
            "Enter the first character: *\n",
            "Enter how many times to repeat the character *: 5\n",
            "Enter the second character: +\n",
            "Enter how many times to repeat the character +: 4\n",
            "Enter the rows and columns to be displayed: 4 21\n",
            "*****++++*****++++***\n",
            "**++++*****++++*****+\n",
            "+++*****++++*****++++\n",
            "*****++++*****++++***\n",
            "**"
          ]
        }
      ]
    },
    {
      "cell_type": "markdown",
      "source": [
        "**Question 10: Random Number Guessing Game**"
      ],
      "metadata": {
        "id": "78E5TvwxpugV"
      }
    },
    {
      "cell_type": "code",
      "source": [
        "%%writefile guess.cpp\n",
        "#include <iostream>\n",
        "#include <ctime>\n",
        "#include <cstdlib>\n",
        "\n",
        "using namespace std;\n",
        "\n",
        "int main()\n",
        "{\n",
        "  int num, guess, guessCount = 0, lowerLimit = 1, upperLimit = 1000;\n",
        "  unsigned seed = time(0);\n",
        "  srand(seed);\n",
        "  num = rand() % 1000;\n",
        "  do\n",
        "  {\n",
        "    cout << \"Enter your guess: (\" << lowerLimit << \" - \" << upperLimit << \") \";\n",
        "    cin >> guess;\n",
        "    {\n",
        "      if (guess > num)\n",
        "      {\n",
        "        upperLimit = guess;\n",
        "        cout << \"Too high, try again.\\n\";\n",
        "        guessCount += 1;\n",
        "      }\n",
        "      else if (guess < num)\n",
        "      {\n",
        "        lowerLimit = guess;\n",
        "        cout << \"Too low, try again.\\n\";\n",
        "        guessCount += 1;\n",
        "      }\n",
        "    }\n",
        "  }\n",
        "  while (guess != num);\n",
        "  guessCount += 1;\n",
        "  cout << \"Congratulations, you have guessed the number correctly with \" << guessCount << \" tries! (\"  << num << \")\";\n",
        "\n",
        "  return 0;\n",
        "}"
      ],
      "metadata": {
        "colab": {
          "base_uri": "https://localhost:8080/"
        },
        "id": "XPB3Waqqpzkc",
        "outputId": "aa08a3b2-ebf7-4331-c29e-af7796a814f6"
      },
      "execution_count": null,
      "outputs": [
        {
          "output_type": "stream",
          "name": "stdout",
          "text": [
            "Overwriting guess.cpp\n"
          ]
        }
      ]
    },
    {
      "cell_type": "code",
      "source": [
        "!g++ guess.cpp -o guess\n",
        "!./guess"
      ],
      "metadata": {
        "colab": {
          "base_uri": "https://localhost:8080/"
        },
        "id": "Y1P7Z91lub01",
        "outputId": "01f30049-e2f9-44eb-9d77-bc6b010f1e4f"
      },
      "execution_count": null,
      "outputs": [
        {
          "output_type": "stream",
          "name": "stdout",
          "text": [
            "Enter your guess: (1 - 1000) 500\n",
            "Too high, try again.\n",
            "Enter your guess: (1 - 500) 250\n",
            "Too low, try again.\n",
            "Enter your guess: (250 - 500) 350\n",
            "Too low, try again.\n",
            "Enter your guess: (350 - 500) 400\n",
            "Too low, try again.\n",
            "Enter your guess: (400 - 500) 450\n",
            "Too low, try again.\n",
            "Enter your guess: (450 - 500) 476\n",
            "Too low, try again.\n",
            "Enter your guess: (476 - 500) 487\n",
            "Too low, try again.\n",
            "Enter your guess: (487 - 500) 499\n",
            "Too high, try again.\n",
            "Enter your guess: (487 - 499) 491\n",
            "Too low, try again.\n",
            "Enter your guess: (491 - 499) 496\n",
            "Too high, try again.\n",
            "Enter your guess: (491 - 496) 495\n",
            "Too high, try again.\n",
            "Enter your guess: (491 - 495) 494\n",
            "Too high, try again.\n",
            "Enter your guess: (491 - 494) 493\n",
            "Congratulations, you have guessed the number correctly with 13 tries! (493)"
          ]
        }
      ]
    }
  ]
}