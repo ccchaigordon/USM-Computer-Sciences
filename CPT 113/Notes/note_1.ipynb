{
 "cells": [
  {
   "cell_type": "markdown",
   "metadata": {},
   "source": [
    "<h3>Array of Objects with Overloading Constructors</h3>"
   ]
  },
  {
   "cell_type": "code",
   "execution_count": 1,
   "metadata": {},
   "outputs": [
    {
     "name": "stdout",
     "output_type": "stream",
     "text": [
      "Overwriting arrObj.cpp\n"
     ]
    }
   ],
   "source": [
    "%%writefile arrObj.cpp\n",
    "#include <iostream>\n",
    "\n",
    "using namespace std;\n",
    "\n",
    "class Student\n",
    "{\n",
    "private:\n",
    "    int id, seat;\n",
    "\n",
    "public:\n",
    "    Student() {}\n",
    "    Student(int);\n",
    "    Student(int, int);\n",
    "    ~Student() {}\n",
    "};\n",
    "\n",
    "Student::Student(int id)\n",
    "{\n",
    "    this->id = id;\n",
    "}\n",
    "\n",
    "Student::Student(int id, int seat)\n",
    "{\n",
    "    this->id = id;\n",
    "    this->seat = seat;\n",
    "}\n",
    "\n",
    "int main()\n",
    "{\n",
    "    Student student[3] = {Student(), Student(2), Student(3, 4)};\n",
    "\n",
    "    return 0;\n",
    "}"
   ]
  },
  {
   "cell_type": "code",
   "execution_count": 2,
   "metadata": {},
   "outputs": [],
   "source": [
    "!g++ arrObj.cpp -o arrObj\n",
    "!.\\arrObj"
   ]
  },
  {
   "cell_type": "markdown",
   "metadata": {},
   "source": [
    "<h3>Inheritance Properties (Access by derived classes)</h3>"
   ]
  },
  {
   "cell_type": "code",
   "execution_count": 3,
   "metadata": {},
   "outputs": [
    {
     "name": "stdout",
     "output_type": "stream",
     "text": [
      "Overwriting inheritance.cpp\n"
     ]
    }
   ],
   "source": [
    "%%writefile inheritance.cpp\n",
    "#include <iostream>\n",
    "#include <string>\n",
    "\n",
    "using namespace std;\n",
    "\n",
    "class Student\n",
    "{\n",
    "protected:\n",
    "    string name;\n",
    "    int age;\n",
    "\n",
    "public:\n",
    "    Student() {}\n",
    "    Student(string name, int age)\n",
    "    {\n",
    "        this->name = name;\n",
    "        this->age = age;\n",
    "    }\n",
    "    ~Student() {}\n",
    "};\n",
    "\n",
    "class Undergraduate: public Student\n",
    "{\n",
    "private:\n",
    "    string id;\n",
    "\n",
    "public:\n",
    "    Undergraduate(string name, int age, string id) \n",
    "    {\n",
    "        this->name = name; \n",
    "        this->age = age;\n",
    "        this->id = id;\n",
    "    }\n",
    "    ~Undergraduate() {}\n",
    "    void print() const;\n",
    "};\n",
    "\n",
    "void Undergraduate::print() const\n",
    "{\n",
    "    cout << \"Name: \" << name;\n",
    "    cout << \"\\nAge: \" << age;\n",
    "    cout << \"\\nID: \" << id;\n",
    "}\n",
    "\n",
    "int main()\n",
    "{\n",
    "    Undergraduate stud1(\"Gordon Chai\", 21, \"22305460\");\n",
    "    stud1.print();\n",
    "\n",
    "    return 0;\n",
    "}"
   ]
  },
  {
   "cell_type": "code",
   "execution_count": 4,
   "metadata": {},
   "outputs": [
    {
     "name": "stdout",
     "output_type": "stream",
     "text": [
      "Name: Gordon Chai\n",
      "Age: 21\n",
      "ID: 22305460\n"
     ]
    }
   ],
   "source": [
    "!g++ inheritance.cpp -o inh\n",
    "!.\\inh"
   ]
  },
  {
   "cell_type": "markdown",
   "metadata": {},
   "source": [
    "<h4>Or we can do like this:</h4>"
   ]
  },
  {
   "cell_type": "code",
   "execution_count": 5,
   "metadata": {},
   "outputs": [
    {
     "name": "stdout",
     "output_type": "stream",
     "text": [
      "Overwriting inheritance2.cpp\n"
     ]
    }
   ],
   "source": [
    "%%writefile inheritance2.cpp\n",
    "#include <iostream>\n",
    "#include <string>\n",
    "\n",
    "using namespace std;\n",
    "\n",
    "class Student\n",
    "{\n",
    "protected:\n",
    "    string name;\n",
    "    int age;\n",
    "\n",
    "public:\n",
    "    Student() {}\n",
    "    Student(string name, int age)\n",
    "    {\n",
    "        this->name = name;\n",
    "        this->age = age;\n",
    "    }\n",
    "    ~Student() {}\n",
    "};\n",
    "\n",
    "class Undergraduate: public Student\n",
    "{\n",
    "private:\n",
    "    string id;\n",
    "\n",
    "public:\n",
    "    // Using member initialisation list\n",
    "    Undergraduate(string name, int age, string id) : Student(name, age)\n",
    "    {\n",
    "        this->id = id;\n",
    "    }\n",
    "    ~Undergraduate() {}\n",
    "    void print() const;\n",
    "};\n",
    "\n",
    "void Undergraduate::print() const\n",
    "{\n",
    "    cout << \"Name: \" << name;\n",
    "    cout << \"\\nAge: \" << age;\n",
    "    cout << \"\\nID: \" << id;\n",
    "}\n",
    "\n",
    "int main()\n",
    "{\n",
    "    Undergraduate stud1(\"Gordon Chai\", 21, \"22305460\");\n",
    "    stud1.print();\n",
    "\n",
    "    return 0;\n",
    "}"
   ]
  },
  {
   "cell_type": "code",
   "execution_count": 6,
   "metadata": {},
   "outputs": [
    {
     "name": "stdout",
     "output_type": "stream",
     "text": [
      "Name: Gordon Chai\n",
      "Age: 21\n",
      "ID: 22305460\n"
     ]
    }
   ],
   "source": [
    "!g++ inheritance2.cpp -o inh2\n",
    "!.\\inh2"
   ]
  },
  {
   "cell_type": "markdown",
   "metadata": {},
   "source": [
    "<h3>Static Members and Static Member Functions</h3>"
   ]
  },
  {
   "cell_type": "code",
   "execution_count": 3,
   "metadata": {},
   "outputs": [
    {
     "name": "stdout",
     "output_type": "stream",
     "text": [
      "Overwriting static.cpp\n"
     ]
    }
   ],
   "source": [
    "%%writefile static.cpp\n",
    "#include <iostream>\n",
    "#include <string>\n",
    "\n",
    "using namespace std;\n",
    "\n",
    "class Student\n",
    "{\n",
    "private:\n",
    "    static int count;\n",
    "public:\n",
    "    Student() { count += 1; }\n",
    "    ~Student() {}\n",
    "    static int getCount() { return count; }\n",
    "};\n",
    "\n",
    "int Student::count = 0;\n",
    "\n",
    "int main()\n",
    "{\n",
    "    Student stud1, stud2, stud3;\n",
    "    // Printing number of objects\n",
    "    cout << Student::getCount();\n",
    "\n",
    "    return 0;\n",
    "}"
   ]
  },
  {
   "cell_type": "code",
   "execution_count": 4,
   "metadata": {},
   "outputs": [
    {
     "name": "stdout",
     "output_type": "stream",
     "text": [
      "3\n"
     ]
    }
   ],
   "source": [
    "!g++ static.cpp -o static1\n",
    "!.\\static1"
   ]
  },
  {
   "cell_type": "markdown",
   "metadata": {},
   "source": [
    "<h4>Or we can:</h4>"
   ]
  },
  {
   "cell_type": "code",
   "execution_count": 11,
   "metadata": {},
   "outputs": [
    {
     "name": "stdout",
     "output_type": "stream",
     "text": [
      "Overwriting static2.cpp\n"
     ]
    }
   ],
   "source": [
    "%%writefile static2.cpp\n",
    "#include <iostream>\n",
    "#include <string>\n",
    "\n",
    "using namespace std;\n",
    "\n",
    "class Student\n",
    "{\n",
    "private:\n",
    "    static string Class;\n",
    "public:\n",
    "    Student() {}\n",
    "    ~Student() {}\n",
    "    static string getClass() {return Class;}\n",
    "};\n",
    "\n",
    "string Student::Class = \"Computer Science Class\";\n",
    "\n",
    "int main()\n",
    "{\n",
    "    Student stud1, stud2, stud3;\n",
    "    // Accessing using objects\n",
    "    cout << stud1.getClass() << endl;\n",
    "    cout << stud2.getClass() << endl;\n",
    "    cout << stud3.getClass() << endl;\n",
    "    // Can be accessed without using objects too\n",
    "    cout << Student::getClass();\n",
    "\n",
    "    return 0;\n",
    "}"
   ]
  },
  {
   "cell_type": "code",
   "execution_count": 12,
   "metadata": {},
   "outputs": [
    {
     "name": "stdout",
     "output_type": "stream",
     "text": [
      "Computer Science Class\n",
      "Computer Science Class\n",
      "Computer Science Class\n",
      "Computer Science Class\n"
     ]
    }
   ],
   "source": [
    "!g++ static2.cpp -o static2\n",
    "!.\\static2"
   ]
  },
  {
   "cell_type": "markdown",
   "metadata": {},
   "source": [
    "<h3>Friend Functions</h3>"
   ]
  },
  {
   "cell_type": "code",
   "execution_count": 17,
   "metadata": {},
   "outputs": [
    {
     "name": "stdout",
     "output_type": "stream",
     "text": [
      "Overwriting friend.cpp\n"
     ]
    }
   ],
   "source": [
    "%%writefile friend.cpp\n",
    "#include <iostream>\n",
    "\n",
    "using namespace std;\n",
    "\n",
    "// Forward declaration is required\n",
    "class Class;\n",
    "\n",
    "class Calc\n",
    "{\n",
    "private:\n",
    "    int result;\n",
    "\n",
    "public:\n",
    "    void sum(const Class &);\n",
    "};\n",
    "\n",
    "class Class\n",
    "{\n",
    "private:\n",
    "    int data1, data2;\n",
    "\n",
    "public:\n",
    "    Class() { data1 = 1; data2 = 2; }\n",
    "    ~Class() {}\n",
    "    friend void Calc::sum(const Class &);\n",
    "};\n",
    "\n",
    "void Calc::sum(const Class & obj)\n",
    "{\n",
    "    cout << obj.data1 << \" + \" << obj.data2 << \" = \" << obj.data1 + obj.data2 << endl;\n",
    "}\n",
    "\n",
    "int main()\n",
    "{\n",
    "    Class cls;\n",
    "    Calc calc;\n",
    "    calc.sum(cls);\n",
    "\n",
    "    return 0;\n",
    "}"
   ]
  },
  {
   "cell_type": "code",
   "execution_count": 18,
   "metadata": {},
   "outputs": [
    {
     "name": "stdout",
     "output_type": "stream",
     "text": [
      "1 + 2 = 3\n"
     ]
    }
   ],
   "source": [
    "!g++ friend.cpp -o friend\n",
    "!.\\friend"
   ]
  },
  {
   "cell_type": "markdown",
   "metadata": {},
   "source": [
    "<h3><b>Friend Function with Operator Overloading</b></h3>"
   ]
  },
  {
   "cell_type": "code",
   "execution_count": 69,
   "metadata": {},
   "outputs": [
    {
     "name": "stdout",
     "output_type": "stream",
     "text": [
      "Overwriting friendOp.cpp\n"
     ]
    }
   ],
   "source": [
    "%%writefile friendOp.cpp\n",
    "#include <iostream>\n",
    "\n",
    "using namespace std;\n",
    "\n",
    "// Forward Declaration\n",
    "class Real;\n",
    "class Img;\n",
    "\n",
    "class Calc\n",
    "{\n",
    "private:\n",
    "    int real, img;\n",
    "\n",
    "public:\n",
    "    Calc() {}\n",
    "    ~Calc() {}\n",
    "    void print(const Real &, const Img &);\n",
    "};\n",
    "\n",
    "class Real\n",
    "{\n",
    "private:\n",
    "    int real;\n",
    "\n",
    "public:\n",
    "    Real(int real = 0) { this->real = real; }\n",
    "    ~Real() {}\n",
    "    void operator*(const Img &);\n",
    "    friend void Calc::print(const Real &, const Img &);\n",
    "};\n",
    "\n",
    "class Img\n",
    "{\n",
    "private:\n",
    "    int img;\n",
    "\n",
    "public:\n",
    "    Img(int img = 0) { this->img = img; }\n",
    "    ~Img() {}\n",
    "    friend void Calc::print(const Real &, const Img &);\n",
    "    friend void Real::operator*(const Img &);\n",
    "};\n",
    "\n",
    "int main()\n",
    "{\n",
    "    Real real(5);\n",
    "    Img img(6);\n",
    "    Calc calc;\n",
    "    calc.print(real, img);\n",
    "    real * img;\n",
    "\n",
    "    return 0;\n",
    "}\n",
    "\n",
    "void Calc::print(const Real &left, const Img &right)\n",
    "{\n",
    "    cout << \"The complex form is \" << left.real << \" + \" << right.img << \"i.\\n\";\n",
    "}\n",
    "\n",
    "void Real::operator*(const Img &obj)\n",
    "{\n",
    "    cout << \"The complex form is \" << this->real << \" + \" << obj.img << \"i.\\n\";\n",
    "}"
   ]
  },
  {
   "cell_type": "code",
   "execution_count": 70,
   "metadata": {},
   "outputs": [
    {
     "name": "stdout",
     "output_type": "stream",
     "text": [
      "The complex form is 5 + 6i.\n",
      "The complex form is 5 + 6i.\n"
     ]
    }
   ],
   "source": [
    "!g++ friendOp.cpp -o friendOp\n",
    "!.\\friendOp"
   ]
  },
  {
   "cell_type": "markdown",
   "metadata": {},
   "source": [
    "<h3>Friend Class</h3>"
   ]
  },
  {
   "cell_type": "code",
   "execution_count": 7,
   "metadata": {},
   "outputs": [
    {
     "name": "stdout",
     "output_type": "stream",
     "text": [
      "Overwriting friendClass.cpp\n"
     ]
    }
   ],
   "source": [
    "%%writefile friendClass.cpp\n",
    "#include <iostream>\n",
    "\n",
    "using namespace std;\n",
    "\n",
    "// Forward declaration\n",
    "class Calc;\n",
    "\n",
    "class Class\n",
    "{\n",
    "private:\n",
    "    int data1, data2;\n",
    "\n",
    "public:\n",
    "    Class(int d1 = 0, int d2 = 0) : data1(d1), data2(d2) {}\n",
    "    ~Class() {}\n",
    "    friend class Calc;\n",
    "};\n",
    "\n",
    "class Calc\n",
    "{\n",
    "private:\n",
    "    int result;\n",
    "\n",
    "public:\n",
    "    void sum(const Class &);\n",
    "};\n",
    "\n",
    "void Calc::sum(const Class & obj)\n",
    "{\n",
    "    cout << obj.data1 << \" + \" << obj.data2 << \" = \" << obj.data1 + obj.data2;\n",
    "}\n",
    "\n",
    "int main()\n",
    "{\n",
    "    Class cls(5, 10);  // Initializing data members\n",
    "    Calc calc;\n",
    "    calc.sum(cls);\n",
    "\n",
    "    return 0;\n",
    "}"
   ]
  },
  {
   "cell_type": "code",
   "execution_count": 8,
   "metadata": {},
   "outputs": [
    {
     "name": "stdout",
     "output_type": "stream",
     "text": [
      "5 + 10 = 15\n"
     ]
    }
   ],
   "source": [
    "!g++ friendClass.cpp -o friendClass\n",
    "!.\\friendClass"
   ]
  },
  {
   "cell_type": "markdown",
   "metadata": {},
   "source": [
    "<h3>Copy Constructors (Pointer members scenario)</h3>\n",
    "<b>Note that the pointers of both original and copied objects will point to the same memory location</b>"
   ]
  },
  {
   "cell_type": "code",
   "execution_count": 11,
   "metadata": {},
   "outputs": [
    {
     "name": "stdout",
     "output_type": "stream",
     "text": [
      "Overwriting copyconst.cpp\n"
     ]
    }
   ],
   "source": [
    "%%writefile copyconst.cpp\n",
    "#include <iostream>\n",
    "#include <string>\n",
    "\n",
    "using namespace std;\n",
    "\n",
    "class SomeClass\n",
    "{ \n",
    "public:\n",
    "    SomeClass(int val = 0) {value = new int; *value = val;}\n",
    "    ~SomeClass() {delete value; value = nullptr;}\n",
    "    int getVal();\n",
    "    void setVal(int);\n",
    "    int print() const;\n",
    "private:\n",
    "    int *value = nullptr;\n",
    "};\n",
    "\n",
    "int SomeClass::print() const\n",
    "{\n",
    "    return (*value);\n",
    "}\n",
    "\n",
    "void SomeClass::setVal(int val)\n",
    "{\n",
    "    *value = val;\n",
    "}\n",
    "\n",
    "int main()\n",
    "{\n",
    "    SomeClass class1(20);\n",
    "    SomeClass class2 = class1;\n",
    "    cout << class1.print() << endl;\n",
    "    cout << class2.print() << endl;\n",
    "    class2.setVal(8);\n",
    "    cout << class1.print() << endl;\n",
    "    cout << class2.print() << endl;\n",
    "\n",
    "    return 0;\n",
    "}"
   ]
  },
  {
   "cell_type": "code",
   "execution_count": 12,
   "metadata": {},
   "outputs": [
    {
     "name": "stdout",
     "output_type": "stream",
     "text": [
      "20\n",
      "20\n",
      "8\n",
      "8\n"
     ]
    }
   ],
   "source": [
    "!g++ copyconst.cpp -o copyconst\n",
    "!.\\copyconst"
   ]
  },
  {
   "cell_type": "markdown",
   "metadata": {},
   "source": [
    "<h4>To overcome this, do this instead:</h4>"
   ]
  },
  {
   "cell_type": "markdown",
   "metadata": {},
   "source": [
    "<b>But first, understand the concept of dynamically allocated variables</b>"
   ]
  },
  {
   "cell_type": "code",
   "execution_count": 13,
   "metadata": {},
   "outputs": [
    {
     "name": "stdout",
     "output_type": "stream",
     "text": [
      "Overwriting dynamic.cpp\n"
     ]
    }
   ],
   "source": [
    "%%writefile dynamic.cpp\n",
    "#include <iostream>\n",
    "\n",
    "using namespace std;\n",
    "\n",
    "int main()\n",
    "{\n",
    "    int *ptr = nullptr;\n",
    "    ptr = new int;\n",
    "    *ptr = 3;\n",
    "    cout << *ptr;\n",
    "    delete ptr;\n",
    "    ptr = nullptr;\n",
    "\n",
    "    return 0;\n",
    "}"
   ]
  },
  {
   "cell_type": "code",
   "execution_count": 14,
   "metadata": {},
   "outputs": [
    {
     "name": "stdout",
     "output_type": "stream",
     "text": [
      "3\n"
     ]
    }
   ],
   "source": [
    "!g++ dynamic.cpp -o dynamic\n",
    "!.\\dynamic"
   ]
  },
  {
   "cell_type": "code",
   "execution_count": 15,
   "metadata": {},
   "outputs": [
    {
     "name": "stdout",
     "output_type": "stream",
     "text": [
      "Overwriting copyconst2.cpp\n"
     ]
    }
   ],
   "source": [
    "%%writefile copyconst2.cpp\n",
    "#include <iostream>\n",
    "#include <string>\n",
    "\n",
    "using namespace std;\n",
    "\n",
    "class SomeClass\n",
    "{ \n",
    "public:\n",
    "    SomeClass(int val = 0) {value = new int; *value = val;}\n",
    "    // Copy Constructor\n",
    "    SomeClass(const SomeClass &obj)\n",
    "    {\n",
    "        value = new int;\n",
    "        *value = *(obj.value);\n",
    "    }\n",
    "    ~SomeClass() {delete value; value = nullptr;}\n",
    "    int getVal();\n",
    "    void setVal(int);\n",
    "    int print() const;\n",
    "private:\n",
    "    int *value = nullptr;\n",
    "};\n",
    "\n",
    "int SomeClass::print() const\n",
    "{\n",
    "    return (*value);\n",
    "}\n",
    "\n",
    "void SomeClass::setVal(int val)\n",
    "{\n",
    "    *value = val;\n",
    "}\n",
    "\n",
    "int main()\n",
    "{\n",
    "    SomeClass class1(20);\n",
    "    SomeClass class2 = class1;\n",
    "    cout << class1.print() << endl;\n",
    "    cout << class2.print() << endl;\n",
    "    class2.setVal(8);\n",
    "    cout << class1.print() << endl;\n",
    "    cout << class2.print() << endl;\n",
    "\n",
    "    return 0;\n",
    "}"
   ]
  },
  {
   "cell_type": "code",
   "execution_count": 16,
   "metadata": {},
   "outputs": [
    {
     "name": "stdout",
     "output_type": "stream",
     "text": [
      "20\n",
      "20\n",
      "20\n",
      "8\n"
     ]
    }
   ],
   "source": [
    "!g++ copyconst2.cpp -o copyconst2\n",
    "!.\\copyconst2"
   ]
  },
  {
   "cell_type": "markdown",
   "metadata": {},
   "source": [
    "<h3>Working with Enumerators</h3>"
   ]
  },
  {
   "cell_type": "markdown",
   "metadata": {},
   "source": [
    "<b>Direct assignments only work on normal enumerators but not strongly typed:</b>"
   ]
  },
  {
   "cell_type": "code",
   "execution_count": 17,
   "metadata": {},
   "outputs": [
    {
     "name": "stdout",
     "output_type": "stream",
     "text": [
      "Overwriting enum.cpp\n"
     ]
    }
   ],
   "source": [
    "%%writefile enum.cpp\n",
    "#include <iostream>\n",
    "\n",
    "using namespace std;\n",
    "\n",
    "enum Day\n",
    "{\n",
    "    MONDAY, TUESDAY, WEDNESDAY, THURSDAY, FRIDAY\n",
    "};\n",
    "\n",
    "int main()\n",
    "{\n",
    "    // This works\n",
    "    int workDay = MONDAY;\n",
    "\n",
    "    cout << workDay;\n",
    "\n",
    "    return 0;\n",
    "}"
   ]
  },
  {
   "cell_type": "code",
   "execution_count": 18,
   "metadata": {},
   "outputs": [
    {
     "name": "stdout",
     "output_type": "stream",
     "text": [
      "0\n"
     ]
    }
   ],
   "source": [
    "!g++ enum.cpp -o enum\n",
    "!.\\enum"
   ]
  },
  {
   "cell_type": "code",
   "execution_count": 19,
   "metadata": {},
   "outputs": [
    {
     "name": "stdout",
     "output_type": "stream",
     "text": [
      "Overwriting enum2.cpp\n"
     ]
    }
   ],
   "source": [
    "%%writefile enum2.cpp\n",
    "#include <iostream>\n",
    "\n",
    "using namespace std;\n",
    "\n",
    "enum class Day\n",
    "{\n",
    "    MONDAY, TUESDAY, WEDNESDAY, THURSDAY, FRIDAY\n",
    "};\n",
    "\n",
    "int main()\n",
    "{\n",
    "    // Need to use cast operator\n",
    "    int workDay = static_cast<int>(Day::MONDAY);\n",
    "\n",
    "    cout << workDay;\n",
    "\n",
    "    return 0;\n",
    "}"
   ]
  },
  {
   "cell_type": "code",
   "execution_count": 20,
   "metadata": {},
   "outputs": [
    {
     "name": "stdout",
     "output_type": "stream",
     "text": [
      "0\n"
     ]
    }
   ],
   "source": [
    "!g++ enum2.cpp -o enum2\n",
    "!.\\enum2"
   ]
  },
  {
   "cell_type": "markdown",
   "metadata": {},
   "source": [
    "<h3>Classes: Inheritance and Composition</h3>"
   ]
  },
  {
   "cell_type": "code",
   "execution_count": 31,
   "metadata": {},
   "outputs": [
    {
     "name": "stdout",
     "output_type": "stream",
     "text": [
      "Overwriting inheritance.cpp\n"
     ]
    }
   ],
   "source": [
    "%%writefile inheritance.cpp\n",
    "#include <iostream>\n",
    "\n",
    "using namespace std;\n",
    "\n",
    "class Student\n",
    "{\n",
    "protected:\n",
    "    int age;\n",
    "\n",
    "public:\n",
    "    Student() {age = 0; cout << \"This runs first when object is created.\\n\";}\n",
    "    ~Student() { cout << \"This ends last when object is destroyed.\";}\n",
    "};\n",
    "\n",
    "class Primary : public Student\n",
    "{\n",
    "private:\n",
    "    string name;\n",
    "\n",
    "public:\n",
    "\n",
    "    // If the base constructor to be called is the default base constructor then member initialisation list is not required\n",
    "    Primary() { name = \"\"; cout << \"This runs second when object is created.\\n\";}\n",
    "    Primary(string name) {this->name = name; cout << this->name << \": As long as the base constructor to be called is default then no need to explicitly state in derived constructor.\\n\";}\n",
    "    ~Primary() { cout << \"This ends first when object is destroyed.\\n\";}\n",
    "};\n",
    "\n",
    "int main()\n",
    "{\n",
    "    Primary stud1(\"Gordon\");\n",
    "\n",
    "    return 0;\n",
    "}"
   ]
  },
  {
   "cell_type": "code",
   "execution_count": 32,
   "metadata": {},
   "outputs": [
    {
     "name": "stdout",
     "output_type": "stream",
     "text": [
      "This runs first when object is created.\n",
      "Gordon: As long as the base constructor to be called is default then no need to explicitly state in derived constructor.\n",
      "This ends first when object is destroyed.\n",
      "This ends last when object is destroyed.\n"
     ]
    }
   ],
   "source": [
    "!g++ inheritance.cpp -o inheritance\n",
    "!.\\inheritance"
   ]
  },
  {
   "cell_type": "markdown",
   "metadata": {},
   "source": [
    "<b>Overloaded Function: Comparing two objects using functions outside of classses</b>"
   ]
  },
  {
   "cell_type": "code",
   "execution_count": 27,
   "metadata": {},
   "outputs": [
    {
     "name": "stdout",
     "output_type": "stream",
     "text": [
      "Overwriting shape.h\n"
     ]
    }
   ],
   "source": [
    "%%writefile shape.h\n",
    "#ifndef SHAPE\n",
    "#define SHAPE\n",
    "#include <iostream>\n",
    "\n",
    "using namespace std;\n",
    "\n",
    "class Shape\n",
    "{\n",
    "private:\n",
    "    double area;\n",
    "\n",
    "public:\n",
    "    Shape(double area) {this->area = area;}\n",
    "    ~Shape() {}\n",
    "    double getArea() const;\n",
    "};\n",
    "\n",
    "#endif"
   ]
  },
  {
   "cell_type": "code",
   "execution_count": 28,
   "metadata": {},
   "outputs": [
    {
     "name": "stdout",
     "output_type": "stream",
     "text": [
      "Overwriting shape.cpp\n"
     ]
    }
   ],
   "source": [
    "%%writefile shape.cpp\n",
    "#include \"shape.h\"\n",
    "#include <iostream>\n",
    "\n",
    "using namespace std;\n",
    "\n",
    "double Shape::getArea() const\n",
    "{\n",
    "    return area;\n",
    "}"
   ]
  },
  {
   "cell_type": "code",
   "execution_count": 30,
   "metadata": {},
   "outputs": [
    {
     "name": "stdout",
     "output_type": "stream",
     "text": [
      "Overwriting main.cpp\n"
     ]
    }
   ],
   "source": [
    "%%writefile main.cpp\n",
    "#include \"shape.h\"\n",
    "#include <iostream>\n",
    "\n",
    "using namespace std;\n",
    "\n",
    "void compareShape(const Shape &shape1, const Shape &shape2)\n",
    "{\n",
    "    if (shape1.getArea() == shape2.getArea())\n",
    "    {\n",
    "        cout << \"Same area.\";\n",
    "    }\n",
    "    else\n",
    "    {\n",
    "        cout << \"Different area.\";\n",
    "    }\n",
    "}\n",
    "\n",
    "int main()\n",
    "{\n",
    "    Shape shape1(10);\n",
    "    Shape shape2 = shape1;\n",
    "    compareShape(shape1, shape2);\n",
    "\n",
    "    return 0;\n",
    "}"
   ]
  },
  {
   "cell_type": "code",
   "execution_count": 31,
   "metadata": {},
   "outputs": [
    {
     "name": "stdout",
     "output_type": "stream",
     "text": [
      "Same area.\n"
     ]
    }
   ],
   "source": [
    "!g++ shape.h shape.cpp main.cpp -o shape\n",
    "!.\\shape"
   ]
  },
  {
   "cell_type": "markdown",
   "metadata": {},
   "source": [
    "<h3>Past Year (2016 - 2017)</h3>"
   ]
  },
  {
   "cell_type": "code",
   "execution_count": 22,
   "metadata": {},
   "outputs": [
    {
     "name": "stdout",
     "output_type": "stream",
     "text": [
      "Writing empty.cpp\n"
     ]
    }
   ],
   "source": [
    "%%writefile empty.cpp\n",
    "#include iostream"
   ]
  },
  {
   "cell_type": "code",
   "execution_count": null,
   "metadata": {},
   "outputs": [],
   "source": []
  }
 ],
 "metadata": {
  "kernelspec": {
   "display_name": "Python 3",
   "language": "python",
   "name": "python3"
  },
  "language_info": {
   "codemirror_mode": {
    "name": "ipython",
    "version": 3
   },
   "file_extension": ".py",
   "mimetype": "text/x-python",
   "name": "python",
   "nbconvert_exporter": "python",
   "pygments_lexer": "ipython3",
   "version": "3.11.3"
  }
 },
 "nbformat": 4,
 "nbformat_minor": 2
}
