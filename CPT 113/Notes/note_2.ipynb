{
 "cells": [
  {
   "cell_type": "markdown",
   "metadata": {},
   "source": [
    "<h3><b>Recaps on Basic Pointer and Array Concepts</b></h3>"
   ]
  },
  {
   "cell_type": "code",
   "execution_count": 1,
   "metadata": {},
   "outputs": [
    {
     "name": "stdout",
     "output_type": "stream",
     "text": [
      "Overwriting pointer.cpp\n"
     ]
    }
   ],
   "source": [
    "%%writefile pointer.cpp\n",
    "\n",
    "#include <iostream>\n",
    "\n",
    "using namespace std;\n",
    "\n",
    "void pointerRecap();\n",
    "void arrayPointer();\n",
    "void shallowCopy();\n",
    "\n",
    "int main()\n",
    "{\n",
    "    pointerRecap();\n",
    "    arrayPointer();\n",
    "    shallowCopy();\n",
    "\n",
    "    return 0;\n",
    "}\n",
    "\n",
    "// Recap on how pointers work\n",
    "void pointerRecap()\n",
    "{\n",
    "    int x = 25;\n",
    "    int *ptr = nullptr;\n",
    "    cout << \"The address of x: \" << &x << endl;\n",
    "    cout << \"The value of x: \" << x << endl;\n",
    "    cout << \"The size of x: \" << sizeof(x) << endl;\n",
    "\n",
    "    ptr = &x;\n",
    "\n",
    "    cout << \"\\nThe address of x: \" << ptr << endl;\n",
    "    cout << \"The value of x: \" << *ptr << endl; // Dereferencing to print the value pointed by the pointer\n",
    "    cout << \"The size of x: \" << sizeof(ptr) << endl;\n",
    "}\n",
    "\n",
    "// Relationship between arrays and pointers\n",
    "// Brackets are necessary considering the precedences\n",
    "void arrayPointer()\n",
    "{\n",
    "    int arr[10] = {1, 2, 3};\n",
    "    cout << \"\\narr[0] (contains \" << arr[0] << \") is the same as *arr (contains \" << *arr << \").\\n\";\n",
    "    cout << \"arr[1] (contains \" << arr[1] << \") is the same as *(arr + 1) (contains \" << *(arr + 1) << \").\\n\";\n",
    "}\n",
    "\n",
    "// Shallow copy\n",
    "void shallowCopy()\n",
    "{\n",
    "    int *first = new int[5]; // Original array\n",
    "\n",
    "    for (int i = 0; i < 5; i++)\n",
    "    {\n",
    "        first[i] = i + 1;\n",
    "    }\n",
    "\n",
    "    cout << \"\\nThe original first element of first array is: \" << first[0] << endl;\n",
    "\n",
    "    int *copy = nullptr; // Copy array\n",
    "    copy = first;\n",
    "\n",
    "    delete [] copy;\n",
    "    copy = nullptr;\n",
    "\n",
    "    cout << \"After deleting the copy array, the first element of first array is: \" << first[0] << \" which is a random number in random location of the memory.\\n\";\n",
    "\n",
    "}"
   ]
  },
  {
   "cell_type": "code",
   "execution_count": 2,
   "metadata": {},
   "outputs": [
    {
     "name": "stdout",
     "output_type": "stream",
     "text": [
      "The address of x: 0x61ff08\n",
      "The value of x: 25\n",
      "The size of x: 4\n",
      "\n",
      "The address of x: 0x61ff08\n",
      "The value of x: 25\n",
      "The size of x: 4\n",
      "\n",
      "arr[0] (contains 1) is the same as *arr (contains 1).\n",
      "arr[1] (contains 2) is the same as *(arr + 1) (contains 2).\n",
      "\n",
      "The original first element of first array is: 1\n",
      "After deleting the copy array, the first element of first array is: 18256168 which is a random number in random location of the memory.\n"
     ]
    }
   ],
   "source": [
    "!g++ pointer.cpp -o pointer\n",
    "!.\\pointer"
   ]
  },
  {
   "cell_type": "markdown",
   "metadata": {},
   "source": [
    "<h3><b>Advanced Pointer and Array Concepts</b></h3>"
   ]
  },
  {
   "cell_type": "code",
   "execution_count": 8,
   "metadata": {},
   "outputs": [
    {
     "name": "stdout",
     "output_type": "stream",
     "text": [
      "Overwriting advancePointer.cpp\n"
     ]
    }
   ],
   "source": [
    "%%writefile advancePointer.cpp\n",
    "\n",
    "#include <iostream>\n",
    "\n",
    "using namespace std;\n",
    "\n",
    "void array2d();\n",
    "\n",
    "int main()\n",
    "{\n",
    "    array2d();\n",
    "\n",
    "    return 0;\n",
    "}\n",
    "\n",
    "void array2d()\n",
    "{\n",
    "    // Declaring a dynamic array of pointers aka dynamic 2D array\n",
    "    int *arr[5]; // The 2D array contains 5 rows\n",
    "\n",
    "    for (int i = 0; i < 5; i++)\n",
    "    {\n",
    "        arr[i] = new int[6]; // Each row has 6 columns\n",
    "    }\n",
    "\n",
    "    // Assigning value to each element\n",
    "\n",
    "    for (int j = 0; j < 5; j++)\n",
    "    {\n",
    "        for (int k = 0; k < 6; k++)\n",
    "        {\n",
    "            arr[j][k] = k + 1;\n",
    "        }\n",
    "    }\n",
    "\n",
    "    // Printing out the elements\n",
    "    for (int j = 0; j < 5; j++)\n",
    "    {\n",
    "        for (int k = 0; k < 6; k++)\n",
    "        {\n",
    "            cout << arr[j][k] << \" \";\n",
    "        }\n",
    "\n",
    "        cout << endl;\n",
    "    }\n",
    "\n",
    "    // Releasing the memory for dynamic array\n",
    "    for (int  a = 0; a < 5; a++)\n",
    "    {\n",
    "        delete [] arr[a];\n",
    "    }\n",
    "}"
   ]
  },
  {
   "cell_type": "code",
   "execution_count": 9,
   "metadata": {},
   "outputs": [
    {
     "name": "stdout",
     "output_type": "stream",
     "text": [
      "1 2 3 4 5 6 \n",
      "1 2 3 4 5 6 \n",
      "1 2 3 4 5 6 \n",
      "1 2 3 4 5 6 \n",
      "1 2 3 4 5 6 \n"
     ]
    }
   ],
   "source": [
    "!g++ advancePointer.cpp -o advPointer\n",
    "!.\\advPointer"
   ]
  },
  {
   "cell_type": "markdown",
   "metadata": {},
   "source": [
    "<h3><b>Using Double Pointers</b></h3>"
   ]
  },
  {
   "cell_type": "code",
   "execution_count": 10,
   "metadata": {},
   "outputs": [
    {
     "name": "stdout",
     "output_type": "stream",
     "text": [
      "Overwriting doublePtr.cpp\n"
     ]
    }
   ],
   "source": [
    "%%writefile doublePtr.cpp\n",
    "\n",
    "#include <iostream>\n",
    "\n",
    "using namespace std;\n",
    "\n",
    "void arr();\n",
    "\n",
    "int main()\n",
    "{\n",
    "    arr();\n",
    "\n",
    "    return 0;\n",
    "}\n",
    "\n",
    "void arr()\n",
    "{\n",
    "    int **array;\n",
    "    array = new int* [5]; // 5 rows\n",
    "\n",
    "    for (int i = 0; i < 5; i++)\n",
    "    {\n",
    "        array[i] = new int [6]; // Each row has 6 columns\n",
    "    }\n",
    "\n",
    "    // Assigning value to each element\n",
    "\n",
    "    for (int j = 0; j < 5; j++)\n",
    "    {\n",
    "        for (int k = 0; k < 6; k++)\n",
    "        {\n",
    "            array[j][k] = k + 1;\n",
    "        }\n",
    "    }\n",
    "\n",
    "    // Printing out the elements\n",
    "    for (int j = 0; j < 5; j++)\n",
    "    {\n",
    "        for (int k = 0; k < 6; k++)\n",
    "        {\n",
    "            cout << array[j][k] << \" \";\n",
    "        }\n",
    "\n",
    "        cout << endl;\n",
    "    }\n",
    "\n",
    "    // Releasing the memory\n",
    "    for (int i = 0; i < 5; i++)\n",
    "    {\n",
    "        delete [] array[i];\n",
    "    }\n",
    "\n",
    "    delete [] array;\n",
    "}"
   ]
  },
  {
   "cell_type": "code",
   "execution_count": 11,
   "metadata": {},
   "outputs": [
    {
     "name": "stdout",
     "output_type": "stream",
     "text": [
      "1 2 3 4 5 6 \n",
      "1 2 3 4 5 6 \n",
      "1 2 3 4 5 6 \n",
      "1 2 3 4 5 6 \n",
      "1 2 3 4 5 6 \n"
     ]
    }
   ],
   "source": [
    "!g++ doublePtr.cpp -o doublePtr\n",
    "!.\\doublePtr"
   ]
  },
  {
   "cell_type": "markdown",
   "metadata": {},
   "source": [
    "<h3><b>Pointer and Class</b></h3>"
   ]
  },
  {
   "cell_type": "code",
   "execution_count": 5,
   "metadata": {},
   "outputs": [
    {
     "name": "stdout",
     "output_type": "stream",
     "text": [
      "Overwriting pointerClass.cpp\n"
     ]
    }
   ],
   "source": [
    "%%writefile pointerClass.cpp\n",
    "\n",
    "#include <iostream>\n",
    "\n",
    "using namespace std;\n",
    "\n",
    "class Class\n",
    "{\n",
    "private:\n",
    "    int x;\n",
    "\n",
    "public:\n",
    "    Class(int x = 0) { this->x = x; }\n",
    "    ~Class() {}\n",
    "    void setX(const int &x) { this->x = x; }\n",
    "    void print() const { cout << \"x: \" << this->x; }\n",
    "};\n",
    "\n",
    "int main()\n",
    "{\n",
    "    Class *obj1;\n",
    "    Class oriObj;\n",
    "    obj1 = &oriObj;\n",
    "    obj1->setX(7);\n",
    "    obj1->print();\n",
    "\n",
    "    return 0;\n",
    "}"
   ]
  },
  {
   "cell_type": "code",
   "execution_count": 6,
   "metadata": {},
   "outputs": [
    {
     "name": "stdout",
     "output_type": "stream",
     "text": [
      "x: 7\n"
     ]
    }
   ],
   "source": [
    "!g++ pointerClass.cpp -o ptrClass\n",
    "!.\\ptrClass"
   ]
  },
  {
   "cell_type": "markdown",
   "metadata": {},
   "source": [
    "<h3><b>Templates for Classes</b></h3>"
   ]
  },
  {
   "cell_type": "code",
   "execution_count": 7,
   "metadata": {},
   "outputs": [
    {
     "name": "stdout",
     "output_type": "stream",
     "text": [
      "Overwriting classTemp.cpp\n"
     ]
    }
   ],
   "source": [
    "%%writefile classTemp.cpp\n",
    "\n",
    "#include <iostream>\n",
    "\n",
    "using namespace std;\n",
    "\n",
    "template <class T>\n",
    "class Grade\n",
    "{\n",
    "private:\n",
    "    T score;\n",
    "\n",
    "public:\n",
    "    // Constructors\n",
    "    Grade() {}\n",
    "    Grade(T);\n",
    "\n",
    "    void setGrade(T);\n",
    "    void getGrade() const;\n",
    "};\n",
    "\n",
    "int main()\n",
    "{\n",
    "    Grade<int> grade;\n",
    "    grade.setGrade(89);\n",
    "    grade.getGrade();\n",
    "\n",
    "    return 0;\n",
    "}\n",
    "\n",
    "template <class T>\n",
    "Grade<T>::Grade(T score)\n",
    "{\n",
    "    this->score = score;\n",
    "}\n",
    "\n",
    "template <class T>\n",
    "void Grade<T>::setGrade(T score)\n",
    "{\n",
    "    this->score = score;\n",
    "}\n",
    "\n",
    "template <class T>\n",
    "void Grade<T>::getGrade() const\n",
    "{\n",
    "    char grade;\n",
    "    bool validScore = true;\n",
    "    switch (this->score)\n",
    "    {\n",
    "        case 80 ... 100:\n",
    "            grade = 'A';\n",
    "            break;\n",
    "        \n",
    "        case 60 ... 79:\n",
    "            grade = 'B';\n",
    "            break;\n",
    "        \n",
    "        case 50 ... 59:\n",
    "            grade = 'C';\n",
    "            break;\n",
    "\n",
    "        case 40 ... 49:\n",
    "            grade = 'D';\n",
    "            break;\n",
    "\n",
    "        case 20 ... 39:\n",
    "            grade = 'E';\n",
    "            break;\n",
    "        \n",
    "        case 0 ... 19:\n",
    "            grade = 'F';\n",
    "            break;\n",
    "        \n",
    "        default:\n",
    "            cout << \"Invalid score!\";\n",
    "            validScore = false;\n",
    "    }\n",
    "\n",
    "    if (validScore)\n",
    "    {\n",
    "        cout << \"Grade: \" << grade;\n",
    "    }\n",
    "}"
   ]
  },
  {
   "cell_type": "code",
   "execution_count": 8,
   "metadata": {},
   "outputs": [
    {
     "name": "stdout",
     "output_type": "stream",
     "text": [
      "Grade: A\n"
     ]
    }
   ],
   "source": [
    "!g++ classTemp.cpp -o classTemp\n",
    "!.\\classTemp"
   ]
  },
  {
   "cell_type": "markdown",
   "metadata": {},
   "source": [
    "<h3><b>Class Templates and Inheritance (IMPORTANT!!)</b.</h3>"
   ]
  },
  {
   "cell_type": "code",
   "execution_count": 19,
   "metadata": {},
   "outputs": [
    {
     "name": "stdout",
     "output_type": "stream",
     "text": [
      "Overwriting tempInh.cpp\n"
     ]
    }
   ],
   "source": [
    "%%writefile tempInh.cpp\n",
    "\n",
    "#include <iostream>\n",
    "\n",
    "using namespace std;\n",
    "\n",
    "template <class T>\n",
    "class Polygon\n",
    "{\n",
    "protected:\n",
    "    T length;\n",
    "\n",
    "public:\n",
    "    Polygon() {}\n",
    "    ~Polygon() {}\n",
    "    void setLength(T);\n",
    "    void getLength() const;\n",
    "};\n",
    "\n",
    "template <class T>\n",
    "class Pentagon : public Polygon<T>\n",
    "{\n",
    "public:\n",
    "    Pentagon() {}\n",
    "    ~Pentagon() {}\n",
    "    void getPerimeter() const;\n",
    "};\n",
    "\n",
    "int main()\n",
    "{\n",
    "    Pentagon<int> pen;\n",
    "    pen.setLength(10);\n",
    "    pen.getLength();\n",
    "    pen.getPerimeter();\n",
    "\n",
    "    return 0;\n",
    "}\n",
    "\n",
    "template <class T>\n",
    "void Polygon<T>::setLength(T length)\n",
    "{\n",
    "    this->length = length;\n",
    "}\n",
    "\n",
    "template <class T>\n",
    "void Polygon<T>::getLength() const\n",
    "{\n",
    "    cout << \"Length of the sides of polygon: \" << length << endl;\n",
    "}\n",
    "\n",
    "// The this pointer is needed to access to protected member in base class due to the way that c++ handles templates and inheritance\n",
    "template <class T>\n",
    "void Pentagon<T>::getPerimeter() const\n",
    "{\n",
    "    cout << \"Perimeter of the pentagon: \" << 5 * this->length;\n",
    "}"
   ]
  },
  {
   "cell_type": "code",
   "execution_count": 20,
   "metadata": {},
   "outputs": [
    {
     "name": "stdout",
     "output_type": "stream",
     "text": [
      "Length of the sides of polygon: 10\n",
      "Perimeter of the pentagon: 50\n"
     ]
    }
   ],
   "source": [
    "!g++ tempInh.cpp -o tempInh\n",
    "!.\\tempInh"
   ]
  },
  {
   "cell_type": "markdown",
   "metadata": {},
   "source": [
    "<h2><b>Important Linked List Notes</b></h2>\n",
    "<h3><u>Standard Linked List</u></h3>\n",
    "\n",
    "```\n",
    "- Only has *next in ListNode, initialisation of *head only.\n",
    "\n",
    "- Append: Only has *nodePtr and *newNode. If !head then head = newNode, else while nodePtr->next till the end of the list then append.\n",
    "\n",
    "- Insert: Only has *nodePtr, *prevNode and *newNode. If !head then head = newNode, else while nodePtr != nullptr and nodePtr->val < val. After exiting loop, insert backward.\n",
    "\n",
    "- Delete: Only has *nodePtr and *prevNode. if !head then return, else if head->val == val then nodePtr = head->next, delete head, head = nodePtr, else while nodePtr != nullptr and nodePtr->val != val traverse. After traversing, prevNode->next = nodePtr->next and delete nodePtr.\n",
    "\n",
    "- Destruct: Only has *nodePtr and *nextNode. If !head then return, else set nodePtr = head, nextNode = nodePtr->next, delete nodePtr and nodePtr = nextNode.\n",
    "```\n",
    "\n",
    "<h3><u>Doubly Linked List</u></h3>\n",
    "\n",
    "```\n",
    "- Only has *next and *back in ListNode, initialisation of *head and *tail only.\n",
    "\n",
    "- Append: Traversing is not required, just point nodePtr to tail and append.\n",
    "\n",
    "- Insert: *prevNode is not required. Use nodePtr->back->next = newNode, newNode->back = nodePtr->back, newNode->next = nodePtr, and nodePtr->back = newNode.\n",
    "\n",
    "- Delete: *prevNode is not required. Use nodePtr->back->next = nodePtr->next, nodePtr->next->back = nodePtr->back and delete nodePtr.\n",
    "\n",
    "- Destruct: Similar to standard linked list.\n",
    "```"
   ]
  },
  {
   "cell_type": "markdown",
   "metadata": {},
   "source": [
    "<h3><b>Standard Linked List</b></h3>"
   ]
  },
  {
   "cell_type": "code",
   "execution_count": 5,
   "metadata": {},
   "outputs": [
    {
     "name": "stdout",
     "output_type": "stream",
     "text": [
      "Overwriting standardll.cpp\n"
     ]
    }
   ],
   "source": [
    "%%writefile standardll.cpp\n",
    "#include <iostream>\n",
    "\n",
    "using namespace std;\n",
    "\n",
    "class LinkedList\n",
    "{\n",
    "private:\n",
    "    struct ListNode\n",
    "    {\n",
    "        int val;\n",
    "        ListNode *next;\n",
    "    };\n",
    "\n",
    "    ListNode *head;\n",
    "\n",
    "public:\n",
    "    LinkedList();\n",
    "    ~LinkedList();\n",
    "    void append(int);\n",
    "    void insert(int);\n",
    "    void dlt(int);\n",
    "    void display() const;\n",
    "};\n",
    "\n",
    "int main()\n",
    "{\n",
    "    LinkedList list;\n",
    "    \n",
    "    for (int i = 0; i < 10; i++)\n",
    "    {\n",
    "        list.append(i);\n",
    "    }\n",
    "\n",
    "    list.display();\n",
    "    cout << endl;\n",
    "    list.dlt(3);\n",
    "    list.dlt(5);\n",
    "    list.display();\n",
    "    cout << endl;\n",
    "    list.insert(5);\n",
    "    list.display();\n",
    "\n",
    "    return 0;\n",
    "}\n",
    "\n",
    "// Constructor\n",
    "LinkedList::LinkedList()\n",
    "{\n",
    "    head = nullptr;\n",
    "}\n",
    "\n",
    "// Display\n",
    "void LinkedList::display() const\n",
    "{\n",
    "    ListNode *nodePtr;\n",
    "\n",
    "    if (!head) { cout << \"The list is empty.\\n\"; }\n",
    "    else\n",
    "    {\n",
    "        nodePtr = head;\n",
    "\n",
    "        while (nodePtr != nullptr)\n",
    "        {\n",
    "            cout << nodePtr->val << \" \";\n",
    "            nodePtr = nodePtr->next;\n",
    "        }\n",
    "    }\n",
    "}\n",
    "\n",
    "// Append\n",
    "void LinkedList::append(int val)\n",
    "{\n",
    "    ListNode *nodePtr;\n",
    "    ListNode *newNode;\n",
    "    newNode = new ListNode;\n",
    "    newNode->val = val;\n",
    "    newNode->next = nullptr;\n",
    "\n",
    "    if (!head)\n",
    "    {\n",
    "        head = newNode;\n",
    "    }\n",
    "\n",
    "    else\n",
    "    {\n",
    "        nodePtr = head;\n",
    "        \n",
    "        while (nodePtr->next != nullptr)\n",
    "        {\n",
    "            nodePtr = nodePtr->next;\n",
    "        }\n",
    "\n",
    "        nodePtr->next = newNode;\n",
    "    }\n",
    "}\n",
    "\n",
    "// Insert\n",
    "void LinkedList::insert(int val)\n",
    "{\n",
    "    ListNode *nodePtr;\n",
    "    ListNode *prevNode;\n",
    "    ListNode *newNode;\n",
    "    newNode = new ListNode;\n",
    "    newNode->val = val;\n",
    "    newNode->next = nullptr;\n",
    "\n",
    "    if (!head)\n",
    "    {\n",
    "        head = newNode;\n",
    "    }\n",
    "\n",
    "    else\n",
    "    {\n",
    "        nodePtr = head;\n",
    "        prevNode = nullptr;\n",
    "\n",
    "        while (nodePtr != nullptr && nodePtr->val < val)\n",
    "        {\n",
    "            prevNode = nodePtr;\n",
    "            nodePtr = nodePtr->next;\n",
    "        }\n",
    "\n",
    "        if (prevNode == nullptr)\n",
    "        {\n",
    "            head = newNode;\n",
    "            newNode->next = nodePtr;\n",
    "        }\n",
    "        else\n",
    "        {\n",
    "            prevNode->next = newNode;\n",
    "            newNode->next = nodePtr;\n",
    "        }\n",
    "    }\n",
    "}\n",
    "\n",
    "// Delete node\n",
    "void LinkedList::dlt(int val)\n",
    "{\n",
    "    ListNode *nodePtr;\n",
    "    ListNode *prevNode;\n",
    "\n",
    "    if (!head) { return; }\n",
    "    else\n",
    "    {\n",
    "        nodePtr = head;\n",
    "        prevNode = nullptr;\n",
    "\n",
    "        while (nodePtr != nullptr && nodePtr->val != val)\n",
    "        {\n",
    "            prevNode = nodePtr;\n",
    "            nodePtr = nodePtr->next;\n",
    "        }\n",
    "\n",
    "        if (prevNode == nullptr)\n",
    "        {\n",
    "            nodePtr = nodePtr->next;\n",
    "            delete head;\n",
    "            head = nodePtr;\n",
    "        }\n",
    "        else\n",
    "        {\n",
    "            prevNode->next = nodePtr->next;\n",
    "            delete nodePtr;\n",
    "        }\n",
    "    }\n",
    "}\n",
    "\n",
    "// Destructor\n",
    "LinkedList::~LinkedList()\n",
    "{\n",
    "    ListNode *nodePtr;\n",
    "    ListNode *nextNode;\n",
    "    nodePtr = head;\n",
    "\n",
    "    while (nodePtr != nullptr)\n",
    "    {\n",
    "        nextNode = nodePtr->next;\n",
    "        delete nodePtr;\n",
    "        nodePtr = nextNode;\n",
    "    }\n",
    "}"
   ]
  },
  {
   "cell_type": "code",
   "execution_count": 6,
   "metadata": {},
   "outputs": [
    {
     "name": "stdout",
     "output_type": "stream",
     "text": [
      "0 1 2 3 4 5 6 7 8 9 \n",
      "0 1 2 4 6 7 8 9 \n",
      "0 1 2 4 5 6 7 8 9 \n"
     ]
    }
   ],
   "source": [
    "!g++ standardll.cpp -o standardll\n",
    "!.\\standardll"
   ]
  },
  {
   "cell_type": "markdown",
   "metadata": {},
   "source": [
    "<h3><b>Exception Handling</b></h3>"
   ]
  },
  {
   "cell_type": "code",
   "execution_count": 47,
   "metadata": {},
   "outputs": [
    {
     "name": "stdout",
     "output_type": "stream",
     "text": [
      "Overwriting exception.cpp\n"
     ]
    }
   ],
   "source": [
    "%%writefile exception.cpp\n",
    "\n",
    "#include <iostream>\n",
    "#include <string>\n",
    "\n",
    "using namespace std;\n",
    "\n",
    "template <class T>\n",
    "double division(T, T);\n",
    "\n",
    "int main()\n",
    "{\n",
    "    try\n",
    "    {\n",
    "        double result = division<int>(8, 0);\n",
    "        cout << result << endl;\n",
    "    }\n",
    "    catch (string exception)\n",
    "    {\n",
    "        cout << exception << endl;\n",
    "    }\n",
    "\n",
    "    return 0;\n",
    "}\n",
    "\n",
    "template <class T>\n",
    "double division(T val1, T val2)\n",
    "{\n",
    "    if (val2 == 0)\n",
    "    {\n",
    "        string error = \"Error! Division by zero.\\n\";\n",
    "        throw error;\n",
    "    }\n",
    "\n",
    "    return static_cast<double>(val1) / val2;\n",
    "}"
   ]
  },
  {
   "cell_type": "code",
   "execution_count": 48,
   "metadata": {},
   "outputs": [
    {
     "name": "stdout",
     "output_type": "stream",
     "text": [
      "Error! Division by zero.\n",
      "\n"
     ]
    }
   ],
   "source": [
    "!g++ exception.cpp -o exception\n",
    "!.\\exception"
   ]
  },
  {
   "cell_type": "markdown",
   "metadata": {},
   "source": [
    "<h3><b>Exception Handling in Classes</b></h3>"
   ]
  },
  {
   "cell_type": "code",
   "execution_count": 57,
   "metadata": {},
   "outputs": [
    {
     "name": "stdout",
     "output_type": "stream",
     "text": [
      "Overwriting classError.cpp\n"
     ]
    }
   ],
   "source": [
    "%%writefile classError.cpp\n",
    "\n",
    "#include <iostream>\n",
    "\n",
    "using namespace std;\n",
    "\n",
    "class Class\n",
    "{\n",
    "private:\n",
    "    int val;\n",
    "\n",
    "public:\n",
    "    Class() {}\n",
    "    ~Class() {}\n",
    "    class divisionByZero {};\n",
    "    double division(double, double);\n",
    "};\n",
    "\n",
    "int main()\n",
    "{\n",
    "    double result;\n",
    "    Class div;\n",
    "    try\n",
    "    {\n",
    "    result = div.division(3, 0);\n",
    "    cout << result;\n",
    "    }\n",
    "    catch(Class::divisionByZero)\n",
    "    {\n",
    "        cout << \"Error! Divison by zero.\\n\";\n",
    "    }\n",
    "\n",
    "    return 0;\n",
    "}\n",
    "\n",
    "double Class::division(double val1, double val2)\n",
    "{\n",
    "    if (val2 == 0)\n",
    "    {\n",
    "        throw divisionByZero();\n",
    "    }\n",
    "\n",
    "    return val1 / val2;\n",
    "}"
   ]
  },
  {
   "cell_type": "code",
   "execution_count": 58,
   "metadata": {},
   "outputs": [
    {
     "name": "stdout",
     "output_type": "stream",
     "text": [
      "Error! Divison by zero.\n"
     ]
    }
   ],
   "source": [
    "!g++ classError.cpp -o classError\n",
    "!.\\classError"
   ]
  },
  {
   "cell_type": "markdown",
   "metadata": {},
   "source": [
    "<h3><b>Recursion: Character Finder</b></h3>"
   ]
  },
  {
   "cell_type": "code",
   "execution_count": 18,
   "metadata": {},
   "outputs": [
    {
     "name": "stdout",
     "output_type": "stream",
     "text": [
      "Overwriting charFinder.cpp\n"
     ]
    }
   ],
   "source": [
    "%%writefile charFinder.cpp\n",
    "\n",
    "#include <iostream>\n",
    "#include <string>\n",
    "\n",
    "using namespace std;\n",
    "\n",
    "int numChars(char search, string str, int subscript)\n",
    "{\n",
    "    if (subscript >= str.length()) \n",
    "    {\n",
    "        return 0;\n",
    "    }\n",
    "    else if (str[subscript] == search)\n",
    "    {\n",
    "        return 1 + numChars(search, str, subscript + 1);\n",
    "    }\n",
    "    else\n",
    "    {\n",
    "        return numChars(search, str, subscript + 1);\n",
    "    }\n",
    "}\n",
    "\n",
    "\n",
    "int main()\n",
    "{\n",
    "    cout << numChars('p', \"apple\", 2);\n",
    "\n",
    "    return 0;\n",
    "}"
   ]
  },
  {
   "cell_type": "code",
   "execution_count": 19,
   "metadata": {},
   "outputs": [
    {
     "name": "stdout",
     "output_type": "stream",
     "text": [
      "1\n"
     ]
    }
   ],
   "source": [
    "!g++ charFinder.cpp -o charFinder\n",
    "!.\\charFinder"
   ]
  },
  {
   "cell_type": "code",
   "execution_count": 30,
   "metadata": {},
   "outputs": [
    {
     "name": "stdout",
     "output_type": "stream",
     "text": [
      "Overwriting arrayTest.cpp\n"
     ]
    }
   ],
   "source": [
    "%%writefile arrayTest.cpp\n",
    "\n",
    "#include <iostream>\n",
    "\n",
    "using namespace std;\n",
    "\n",
    "void arrayPass(int *arr)\n",
    "{\n",
    "    cout << \"Array passed.\\n\";\n",
    "}\n",
    "\n",
    "int main()\n",
    "{\n",
    "    int arr[3] = {1, 2, 3};\n",
    "    arrayPass(arr);\n",
    "\n",
    "    return 0;\n",
    "}"
   ]
  },
  {
   "cell_type": "code",
   "execution_count": 31,
   "metadata": {},
   "outputs": [
    {
     "name": "stdout",
     "output_type": "stream",
     "text": [
      "Array passed.\n"
     ]
    }
   ],
   "source": [
    "!g++ arrayTest.cpp -o arrayTest\n",
    "!.\\arrayTest"
   ]
  },
  {
   "cell_type": "markdown",
   "metadata": {},
   "source": [
    "<h3><b>Templates Cont.</b></h3>"
   ]
  },
  {
   "cell_type": "code",
   "execution_count": 32,
   "metadata": {},
   "outputs": [
    {
     "name": "stdout",
     "output_type": "stream",
     "text": [
      "Writing templateCont.cpp\n"
     ]
    }
   ],
   "source": [
    "%%writefile templateCont.cpp\n",
    "\n",
    "#include <iostream>\n",
    "\n",
    "using namespace std;\n",
    "\n",
    "template <typename T1, typename T2>\n",
    "T1 add(T1 num1, T2 num2)\n",
    "{\n",
    "    return (num1 + num2);\n",
    "}\n",
    "\n",
    "\n",
    "int main()\n",
    "{\n",
    "    cout << add<int, int>(1, 2);\n",
    "\n",
    "    return 0;\n",
    "}"
   ]
  },
  {
   "cell_type": "code",
   "execution_count": 33,
   "metadata": {},
   "outputs": [
    {
     "name": "stdout",
     "output_type": "stream",
     "text": [
      "3\n"
     ]
    }
   ],
   "source": [
    "!g++ templateCont.cpp -o templateCont\n",
    "!.\\templateCont"
   ]
  },
  {
   "cell_type": "markdown",
   "metadata": {},
   "source": [
    "<h3><b>Recall: Structures</b></h3>"
   ]
  },
  {
   "cell_type": "code",
   "execution_count": 3,
   "metadata": {},
   "outputs": [
    {
     "name": "stdout",
     "output_type": "stream",
     "text": [
      "Overwriting struct.cpp\n"
     ]
    }
   ],
   "source": [
    "%%writefile struct.cpp\n",
    "\n",
    "#include <iostream>\n",
    "\n",
    "using namespace std;\n",
    "\n",
    "struct Struct\n",
    "{\n",
    "    int *p = nullptr;\n",
    "};\n",
    "\n",
    "void print(const Struct *str)\n",
    "{\n",
    "    cout << *str->p;\n",
    "}\n",
    "\n",
    "int main()\n",
    "{\n",
    "    Struct str;\n",
    "    int x = 3;\n",
    "    str.p = &x;\n",
    "    print(&str);\n",
    "\n",
    "    return 0;\n",
    "}"
   ]
  },
  {
   "cell_type": "code",
   "execution_count": 4,
   "metadata": {},
   "outputs": [
    {
     "name": "stdout",
     "output_type": "stream",
     "text": [
      "3\n"
     ]
    }
   ],
   "source": [
    "!g++ struct.cpp -o struct\n",
    "!.\\struct"
   ]
  }
 ],
 "metadata": {
  "kernelspec": {
   "display_name": "Python 3",
   "language": "python",
   "name": "python3"
  },
  "language_info": {
   "codemirror_mode": {
    "name": "ipython",
    "version": 3
   },
   "file_extension": ".py",
   "mimetype": "text/x-python",
   "name": "python",
   "nbconvert_exporter": "python",
   "pygments_lexer": "ipython3",
   "version": "3.11.3"
  }
 },
 "nbformat": 4,
 "nbformat_minor": 2
}
