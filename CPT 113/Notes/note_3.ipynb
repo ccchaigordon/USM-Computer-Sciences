{
 "cells": [
  {
   "cell_type": "markdown",
   "metadata": {},
   "source": [
    "<h3><b>Template for Functions</b></h3>"
   ]
  },
  {
   "cell_type": "code",
   "execution_count": 25,
   "metadata": {},
   "outputs": [
    {
     "name": "stdout",
     "output_type": "stream",
     "text": [
      "Overwriting template.cpp\n"
     ]
    }
   ],
   "source": [
    "%%writefile template.cpp\n",
    "#include <iostream>\n",
    "\n",
    "using namespace std;\n",
    "\n",
    "template <class T>\n",
    "void Swap(T &, T &);\n",
    "\n",
    "template <class T1, class T2>\n",
    "void type(const T1 &, const T2 &);\n",
    "\n",
    "int main()\n",
    "{\n",
    "    int num1 = 3, num2 = 5;\n",
    "    double num3 = 1.5;\n",
    "    cout << \"Initially, num1 = \" << num1 << \", num2 = \" << num2 << \".\\n\";\n",
    "    // Swap<datatype>() is not compulsory for functions\n",
    "    Swap(num1, num2);\n",
    "    cout << \"After swaping, num1 = \" << num1 << \", num2 = \" << num2 << \".\\n\\n\";\n",
    "    type(num1, num2);\n",
    "    type(num1, num3);\n",
    "\n",
    "    return 0;\n",
    "}\n",
    "\n",
    "template <class T>\n",
    "void Swap(T &val1, T &val2)\n",
    "{\n",
    "    T temp;\n",
    "    temp = val1;\n",
    "    val1 = val2;\n",
    "    val2 = temp;\n",
    "}\n",
    "\n",
    "template <class T1, class T2>\n",
    "void type(const T1 &val1, const T2 &val2)\n",
    "{\n",
    "    cout << \"val1 has size of \" << sizeof(val1) << \" bytes.\\n\";\n",
    "    cout << \"val2 has size of \" << sizeof(val2) << \" bytes.\\n\\n\";\n",
    "}"
   ]
  },
  {
   "cell_type": "code",
   "execution_count": 26,
   "metadata": {},
   "outputs": [
    {
     "name": "stdout",
     "output_type": "stream",
     "text": [
      "Initially, num1 = 3, num2 = 5.\n",
      "After swaping, num1 = 5, num2 = 3.\n",
      "\n",
      "val1 has size of 4 bytes.\n",
      "val2 has size of 4 bytes.\n",
      "\n",
      "val1 has size of 4 bytes.\n",
      "val2 has size of 8 bytes.\n",
      "\n"
     ]
    }
   ],
   "source": [
    "!g++ template.cpp -o template\n",
    "!.\\template"
   ]
  },
  {
   "cell_type": "markdown",
   "metadata": {},
   "source": [
    "<h3><b>Template for Classes</b></h3>"
   ]
  },
  {
   "cell_type": "code",
   "execution_count": 39,
   "metadata": {},
   "outputs": [
    {
     "name": "stdout",
     "output_type": "stream",
     "text": [
      "Overwriting tempClass.cpp\n"
     ]
    }
   ],
   "source": [
    "%%writefile tempClass.cpp\n",
    "#include <iostream>\n",
    "\n",
    "using namespace std;\n",
    "\n",
    "template <class T>\n",
    "class Class\n",
    "{\n",
    "private:\n",
    "    T *val;\n",
    "\n",
    "public:\n",
    "    Class() { val = new T; }\n",
    "    ~Class() { delete val; val = nullptr; }\n",
    "    void setVal(const T &);\n",
    "    void print() const;\n",
    "};\n",
    "\n",
    "int main()\n",
    "{\n",
    "    Class<int> A;\n",
    "    A.setVal(5);\n",
    "    A.print();\n",
    "\n",
    "    return 0;\n",
    "}\n",
    "\n",
    "template <class T>\n",
    "void Class<T>::setVal(const T &val)\n",
    "{\n",
    "    *(this->val) = val;\n",
    "}\n",
    "\n",
    "template <class T>\n",
    "void Class<T>::print() const\n",
    "{\n",
    "    cout << \"The value inside Class A is \" << *val << \".\\n\";\n",
    "}"
   ]
  },
  {
   "cell_type": "code",
   "execution_count": 40,
   "metadata": {},
   "outputs": [
    {
     "name": "stdout",
     "output_type": "stream",
     "text": [
      "The value inside Class A is 5.\n"
     ]
    }
   ],
   "source": [
    "!g++ tempClass.cpp -o tempClass\n",
    "!.\\tempClass"
   ]
  },
  {
   "cell_type": "markdown",
   "metadata": {},
   "source": [
    "<h3><b>Template in Class Inheritance</b></h3>"
   ]
  },
  {
   "cell_type": "code",
   "execution_count": 1,
   "metadata": {},
   "outputs": [
    {
     "name": "stdout",
     "output_type": "stream",
     "text": [
      "Overwriting tempClassInh.cpp\n"
     ]
    }
   ],
   "source": [
    "%%writefile tempClassInh.cpp\n",
    "#include <iostream>\n",
    "\n",
    "using namespace std;\n",
    "\n",
    "template <class T>\n",
    "class Class\n",
    "{\n",
    "private:\n",
    "    T *val;\n",
    "\n",
    "public:\n",
    "    Class() { val = new T; }\n",
    "    ~Class() { delete val; val = nullptr; }\n",
    "    void setVal(const T &);\n",
    "    void display() const;\n",
    "};\n",
    "\n",
    "template <class T>\n",
    "class Derived : public Class<T>\n",
    "{\n",
    "public:\n",
    "    void set(const T &);\n",
    "    void print() const;\n",
    "};\n",
    "\n",
    "int main()\n",
    "{\n",
    "    Derived<int> A;\n",
    "    A.set(5);\n",
    "    A.print();\n",
    "\n",
    "    return 0;\n",
    "}\n",
    "\n",
    "template <class T>\n",
    "void Class<T>::setVal(const T &value)\n",
    "{\n",
    "    *val = value;\n",
    "}\n",
    "\n",
    "template <class T>\n",
    "void Class<T>::display() const\n",
    "{\n",
    "    cout << \"The value inside Class A is \" << *val << \".\\n\";\n",
    "}\n",
    "\n",
    "template <class T>\n",
    "void Derived<T>::set(const T &val)\n",
    "{\n",
    "    this->setVal(val);\n",
    "}\n",
    "\n",
    "template <class T>\n",
    "void Derived<T>::print() const\n",
    "{\n",
    "    this->display();\n",
    "}"
   ]
  },
  {
   "cell_type": "code",
   "execution_count": 2,
   "metadata": {},
   "outputs": [
    {
     "name": "stderr",
     "output_type": "stream",
     "text": [
      "'.\\tempClassInh' is not recognized as an internal or external command,\n",
      "operable program or batch file.\n"
     ]
    }
   ],
   "source": [
    "!g++ tempClassInh.cpp -o tempClassInj\n",
    "!.\\tempClassInh"
   ]
  },
  {
   "cell_type": "markdown",
   "metadata": {},
   "source": [
    "<h2><b>Tutorials Revision</b.</h2>"
   ]
  },
  {
   "cell_type": "code",
   "execution_count": 15,
   "metadata": {},
   "outputs": [
    {
     "name": "stdout",
     "output_type": "stream",
     "text": [
      "Overwriting inh1.cpp\n"
     ]
    }
   ],
   "source": [
    "%%writefile inh1.cpp\n",
    "#include <iostream>\n",
    "\n",
    "using namespace std;\n",
    "\n",
    "class Shape\n",
    "{\n",
    "private:\n",
    "    double length, height, width;\n",
    "\n",
    "public:\n",
    "    Shape();\n",
    "    Shape(double, double, double);\n",
    "    ~Shape() {}\n",
    "    void print() const;\n",
    "    void setVal(double, double, double);\n",
    "    void getHW(double &, double &);\n",
    "};\n",
    "\n",
    "class Prism : public Shape\n",
    "{\n",
    "private:\n",
    "    double volume;\n",
    "\n",
    "public:\n",
    "    using Shape::Shape; // \"using\" keyword allows inheritance of constructors except default, copy, and move constructors\n",
    "    void printP();\n",
    "    void setDimension(double, double, double);\n",
    "    double calcVol();\n",
    "};\n",
    "\n",
    "int main()\n",
    "{\n",
    "    Prism p(2, 1, 2);\n",
    "    p.printP();\n",
    "\n",
    "    return 0;\n",
    "}\n",
    "\n",
    "// Shape Class\n",
    "// Constructors\n",
    "Shape::Shape() : Shape(0, 0, 0) {} // Using contructor delegation\n",
    "Shape::Shape(double l, double h, double w) : length(l), height(h), width(w) {}\n",
    "\n",
    "// Methods\n",
    "void Shape::print() const\n",
    "{\n",
    "    cout << \"Length: \" << length << \", width: \" << width << \", height: \" << height << endl;\n",
    "}\n",
    "\n",
    "void Shape::setVal(double l, double w, double h)\n",
    "{\n",
    "    length = l;\n",
    "    width = w;\n",
    "    height = h;\n",
    "}\n",
    "\n",
    "void Shape::getHW(double &h, double &w)\n",
    "{\n",
    "    h = height;\n",
    "    w = width;\n",
    "}\n",
    "\n",
    "// Prism Class\n",
    "// Methods\n",
    "void Prism::printP()\n",
    "{\n",
    "    print();\n",
    "    cout << \"Volume: \" << calcVol() << endl;\n",
    "}\n",
    "\n",
    "void Prism::setDimension(double l, double w, double h)\n",
    "{\n",
    "    setVal(l, w, h);\n",
    "}\n",
    "\n",
    "double Prism::calcVol()\n",
    "{\n",
    "    double h, w;\n",
    "    getHW(h, w);\n",
    "    return h * w * w;\n",
    "}"
   ]
  },
  {
   "cell_type": "code",
   "execution_count": 16,
   "metadata": {},
   "outputs": [
    {
     "name": "stdout",
     "output_type": "stream",
     "text": [
      "Length: 2, width: 2, height: 1\n",
      "Volume: 4\n"
     ]
    }
   ],
   "source": [
    "!g++ inh1.cpp -o inh1\n",
    "!.\\inh1"
   ]
  },
  {
   "cell_type": "code",
   "execution_count": 21,
   "metadata": {},
   "outputs": [
    {
     "name": "stdout",
     "output_type": "stream",
     "text": [
      "Overwriting structPriTest.cpp\n"
     ]
    }
   ],
   "source": [
    "%%writefile structPriTest.cpp\n",
    "#include <iostream>\n",
    "\n",
    "using namespace std;\n",
    "\n",
    "struct Test\n",
    "{\n",
    "private:\n",
    "    int x = 5;\n",
    "\n",
    "public:\n",
    "    int getX() const { return x; }\n",
    "};\n",
    "\n",
    "int main()\n",
    "{\n",
    "    Test t;\n",
    "    cout << t.getX();\n",
    "\n",
    "    return 0;\n",
    "}"
   ]
  },
  {
   "cell_type": "code",
   "execution_count": 22,
   "metadata": {},
   "outputs": [
    {
     "name": "stdout",
     "output_type": "stream",
     "text": [
      "5\n"
     ]
    }
   ],
   "source": [
    "!g++ structPriTest.cpp -o struct\n",
    "!.\\struct"
   ]
  },
  {
   "cell_type": "code",
   "execution_count": 28,
   "metadata": {},
   "outputs": [
    {
     "name": "stdout",
     "output_type": "stream",
     "text": [
      "Overwriting p2018q2a.cpp\n"
     ]
    }
   ],
   "source": [
    "%%writefile p2018q2a.cpp\n",
    "#include <iostream>\n",
    "using namespace std;\n",
    "int main ()\n",
    "{\n",
    "    int firstvalue = 10, secondvalue = 20, thirdvalue =30, fourthvalue= 40;\n",
    "    int *p1, *p2, *p3, *p4;\n",
    "    p1 = &firstvalue;\n",
    "    p2 = &secondvalue;\n",
    "    p3 = &thirdvalue;\n",
    "    p4 = &fourthvalue;\n",
    "    *p1 = 50;\n",
    "    *p2 = *p1;\n",
    "    p1 = p2;\n",
    "    *p1 = 60;\n",
    "    *p3 = 70;\n",
    "\n",
    "    cout << \"firstvalue is \" << firstvalue << '\\n';\n",
    "    cout << \"secondvalue is \" << secondvalue << '\\n';\n",
    "    cout << \"thirdvalue is \" << thirdvalue << '\\n';\n",
    "    cout << \"value of *p2 is \" << *p2 << '\\n';\n",
    "    cout << \"value of *p4 is \" << *p4 << '\\n';\n",
    "    return 0;\n",
    "}"
   ]
  },
  {
   "cell_type": "code",
   "execution_count": 29,
   "metadata": {},
   "outputs": [
    {
     "name": "stdout",
     "output_type": "stream",
     "text": [
      "firstvalue is 50\n",
      "secondvalue is 60\n",
      "thirdvalue is 70\n",
      "value of *p2 is 60\n",
      "value of *p4 is 40\n"
     ]
    }
   ],
   "source": [
    "!g++ p2018q2a.cpp -o ques\n",
    "!.\\ques"
   ]
  },
  {
   "cell_type": "code",
   "execution_count": 40,
   "metadata": {},
   "outputs": [
    {
     "name": "stdout",
     "output_type": "stream",
     "text": [
      "Overwriting p2018q2b.cpp\n"
     ]
    }
   ],
   "source": [
    "%%writefile p2018q2b.cpp\n",
    "#include <iostream>\n",
    "\n",
    "using namespace std;\n",
    "\n",
    "int main()\n",
    "{\n",
    "    int **arr;\n",
    "    \n",
    "    arr = new int *[4];\n",
    "\n",
    "    for (int i = 0; i < 4; i++)\n",
    "    {\n",
    "        arr[i] = new int[5];\n",
    "    }\n",
    "\n",
    "    for (int j = 0; j < 4; j++)\n",
    "    {\n",
    "        for (int k = 0; k < 5; k++)\n",
    "        {\n",
    "            arr[j][k] = j + k + 2;\n",
    "        }\n",
    "    }\n",
    "\n",
    "    // Printing\n",
    "    for (int j = 0; j < 4; j++)\n",
    "    {\n",
    "        for (int k = 0; k < 5; k++)\n",
    "        {\n",
    "            cout << arr[j][k] << ' ';\n",
    "        }\n",
    "        cout << endl;\n",
    "    }\n",
    "\n",
    "    // Releasing the dynamically allocated memory\n",
    "    for (int i = 0; i < 4; i++)\n",
    "    {\n",
    "        delete [] arr[i];\n",
    "    }\n",
    "\n",
    "    delete [] arr;\n",
    "\n",
    "    return 0;\n",
    "}"
   ]
  },
  {
   "cell_type": "code",
   "execution_count": 41,
   "metadata": {},
   "outputs": [
    {
     "name": "stdout",
     "output_type": "stream",
     "text": [
      "2 3 4 5 6 \n",
      "3 4 5 6 7 \n",
      "4 5 6 7 8 \n",
      "5 6 7 8 9 \n"
     ]
    }
   ],
   "source": [
    "!g++ p2018q2b.cpp -o ques\n",
    "!.\\ques"
   ]
  },
  {
   "cell_type": "code",
   "execution_count": 55,
   "metadata": {},
   "outputs": [
    {
     "name": "stdout",
     "output_type": "stream",
     "text": [
      "Overwriting palindrome.cpp\n"
     ]
    }
   ],
   "source": [
    "%%writefile palindrome.cpp\n",
    "#include <iostream>\n",
    "#include <string>\n",
    "\n",
    "using namespace std;\n",
    "\n",
    "class Stack\n",
    "{\n",
    "private:\n",
    "    struct StackNode\n",
    "    {\n",
    "        StackNode *next;\n",
    "        char ch;\n",
    "    };\n",
    "\n",
    "    StackNode *top;\n",
    "\n",
    "public:\n",
    "    Stack() { top = nullptr; }\n",
    "    ~Stack();\n",
    "    void push(char);\n",
    "    void pop(char &);\n",
    "    bool isEmpty();\n",
    "};\n",
    "\n",
    "class Queue\n",
    "{\n",
    "private:\n",
    "    struct QueueNode\n",
    "    {\n",
    "        QueueNode *next;\n",
    "        char ch;\n",
    "    };\n",
    "\n",
    "    QueueNode *front;\n",
    "    QueueNode *rear;\n",
    "    int numItem;\n",
    "\n",
    "public:\n",
    "    Queue() { front = nullptr; rear = nullptr; numItem = 0; }\n",
    "    ~Queue();\n",
    "    void enqueue(char);\n",
    "    void dequeue(char &ch);\n",
    "    bool isEmpty();\n",
    "};\n",
    "\n",
    "int main()\n",
    "{\n",
    "    string str;\n",
    "    bool isPal = true;\n",
    "    cout << \"Enter a string for checking: \";\n",
    "    cin >> str;\n",
    "\n",
    "    Stack stack;\n",
    "    Queue queue;\n",
    "\n",
    "    for (int i = 0; i < str.length(); i++)\n",
    "    {\n",
    "        stack.push(str[i]);\n",
    "        queue.enqueue(str[i]);\n",
    "    }\n",
    "\n",
    "    for (int i = 0; i < str.length(); i++)\n",
    "    {\n",
    "        char temp1, temp2;\n",
    "        stack.pop(temp1);\n",
    "        queue.dequeue(temp2);\n",
    "\n",
    "        if (temp1 != temp2) { isPal = false; }\n",
    "    }\n",
    "\n",
    "    if (isPal)\n",
    "    {\n",
    "        cout << \"The string is a palindrome.\\n\";\n",
    "    }\n",
    "    else{\n",
    "        cout << \"The string is not a palindrome.\\n\";\n",
    "    }\n",
    "\n",
    "    return 0;\n",
    "}\n",
    "\n",
    "// Stack\n",
    "\n",
    "Stack::~Stack()\n",
    "{\n",
    "    if (isEmpty()) { return; }\n",
    "    else\n",
    "    {\n",
    "        char temp;\n",
    "        while (top != nullptr)\n",
    "        {\n",
    "            pop(temp);\n",
    "        }\n",
    "    }\n",
    "}\n",
    "\n",
    "void Stack::push(char ch)\n",
    "{\n",
    "    StackNode *newNode;\n",
    "    newNode = new StackNode;\n",
    "    newNode->ch = ch;\n",
    "    newNode->next = nullptr;\n",
    "\n",
    "    if (isEmpty())\n",
    "    {\n",
    "        top = newNode;\n",
    "    }\n",
    "    else\n",
    "    {\n",
    "        newNode->next = top;\n",
    "        top = newNode;\n",
    "    }\n",
    "}\n",
    "\n",
    "void Stack::pop(char &ch)\n",
    "{\n",
    "    StackNode *temp = nullptr;\n",
    "\n",
    "    if (isEmpty())\n",
    "    {\n",
    "        cout << \"The stack is empty.\\n\";\n",
    "    }\n",
    "    else\n",
    "    {\n",
    "        ch = top->ch;\n",
    "        temp = top->next;\n",
    "        delete top;\n",
    "        top = temp;\n",
    "    }\n",
    "}\n",
    "\n",
    "bool Stack::isEmpty()\n",
    "{\n",
    "    if (top == nullptr) { return true; }\n",
    "    else {  return false; }\n",
    "}\n",
    "\n",
    "// Queue\n",
    "Queue::~Queue()\n",
    "{\n",
    "    if (isEmpty()) { return; }\n",
    "    else\n",
    "    {\n",
    "        char temp;\n",
    "        while (!isEmpty()) { dequeue(temp); }\n",
    "    }\n",
    "}\n",
    "\n",
    "void Queue::enqueue(char ch)\n",
    "{\n",
    "    QueueNode *newNode;\n",
    "    newNode = new QueueNode;\n",
    "    newNode->ch = ch;\n",
    "    newNode->next = nullptr;\n",
    "\n",
    "    if (isEmpty()) { front = newNode; rear = newNode; }\n",
    "    else\n",
    "    {\n",
    "        rear->next = newNode;\n",
    "        rear = newNode;\n",
    "        numItem++;\n",
    "    }\n",
    "}\n",
    "\n",
    "void Queue::dequeue(char &ch)\n",
    "{\n",
    "    QueueNode *temp = nullptr;\n",
    "\n",
    "    if (isEmpty()) { cout << \"The queue is empty.\\n\"; }\n",
    "    else\n",
    "    {\n",
    "        ch = front->ch;\n",
    "        temp = front->next;\n",
    "        delete front;\n",
    "        front = temp;\n",
    "        numItem--;\n",
    "    }\n",
    "}\n",
    "\n",
    "bool Queue::isEmpty()\n",
    "{\n",
    "    if (numItem > 0) { return false; }\n",
    "    else\n",
    "    {\n",
    "        return true;\n",
    "    }\n",
    "}"
   ]
  },
  {
   "cell_type": "code",
   "execution_count": 56,
   "metadata": {},
   "outputs": [
    {
     "name": "stderr",
     "output_type": "stream",
     "text": [
      "c:/mingw/bin/../lib/gcc/mingw32/6.3.0/../../../../mingw32/bin/ld.exe: cannot open output file palindrome.exe: Permission denied\n",
      "collect2.exe: error: ld returned 1 exit status\n"
     ]
    },
    {
     "name": "stdout",
     "output_type": "stream",
     "text": [
      "^C\n"
     ]
    }
   ],
   "source": [
    "!g++ palindrome.cpp -o palindrome\n",
    "!.\\palindrome"
   ]
  }
 ],
 "metadata": {
  "kernelspec": {
   "display_name": "Python 3",
   "language": "python",
   "name": "python3"
  },
  "language_info": {
   "codemirror_mode": {
    "name": "ipython",
    "version": 3
   },
   "file_extension": ".py",
   "mimetype": "text/x-python",
   "name": "python",
   "nbconvert_exporter": "python",
   "pygments_lexer": "ipython3",
   "version": "3.11.3"
  }
 },
 "nbformat": 4,
 "nbformat_minor": 2
}
